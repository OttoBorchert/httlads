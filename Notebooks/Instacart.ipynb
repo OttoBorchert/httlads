{
 "cells": [
  {
   "cell_type": "markdown",
   "metadata": {},
   "source": [
    "# Instacart Market Basket Analysis\n",
    "\n",
    "Instacart is a shopping and delivery service that works with stores in your city such as whole foods or Costco or stores that are more local to your city or region.  They will pick up your order and deliver it to your door.  Consequently they have a lot of data on a lot of different shopping behavior that we can use to make predictions about future purchases or suggest items that a person may want to add to their shopping cart based on their past behavior.  Sound familiar?  This is the kind of thing that Amazon has been doing successfully for years."
   ]
  },
  {
   "cell_type": "code",
   "execution_count": 1,
   "metadata": {},
   "outputs": [
    {
     "data": {
      "text/plain": [
       "DataTransformerRegistry.enable('json')"
      ]
     },
     "execution_count": 1,
     "metadata": {},
     "output_type": "execute_result"
    }
   ],
   "source": [
    "%matplotlib inline\n",
    "\n",
    "import pandas as pd\n",
    "import matplotlib\n",
    "import matplotlib.pyplot as plt\n",
    "import numpy as np\n",
    "import seaborn as sbn\n",
    "import altair as alt\n",
    "import requests\n",
    "matplotlib.style.use('ggplot')\n",
    "sbn.set_style(\"whitegrid\")\n",
    "import json\n",
    "import pickle\n",
    "import scipy\n",
    "alt.data_transformers.enable('json')\n"
   ]
  },
  {
   "cell_type": "markdown",
   "metadata": {},
   "source": [
    "## Reading List\n",
    "\n",
    "* [Market Basket Analysis](http://pbpython.com/market-basket-analysis.html)\n",
    "* Item Item Recommender Systems\n"
   ]
  },
  {
   "cell_type": "markdown",
   "metadata": {},
   "source": [
    "## The Data\n",
    "\n",
    "This is a BIG data set.  The largest file has over 32 million rows.  \n",
    "We don't want to start there as that is crazy big.  So we have a smaller file, still\n",
    "with 1.3 million rows that we can use to start with.\n",
    "\n",
    "### aisles.csv\n",
    "\n",
    "     aisle_id,aisle  \n",
    "     1,prepared soups salads  \n",
    "     2,specialty cheeses  \n",
    "     3,energy granola bars  \n",
    "     ...\n",
    "\n",
    "### departments.csv\n",
    "\n",
    "     department_id,department  \n",
    "     1,frozen  \n",
    "     2,other  \n",
    "     3,bakery  \n",
    "     ...\n",
    "\n",
    "### order_products__prio.csv\n",
    "\n",
    "These files specify which products were purchased in each order. `order_products__prior.csv` contains previous order contents for all customers. 'reordered' indicates that the customer has a previous order that contains the product. Note that some orders will have no reordered items.  `order_products_train.csv` is much smaller (even though it has 1.3 million records) and is a better place to start.\n",
    "\n",
    "     order_id,product_id,add_to_cart_order,reordered  \n",
    "     1,49302,1,1  \n",
    "     1,11109,2,1  \n",
    "     1,10246,3,0  \n",
    "     ... \n",
    "\n",
    "### orders.csv\n",
    "\n",
    "This file tells to which set (prior, train, test) an order belongs. You are predicting reordered items only for the test set orders. 'order_dow' is the day of week.\n",
    "\n",
    "     order_id,user_id,eval_set,order_number,order_dow,order_hour_of_day,days_since_prior_order  \n",
    "     2539329,1,prior,1,2,08,  \n",
    "     2398795,1,prior,2,3,07,15.0  \n",
    "     473747,1,prior,3,3,12,21.0  \n",
    "     ...\n",
    "### products.csv\n",
    "\n",
    "     product_id,product_name,aisle_id,department_id\n",
    "     1,Chocolate Sandwich Cookies,61,19  \n",
    "     2,All-Seasons Salt,104,13  \n",
    "     3,Robust Golden Unsweetened Oolong Tea,94,7  \n",
    "     ..."
   ]
  },
  {
   "cell_type": "markdown",
   "metadata": {},
   "source": [
    "## Some exploratory data analysis questions we might do\n",
    "\n",
    "* How many unique orders do we have?\n",
    "* what is the most popular first item to add to the cart?  Does that change by day of the week?\n",
    "* What is the distribution of the number of items in the shopping cart just before checkout?\n",
    "* what is the most popular second item?\n",
    "* What department or aisle do users most frequently shop first?\n",
    "* What department or aisle do users most frequently shop last?\n",
    "* Create a bar chart of the number of itesm sold by day of the week\n",
    "* What department gets the most sales?\n",
    "* Create a chart that shows the number of items bought from each department.\n",
    "* Do most people shop linearly?  Is there a visualization that would show the path that most people take through the store?  By Aisle? By Department? -- using the order placed in shopping basket.\n",
    "\n"
   ]
  },
  {
   "cell_type": "code",
   "execution_count": null,
   "metadata": {},
   "outputs": [],
   "source": []
  },
  {
   "cell_type": "code",
   "execution_count": null,
   "metadata": {},
   "outputs": [],
   "source": []
  },
  {
   "cell_type": "code",
   "execution_count": null,
   "metadata": {},
   "outputs": [],
   "source": []
  },
  {
   "cell_type": "code",
   "execution_count": null,
   "metadata": {},
   "outputs": [],
   "source": []
  },
  {
   "cell_type": "code",
   "execution_count": null,
   "metadata": {},
   "outputs": [],
   "source": []
  },
  {
   "cell_type": "markdown",
   "metadata": {},
   "source": [
    "## Getting down to real market basket analysis\n",
    "\n",
    "The key question in market basket analysis is what products are most frequently purchased together.\n",
    "\n",
    "To answer this question we will want to build a table where each row is a product, each column is a product and the cell where two products intersect is the count of the number of times they ended up in the same shopping cart.\n",
    "\n"
   ]
  },
  {
   "cell_type": "code",
   "execution_count": 2,
   "metadata": {},
   "outputs": [
    {
     "data": {
      "text/html": [
       "<div>\n",
       "<style scoped>\n",
       "    .dataframe tbody tr th:only-of-type {\n",
       "        vertical-align: middle;\n",
       "    }\n",
       "\n",
       "    .dataframe tbody tr th {\n",
       "        vertical-align: top;\n",
       "    }\n",
       "\n",
       "    .dataframe thead th {\n",
       "        text-align: right;\n",
       "    }\n",
       "</style>\n",
       "<table border=\"1\" class=\"dataframe\">\n",
       "  <thead>\n",
       "    <tr style=\"text-align: right;\">\n",
       "      <th></th>\n",
       "      <th>doritos</th>\n",
       "      <th>oreos</th>\n",
       "      <th>snickers</th>\n",
       "    </tr>\n",
       "  </thead>\n",
       "  <tbody>\n",
       "    <tr>\n",
       "      <th>doritos</th>\n",
       "      <td>NaN</td>\n",
       "      <td>2.0</td>\n",
       "      <td>6.0</td>\n",
       "    </tr>\n",
       "    <tr>\n",
       "      <th>oreos</th>\n",
       "      <td>2.0</td>\n",
       "      <td>NaN</td>\n",
       "      <td>3.0</td>\n",
       "    </tr>\n",
       "    <tr>\n",
       "      <th>snickers</th>\n",
       "      <td>6.0</td>\n",
       "      <td>3.0</td>\n",
       "      <td>NaN</td>\n",
       "    </tr>\n",
       "  </tbody>\n",
       "</table>\n",
       "</div>"
      ],
      "text/plain": [
       "          doritos  oreos  snickers\n",
       "doritos       NaN    2.0       6.0\n",
       "oreos         2.0    NaN       3.0\n",
       "snickers      6.0    3.0       NaN"
      ]
     },
     "execution_count": 2,
     "metadata": {},
     "output_type": "execute_result"
    }
   ],
   "source": [
    "mb = pd.DataFrame({'doritos': {'oreos': 2, 'snickers':6}, 'oreos': {'doritos':2, 'snickers':3}, 'snickers': {'doritos': 6, 'oreos':3}})\n",
    "mb"
   ]
  },
  {
   "cell_type": "markdown",
   "metadata": {},
   "source": [
    "Looking at the table it is clear that doritos and snickers are most often purchased together because the total is 6.  The next most common pair is snickers and oreos that just beat out doritos and oreos."
   ]
  },
  {
   "cell_type": "markdown",
   "metadata": {},
   "source": [
    "Looking at the table that is not too hard.  We have the shopping cart data so we know what products have ended up in the same cart for thousands of carts.\n",
    "\n",
    "The challenge is that we have a table with 49,688 columns and 49,688 rows.  That means we have 2,468,897,344 (thats 2+ billion!) cells in our table.  How many of those cells do you think are empty? *Hint* Lots of them!"
   ]
  },
  {
   "cell_type": "code",
   "execution_count": 3,
   "metadata": {},
   "outputs": [
    {
     "ename": "FileNotFoundError",
     "evalue": "[Errno 2] File b'ecomm/products.csv' does not exist: b'ecomm/products.csv'",
     "output_type": "error",
     "traceback": [
      "\u001b[0;31m---------------------------------------------------------------------------\u001b[0m",
      "\u001b[0;31mFileNotFoundError\u001b[0m                         Traceback (most recent call last)",
      "\u001b[0;32m<ipython-input-3-8c69a93ce184>\u001b[0m in \u001b[0;36m<module>\u001b[0;34m\u001b[0m\n\u001b[0;32m----> 1\u001b[0;31m \u001b[0mproducts\u001b[0m \u001b[0;34m=\u001b[0m \u001b[0mpd\u001b[0m\u001b[0;34m.\u001b[0m\u001b[0mread_csv\u001b[0m\u001b[0;34m(\u001b[0m\u001b[0;34m'ecomm/products.csv'\u001b[0m\u001b[0;34m)\u001b[0m\u001b[0;34m\u001b[0m\u001b[0;34m\u001b[0m\u001b[0m\n\u001b[0m\u001b[1;32m      2\u001b[0m \u001b[0mproducts\u001b[0m\u001b[0;34m.\u001b[0m\u001b[0mhead\u001b[0m\u001b[0;34m(\u001b[0m\u001b[0;34m)\u001b[0m\u001b[0;34m\u001b[0m\u001b[0;34m\u001b[0m\u001b[0m\n",
      "\u001b[0;32m~/anaconda3/envs/research/lib/python3.7/site-packages/pandas/io/parsers.py\u001b[0m in \u001b[0;36mparser_f\u001b[0;34m(filepath_or_buffer, sep, delimiter, header, names, index_col, usecols, squeeze, prefix, mangle_dupe_cols, dtype, engine, converters, true_values, false_values, skipinitialspace, skiprows, skipfooter, nrows, na_values, keep_default_na, na_filter, verbose, skip_blank_lines, parse_dates, infer_datetime_format, keep_date_col, date_parser, dayfirst, iterator, chunksize, compression, thousands, decimal, lineterminator, quotechar, quoting, doublequote, escapechar, comment, encoding, dialect, tupleize_cols, error_bad_lines, warn_bad_lines, delim_whitespace, low_memory, memory_map, float_precision)\u001b[0m\n\u001b[1;32m    700\u001b[0m                     skip_blank_lines=skip_blank_lines)\n\u001b[1;32m    701\u001b[0m \u001b[0;34m\u001b[0m\u001b[0m\n\u001b[0;32m--> 702\u001b[0;31m         \u001b[0;32mreturn\u001b[0m \u001b[0m_read\u001b[0m\u001b[0;34m(\u001b[0m\u001b[0mfilepath_or_buffer\u001b[0m\u001b[0;34m,\u001b[0m \u001b[0mkwds\u001b[0m\u001b[0;34m)\u001b[0m\u001b[0;34m\u001b[0m\u001b[0;34m\u001b[0m\u001b[0m\n\u001b[0m\u001b[1;32m    703\u001b[0m \u001b[0;34m\u001b[0m\u001b[0m\n\u001b[1;32m    704\u001b[0m     \u001b[0mparser_f\u001b[0m\u001b[0;34m.\u001b[0m\u001b[0m__name__\u001b[0m \u001b[0;34m=\u001b[0m \u001b[0mname\u001b[0m\u001b[0;34m\u001b[0m\u001b[0;34m\u001b[0m\u001b[0m\n",
      "\u001b[0;32m~/anaconda3/envs/research/lib/python3.7/site-packages/pandas/io/parsers.py\u001b[0m in \u001b[0;36m_read\u001b[0;34m(filepath_or_buffer, kwds)\u001b[0m\n\u001b[1;32m    427\u001b[0m \u001b[0;34m\u001b[0m\u001b[0m\n\u001b[1;32m    428\u001b[0m     \u001b[0;31m# Create the parser.\u001b[0m\u001b[0;34m\u001b[0m\u001b[0;34m\u001b[0m\u001b[0;34m\u001b[0m\u001b[0m\n\u001b[0;32m--> 429\u001b[0;31m     \u001b[0mparser\u001b[0m \u001b[0;34m=\u001b[0m \u001b[0mTextFileReader\u001b[0m\u001b[0;34m(\u001b[0m\u001b[0mfilepath_or_buffer\u001b[0m\u001b[0;34m,\u001b[0m \u001b[0;34m**\u001b[0m\u001b[0mkwds\u001b[0m\u001b[0;34m)\u001b[0m\u001b[0;34m\u001b[0m\u001b[0;34m\u001b[0m\u001b[0m\n\u001b[0m\u001b[1;32m    430\u001b[0m \u001b[0;34m\u001b[0m\u001b[0m\n\u001b[1;32m    431\u001b[0m     \u001b[0;32mif\u001b[0m \u001b[0mchunksize\u001b[0m \u001b[0;32mor\u001b[0m \u001b[0miterator\u001b[0m\u001b[0;34m:\u001b[0m\u001b[0;34m\u001b[0m\u001b[0;34m\u001b[0m\u001b[0m\n",
      "\u001b[0;32m~/anaconda3/envs/research/lib/python3.7/site-packages/pandas/io/parsers.py\u001b[0m in \u001b[0;36m__init__\u001b[0;34m(self, f, engine, **kwds)\u001b[0m\n\u001b[1;32m    893\u001b[0m             \u001b[0mself\u001b[0m\u001b[0;34m.\u001b[0m\u001b[0moptions\u001b[0m\u001b[0;34m[\u001b[0m\u001b[0;34m'has_index_names'\u001b[0m\u001b[0;34m]\u001b[0m \u001b[0;34m=\u001b[0m \u001b[0mkwds\u001b[0m\u001b[0;34m[\u001b[0m\u001b[0;34m'has_index_names'\u001b[0m\u001b[0;34m]\u001b[0m\u001b[0;34m\u001b[0m\u001b[0;34m\u001b[0m\u001b[0m\n\u001b[1;32m    894\u001b[0m \u001b[0;34m\u001b[0m\u001b[0m\n\u001b[0;32m--> 895\u001b[0;31m         \u001b[0mself\u001b[0m\u001b[0;34m.\u001b[0m\u001b[0m_make_engine\u001b[0m\u001b[0;34m(\u001b[0m\u001b[0mself\u001b[0m\u001b[0;34m.\u001b[0m\u001b[0mengine\u001b[0m\u001b[0;34m)\u001b[0m\u001b[0;34m\u001b[0m\u001b[0;34m\u001b[0m\u001b[0m\n\u001b[0m\u001b[1;32m    896\u001b[0m \u001b[0;34m\u001b[0m\u001b[0m\n\u001b[1;32m    897\u001b[0m     \u001b[0;32mdef\u001b[0m \u001b[0mclose\u001b[0m\u001b[0;34m(\u001b[0m\u001b[0mself\u001b[0m\u001b[0;34m)\u001b[0m\u001b[0;34m:\u001b[0m\u001b[0;34m\u001b[0m\u001b[0;34m\u001b[0m\u001b[0m\n",
      "\u001b[0;32m~/anaconda3/envs/research/lib/python3.7/site-packages/pandas/io/parsers.py\u001b[0m in \u001b[0;36m_make_engine\u001b[0;34m(self, engine)\u001b[0m\n\u001b[1;32m   1120\u001b[0m     \u001b[0;32mdef\u001b[0m \u001b[0m_make_engine\u001b[0m\u001b[0;34m(\u001b[0m\u001b[0mself\u001b[0m\u001b[0;34m,\u001b[0m \u001b[0mengine\u001b[0m\u001b[0;34m=\u001b[0m\u001b[0;34m'c'\u001b[0m\u001b[0;34m)\u001b[0m\u001b[0;34m:\u001b[0m\u001b[0;34m\u001b[0m\u001b[0;34m\u001b[0m\u001b[0m\n\u001b[1;32m   1121\u001b[0m         \u001b[0;32mif\u001b[0m \u001b[0mengine\u001b[0m \u001b[0;34m==\u001b[0m \u001b[0;34m'c'\u001b[0m\u001b[0;34m:\u001b[0m\u001b[0;34m\u001b[0m\u001b[0;34m\u001b[0m\u001b[0m\n\u001b[0;32m-> 1122\u001b[0;31m             \u001b[0mself\u001b[0m\u001b[0;34m.\u001b[0m\u001b[0m_engine\u001b[0m \u001b[0;34m=\u001b[0m \u001b[0mCParserWrapper\u001b[0m\u001b[0;34m(\u001b[0m\u001b[0mself\u001b[0m\u001b[0;34m.\u001b[0m\u001b[0mf\u001b[0m\u001b[0;34m,\u001b[0m \u001b[0;34m**\u001b[0m\u001b[0mself\u001b[0m\u001b[0;34m.\u001b[0m\u001b[0moptions\u001b[0m\u001b[0;34m)\u001b[0m\u001b[0;34m\u001b[0m\u001b[0;34m\u001b[0m\u001b[0m\n\u001b[0m\u001b[1;32m   1123\u001b[0m         \u001b[0;32melse\u001b[0m\u001b[0;34m:\u001b[0m\u001b[0;34m\u001b[0m\u001b[0;34m\u001b[0m\u001b[0m\n\u001b[1;32m   1124\u001b[0m             \u001b[0;32mif\u001b[0m \u001b[0mengine\u001b[0m \u001b[0;34m==\u001b[0m \u001b[0;34m'python'\u001b[0m\u001b[0;34m:\u001b[0m\u001b[0;34m\u001b[0m\u001b[0;34m\u001b[0m\u001b[0m\n",
      "\u001b[0;32m~/anaconda3/envs/research/lib/python3.7/site-packages/pandas/io/parsers.py\u001b[0m in \u001b[0;36m__init__\u001b[0;34m(self, src, **kwds)\u001b[0m\n\u001b[1;32m   1851\u001b[0m         \u001b[0mkwds\u001b[0m\u001b[0;34m[\u001b[0m\u001b[0;34m'usecols'\u001b[0m\u001b[0;34m]\u001b[0m \u001b[0;34m=\u001b[0m \u001b[0mself\u001b[0m\u001b[0;34m.\u001b[0m\u001b[0musecols\u001b[0m\u001b[0;34m\u001b[0m\u001b[0;34m\u001b[0m\u001b[0m\n\u001b[1;32m   1852\u001b[0m \u001b[0;34m\u001b[0m\u001b[0m\n\u001b[0;32m-> 1853\u001b[0;31m         \u001b[0mself\u001b[0m\u001b[0;34m.\u001b[0m\u001b[0m_reader\u001b[0m \u001b[0;34m=\u001b[0m \u001b[0mparsers\u001b[0m\u001b[0;34m.\u001b[0m\u001b[0mTextReader\u001b[0m\u001b[0;34m(\u001b[0m\u001b[0msrc\u001b[0m\u001b[0;34m,\u001b[0m \u001b[0;34m**\u001b[0m\u001b[0mkwds\u001b[0m\u001b[0;34m)\u001b[0m\u001b[0;34m\u001b[0m\u001b[0;34m\u001b[0m\u001b[0m\n\u001b[0m\u001b[1;32m   1854\u001b[0m         \u001b[0mself\u001b[0m\u001b[0;34m.\u001b[0m\u001b[0munnamed_cols\u001b[0m \u001b[0;34m=\u001b[0m \u001b[0mself\u001b[0m\u001b[0;34m.\u001b[0m\u001b[0m_reader\u001b[0m\u001b[0;34m.\u001b[0m\u001b[0munnamed_cols\u001b[0m\u001b[0;34m\u001b[0m\u001b[0;34m\u001b[0m\u001b[0m\n\u001b[1;32m   1855\u001b[0m \u001b[0;34m\u001b[0m\u001b[0m\n",
      "\u001b[0;32mpandas/_libs/parsers.pyx\u001b[0m in \u001b[0;36mpandas._libs.parsers.TextReader.__cinit__\u001b[0;34m()\u001b[0m\n",
      "\u001b[0;32mpandas/_libs/parsers.pyx\u001b[0m in \u001b[0;36mpandas._libs.parsers.TextReader._setup_parser_source\u001b[0;34m()\u001b[0m\n",
      "\u001b[0;31mFileNotFoundError\u001b[0m: [Errno 2] File b'ecomm/products.csv' does not exist: b'ecomm/products.csv'"
     ]
    }
   ],
   "source": [
    "products = pd.read_csv('ecomm/products.csv')\n",
    "products.head()"
   ]
  },
  {
   "cell_type": "markdown",
   "metadata": {},
   "source": [
    "The most common operation we are going to want to use with this table is to look up a product id to get more information about the product.  So, lets make the product_id the index of the dataframe to make things faster."
   ]
  },
  {
   "cell_type": "code",
   "execution_count": 7,
   "metadata": {},
   "outputs": [],
   "source": [
    "products.set_index('product_id', inplace=True)"
   ]
  },
  {
   "cell_type": "code",
   "execution_count": 8,
   "metadata": {},
   "outputs": [
    {
     "data": {
      "text/html": [
       "<div>\n",
       "<style scoped>\n",
       "    .dataframe tbody tr th:only-of-type {\n",
       "        vertical-align: middle;\n",
       "    }\n",
       "\n",
       "    .dataframe tbody tr th {\n",
       "        vertical-align: top;\n",
       "    }\n",
       "\n",
       "    .dataframe thead th {\n",
       "        text-align: right;\n",
       "    }\n",
       "</style>\n",
       "<table border=\"1\" class=\"dataframe\">\n",
       "  <thead>\n",
       "    <tr style=\"text-align: right;\">\n",
       "      <th></th>\n",
       "      <th>product_name</th>\n",
       "      <th>aisle_id</th>\n",
       "      <th>department_id</th>\n",
       "    </tr>\n",
       "    <tr>\n",
       "      <th>product_id</th>\n",
       "      <th></th>\n",
       "      <th></th>\n",
       "      <th></th>\n",
       "    </tr>\n",
       "  </thead>\n",
       "  <tbody>\n",
       "    <tr>\n",
       "      <th>1</th>\n",
       "      <td>Chocolate Sandwich Cookies</td>\n",
       "      <td>61</td>\n",
       "      <td>19</td>\n",
       "    </tr>\n",
       "    <tr>\n",
       "      <th>2</th>\n",
       "      <td>All-Seasons Salt</td>\n",
       "      <td>104</td>\n",
       "      <td>13</td>\n",
       "    </tr>\n",
       "    <tr>\n",
       "      <th>3</th>\n",
       "      <td>Robust Golden Unsweetened Oolong Tea</td>\n",
       "      <td>94</td>\n",
       "      <td>7</td>\n",
       "    </tr>\n",
       "    <tr>\n",
       "      <th>4</th>\n",
       "      <td>Smart Ones Classic Favorites Mini Rigatoni Wit...</td>\n",
       "      <td>38</td>\n",
       "      <td>1</td>\n",
       "    </tr>\n",
       "    <tr>\n",
       "      <th>5</th>\n",
       "      <td>Green Chile Anytime Sauce</td>\n",
       "      <td>5</td>\n",
       "      <td>13</td>\n",
       "    </tr>\n",
       "  </tbody>\n",
       "</table>\n",
       "</div>"
      ],
      "text/plain": [
       "                                                 product_name  aisle_id  \\\n",
       "product_id                                                                \n",
       "1                                  Chocolate Sandwich Cookies        61   \n",
       "2                                            All-Seasons Salt       104   \n",
       "3                        Robust Golden Unsweetened Oolong Tea        94   \n",
       "4           Smart Ones Classic Favorites Mini Rigatoni Wit...        38   \n",
       "5                                   Green Chile Anytime Sauce         5   \n",
       "\n",
       "            department_id  \n",
       "product_id                 \n",
       "1                      19  \n",
       "2                      13  \n",
       "3                       7  \n",
       "4                       1  \n",
       "5                      13  "
      ]
     },
     "execution_count": 8,
     "metadata": {},
     "output_type": "execute_result"
    }
   ],
   "source": [
    "products.head()"
   ]
  },
  {
   "cell_type": "code",
   "execution_count": null,
   "metadata": {},
   "outputs": [],
   "source": []
  },
  {
   "cell_type": "code",
   "execution_count": 9,
   "metadata": {},
   "outputs": [
    {
     "data": {
      "text/plain": [
       "2468897344"
      ]
     },
     "execution_count": 9,
     "metadata": {},
     "output_type": "execute_result"
    }
   ],
   "source": [
    "len(products)**2"
   ]
  },
  {
   "cell_type": "markdown",
   "metadata": {},
   "source": [
    "## Constructing an item-item matrix\n",
    "\n",
    "To construct a matrix of the kind we showed above will take a bit of thought (and time!) So lets do some design first.\n",
    "\n",
    "1. Its a very good assumption that this data is sparse, so lets start by using a data structure that supports sparsity. -- A dictionary of dictionaries is the key to this. In fact scroll back just a bit and look carefully at how our dataframe was constructed.  You will notice a dictionary like this:\n",
    "\n",
    "        {'doritos': {'oreos': 2, 'snickers':6}, \n",
    "         'oreos': {'doritos':2, 'snickers':3}, \n",
    "         'snickers': {'doritos': 6, 'oreos':3}\n",
    "         }\n",
    "\n",
    "    If you think about it you will realise that we are storing twice as much data as we need to.  This matrix we are building is symmetric.  the value at i,j will always match the value at j,i because the order of the products is not important.\n",
    "    \n",
    "1. The primary source of our data will be the `order_products__train` data.  There the data is sorted by the order number and the order in which products were added to the cart.  We want to take each order as a group and add **all pairs** of items in a cart to the matrix.\n",
    "\n",
    "1. We can take advantage of the symmetry by ordering the products in the same cart by their product id and always using the lower number as the first index.\n",
    "\n",
    "Lets make a simple data file that matches our example and see how we can build a sparse version of it.\n",
    "\n",
    "1 = doritos\n",
    "2 = oreos\n",
    "3 = snickers"
   ]
  },
  {
   "cell_type": "raw",
   "metadata": {},
   "source": [
    "ordernum,product\n",
    "1, 1\n",
    "1, 2\n",
    "1, 3\n",
    "2, 1\n",
    "2, 3\n",
    "3, 1\n",
    "4, 1\n",
    "4, 2\n",
    "5, 1\n",
    "5, 3\n",
    "6, 1\n",
    "6, 3\n",
    "7, 1\n",
    "7, 3\n",
    "7, 3\n",
    "8, 2\n",
    "8, 3\n"
   ]
  },
  {
   "cell_type": "code",
   "execution_count": 10,
   "metadata": {},
   "outputs": [
    {
     "data": {
      "text/html": [
       "<div>\n",
       "<style scoped>\n",
       "    .dataframe tbody tr th:only-of-type {\n",
       "        vertical-align: middle;\n",
       "    }\n",
       "\n",
       "    .dataframe tbody tr th {\n",
       "        vertical-align: top;\n",
       "    }\n",
       "\n",
       "    .dataframe thead th {\n",
       "        text-align: right;\n",
       "    }\n",
       "</style>\n",
       "<table border=\"1\" class=\"dataframe\">\n",
       "  <thead>\n",
       "    <tr style=\"text-align: right;\">\n",
       "      <th></th>\n",
       "      <th>ordernum</th>\n",
       "      <th>product</th>\n",
       "    </tr>\n",
       "  </thead>\n",
       "  <tbody>\n",
       "    <tr>\n",
       "      <th>10</th>\n",
       "      <td>6</td>\n",
       "      <td>1</td>\n",
       "    </tr>\n",
       "    <tr>\n",
       "      <th>11</th>\n",
       "      <td>6</td>\n",
       "      <td>3</td>\n",
       "    </tr>\n",
       "  </tbody>\n",
       "</table>\n",
       "</div>"
      ],
      "text/plain": [
       "    ordernum  product\n",
       "10         6        1\n",
       "11         6        3"
      ]
     },
     "execution_count": 10,
     "metadata": {},
     "output_type": "execute_result"
    }
   ],
   "source": [
    "small_o = pd.read_csv('small_orders.csv')\n",
    "groups = small_o.groupby('ordernum')\n",
    "groups.get_group(6)"
   ]
  },
  {
   "cell_type": "markdown",
   "metadata": {},
   "source": [
    "The `get_group` function is awesome!  This allows us to. get a mini data frame containing only the items in one particular order.  Now if we are smart and process the items from smallest to largest we can build our dictionary based matrix no problem.\n"
   ]
  },
  {
   "cell_type": "code",
   "execution_count": 11,
   "metadata": {},
   "outputs": [
    {
     "data": {
      "text/plain": [
       "0    1\n",
       "1    2\n",
       "2    3\n",
       "Name: product, dtype: int64"
      ]
     },
     "execution_count": 11,
     "metadata": {},
     "output_type": "execute_result"
    }
   ],
   "source": [
    "groups.get_group(1)['product'].sort_values()"
   ]
  },
  {
   "cell_type": "code",
   "execution_count": 12,
   "metadata": {},
   "outputs": [
    {
     "data": {
      "text/plain": [
       "1    2\n",
       "2    3\n",
       "Name: product, dtype: int64"
      ]
     },
     "execution_count": 12,
     "metadata": {},
     "output_type": "execute_result"
    }
   ],
   "source": [
    "cart = groups.get_group(1)['product'].sort_values()\n",
    "cart.loc[1:]"
   ]
  },
  {
   "cell_type": "code",
   "execution_count": 13,
   "metadata": {},
   "outputs": [
    {
     "name": "stdout",
     "output_type": "stream",
     "text": [
      "products 1 and 2 in cart\n",
      "products 1 and 3 in cart\n",
      "products 2 and 3 in cart\n",
      "--\n",
      "products 1 and 3 in cart\n",
      "--\n",
      "--\n",
      "products 1 and 3 in cart\n",
      "--\n",
      "products 1 and 3 in cart\n",
      "--\n",
      "products 1 and 3 in cart\n",
      "--\n",
      "products 1 and 2 in cart\n",
      "products 1 and 3 in cart\n",
      "products 2 and 3 in cart\n",
      "--\n",
      "products 2 and 3 in cart\n",
      "--\n"
     ]
    }
   ],
   "source": [
    "for g in range(1,9):\n",
    "    cart = groups.get_group(g)['product'].sort_values()\n",
    "    for i in cart.index:\n",
    "        for j in cart.loc[i+1:]:\n",
    "            print(f\"products {cart[i]} and {j} in cart\")\n",
    "    print(\"--\")\n",
    "        \n",
    "    "
   ]
  },
  {
   "cell_type": "code",
   "execution_count": 14,
   "metadata": {},
   "outputs": [
    {
     "name": "stdout",
     "output_type": "stream",
     "text": [
      "{}\n",
      "1 2\n",
      "1 3\n",
      "{1: {2: 1, 3: 1}}\n",
      "2 3\n",
      "{1: {2: 1, 3: 1}, 2: {3: 1}}\n",
      "--\n",
      "{1: {2: 1, 3: 1}, 2: {3: 1}, 3: {}}\n",
      "1 3\n",
      "{1: {2: 1, 3: 2}, 2: {3: 1}, 3: {}}\n",
      "--\n",
      "{1: {2: 1, 3: 2}, 2: {3: 1}, 3: {}}\n",
      "--\n",
      "{1: {2: 1, 3: 2}, 2: {3: 1}, 3: {}}\n",
      "1 3\n",
      "{1: {2: 1, 3: 3}, 2: {3: 1}, 3: {}}\n",
      "--\n",
      "{1: {2: 1, 3: 3}, 2: {3: 1}, 3: {}}\n",
      "1 3\n",
      "{1: {2: 1, 3: 4}, 2: {3: 1}, 3: {}}\n",
      "--\n",
      "{1: {2: 1, 3: 4}, 2: {3: 1}, 3: {}}\n",
      "1 3\n",
      "{1: {2: 1, 3: 5}, 2: {3: 1}, 3: {}}\n",
      "--\n",
      "{1: {2: 1, 3: 5}, 2: {3: 1}, 3: {}}\n",
      "1 2\n",
      "1 3\n",
      "{1: {2: 2, 3: 6}, 2: {3: 1}, 3: {}}\n",
      "2 3\n",
      "{1: {2: 2, 3: 6}, 2: {3: 2}, 3: {}}\n",
      "--\n",
      "{1: {2: 2, 3: 6}, 2: {3: 2}, 3: {}}\n",
      "2 3\n",
      "{1: {2: 2, 3: 6}, 2: {3: 3}, 3: {}}\n",
      "--\n"
     ]
    },
    {
     "data": {
      "text/html": [
       "<div>\n",
       "<style scoped>\n",
       "    .dataframe tbody tr th:only-of-type {\n",
       "        vertical-align: middle;\n",
       "    }\n",
       "\n",
       "    .dataframe tbody tr th {\n",
       "        vertical-align: top;\n",
       "    }\n",
       "\n",
       "    .dataframe thead th {\n",
       "        text-align: right;\n",
       "    }\n",
       "</style>\n",
       "<table border=\"1\" class=\"dataframe\">\n",
       "  <thead>\n",
       "    <tr style=\"text-align: right;\">\n",
       "      <th></th>\n",
       "      <th>1</th>\n",
       "      <th>2</th>\n",
       "      <th>3</th>\n",
       "    </tr>\n",
       "  </thead>\n",
       "  <tbody>\n",
       "    <tr>\n",
       "      <th>2</th>\n",
       "      <td>2</td>\n",
       "      <td>NaN</td>\n",
       "      <td>NaN</td>\n",
       "    </tr>\n",
       "    <tr>\n",
       "      <th>3</th>\n",
       "      <td>6</td>\n",
       "      <td>3.0</td>\n",
       "      <td>NaN</td>\n",
       "    </tr>\n",
       "  </tbody>\n",
       "</table>\n",
       "</div>"
      ],
      "text/plain": [
       "   1    2   3\n",
       "2  2  NaN NaN\n",
       "3  6  3.0 NaN"
      ]
     },
     "execution_count": 14,
     "metadata": {},
     "output_type": "execute_result"
    }
   ],
   "source": [
    "mat = {}\n",
    "for g in range(1,9):\n",
    "    cart = groups.get_group(g)['product'].sort_values().tolist()\n",
    "    for i in range(len(cart)):\n",
    "        print(mat)\n",
    "        if cart[i] not in mat:\n",
    "            mat[cart[i]] = {}\n",
    "        for j in cart[i+1:]:\n",
    "            print(cart[i],j)\n",
    "            mat[cart[i]][j] = mat[cart[i]].get(j,0) + 1\n",
    "    print(\"--\")\n",
    "pd.DataFrame(mat)"
   ]
  },
  {
   "cell_type": "code",
   "execution_count": 15,
   "metadata": {},
   "outputs": [
    {
     "data": {
      "text/plain": [
       "{1: {2: 2, 3: 6}, 2: {3: 3}, 3: {}}"
      ]
     },
     "execution_count": 15,
     "metadata": {},
     "output_type": "execute_result"
    }
   ],
   "source": [
    "mat"
   ]
  },
  {
   "cell_type": "markdown",
   "metadata": {},
   "source": [
    "Ok, now we have a \"cooccurence matrix\" . given one product we an tell how often that product is in the same shopping cart as many others.  The matrix we have built turns out to be a \"lower triangular\" matrix because we are only storing the lower left.  The upper right is symmetric so we can save half the storage!\n",
    "\n",
    "**Important** Saving storage often comes with an additional cost in complexity.  In this case, becuase we are building a \"lower triangular\" matrix we have to be careful if we want to get all of the products that are purchased together.  We cannot just look at the column corresponding to the product and we cannot just look at the row corresponding to the product.  If we wanted to know everything purchased with product 2 we have to look at the row for 2 as well as the column for two.  The row for 2 tells us that 2 was purchased with 1 (2 times) and the column for 2 tells us that 2 was purchased with 3 (3 times).  If we kept both triangles we could look at either the row or the column.\n",
    "\n",
    "Let's build the item item matrix for the instacart data and see what we can learn!\n",
    "\n",
    "The first thing we'll need is a list of unique order ids.  In the toy example above we were able to just use a range of numbers, because we knew that the order numbers started at 1 and went sequentailly."
   ]
  },
  {
   "cell_type": "code",
   "execution_count": 16,
   "metadata": {},
   "outputs": [
    {
     "data": {
      "text/html": [
       "<div>\n",
       "<style scoped>\n",
       "    .dataframe tbody tr th:only-of-type {\n",
       "        vertical-align: middle;\n",
       "    }\n",
       "\n",
       "    .dataframe tbody tr th {\n",
       "        vertical-align: top;\n",
       "    }\n",
       "\n",
       "    .dataframe thead th {\n",
       "        text-align: right;\n",
       "    }\n",
       "</style>\n",
       "<table border=\"1\" class=\"dataframe\">\n",
       "  <thead>\n",
       "    <tr style=\"text-align: right;\">\n",
       "      <th></th>\n",
       "      <th>order_id</th>\n",
       "      <th>product_id</th>\n",
       "      <th>add_to_cart_order</th>\n",
       "      <th>reordered</th>\n",
       "    </tr>\n",
       "  </thead>\n",
       "  <tbody>\n",
       "    <tr>\n",
       "      <th>0</th>\n",
       "      <td>2</td>\n",
       "      <td>33120</td>\n",
       "      <td>1</td>\n",
       "      <td>1</td>\n",
       "    </tr>\n",
       "    <tr>\n",
       "      <th>1</th>\n",
       "      <td>2</td>\n",
       "      <td>28985</td>\n",
       "      <td>2</td>\n",
       "      <td>1</td>\n",
       "    </tr>\n",
       "    <tr>\n",
       "      <th>2</th>\n",
       "      <td>2</td>\n",
       "      <td>9327</td>\n",
       "      <td>3</td>\n",
       "      <td>0</td>\n",
       "    </tr>\n",
       "    <tr>\n",
       "      <th>3</th>\n",
       "      <td>2</td>\n",
       "      <td>45918</td>\n",
       "      <td>4</td>\n",
       "      <td>1</td>\n",
       "    </tr>\n",
       "    <tr>\n",
       "      <th>4</th>\n",
       "      <td>2</td>\n",
       "      <td>30035</td>\n",
       "      <td>5</td>\n",
       "      <td>0</td>\n",
       "    </tr>\n",
       "  </tbody>\n",
       "</table>\n",
       "</div>"
      ],
      "text/plain": [
       "   order_id  product_id  add_to_cart_order  reordered\n",
       "0         2       33120                  1          1\n",
       "1         2       28985                  2          1\n",
       "2         2        9327                  3          0\n",
       "3         2       45918                  4          1\n",
       "4         2       30035                  5          0"
      ]
     },
     "execution_count": 16,
     "metadata": {},
     "output_type": "execute_result"
    }
   ],
   "source": [
    "order_products = pd.read_csv(\"ecomm/order_products__prior.csv\")\n",
    "order_products.head()"
   ]
  },
  {
   "cell_type": "code",
   "execution_count": 17,
   "metadata": {},
   "outputs": [],
   "source": [
    "import ipywidgets\n",
    "def log_progress(sequence, every=None, size=None, name='Items'):\n",
    "    from ipywidgets import IntProgress, HTML, VBox\n",
    "    from IPython.display import display\n",
    "\n",
    "    is_iterator = False\n",
    "    if size is None:\n",
    "        try:\n",
    "            size = len(sequence)\n",
    "        except TypeError:\n",
    "            is_iterator = True\n",
    "    if size is not None:\n",
    "        if every is None:\n",
    "            if size <= 200:\n",
    "                every = 1\n",
    "            else:\n",
    "                every = int(size / 200)     # every 0.5%\n",
    "    else:\n",
    "        assert every is not None, 'sequence is iterator, set every'\n",
    "\n",
    "    if is_iterator:\n",
    "        progress = IntProgress(min=0, max=1, value=1)\n",
    "        progress.bar_style = 'info'\n",
    "    else:\n",
    "        progress = IntProgress(min=0, max=size, value=0)\n",
    "    label = HTML()\n",
    "    box = VBox(children=[label, progress])\n",
    "    display(box)\n",
    "\n",
    "    index = 0\n",
    "    try:\n",
    "        for index, record in enumerate(sequence, 1):\n",
    "            if index == 1 or index % every == 0:\n",
    "                if is_iterator:\n",
    "                    label.value = '{name}: {index} / ?'.format(\n",
    "                        name=name,\n",
    "                        index=index\n",
    "                    )\n",
    "                else:\n",
    "                    progress.value = index\n",
    "                    label.value = u'{name}: {index} / {size}'.format(\n",
    "                        name=name,\n",
    "                        index=index,\n",
    "                        size=size\n",
    "                    )\n",
    "            yield record\n",
    "    except:\n",
    "        progress.bar_style = 'danger'\n",
    "        raise\n",
    "    else:\n",
    "        progress.bar_style = 'success'\n",
    "        progress.value = index\n",
    "        label.value = \"{name}: {index}\".format(\n",
    "            name=name,\n",
    "            index=str(index or '?')\n",
    "        )"
   ]
  },
  {
   "cell_type": "code",
   "execution_count": 18,
   "metadata": {},
   "outputs": [
    {
     "data": {
      "application/vnd.jupyter.widget-view+json": {
       "model_id": "085918ad39ce41c4821aa51ef2c0138f",
       "version_major": 2,
       "version_minor": 0
      },
      "text/plain": [
       "VBox(children=(HTML(value=''), IntProgress(value=0, max=3214874)))"
      ]
     },
     "metadata": {},
     "output_type": "display_data"
    },
    {
     "name": "stdout",
     "output_type": "stream",
     "text": [
      "CPU times: user 39min 39s, sys: 21.5 s, total: 40min\n",
      "Wall time: 40min 15s\n"
     ]
    }
   ],
   "source": [
    "%%time\n",
    "\n",
    "groups = order_products.groupby('order_id')\n",
    "unique_orderids = order_products.order_id.unique()\n",
    "mat = {}\n",
    "for g in log_progress(unique_orderids, size=len(unique_orderids)):\n",
    "    cart = groups.get_group(g)['product_id'].sort_values().tolist()\n",
    "    for i in range(len(cart)):\n",
    "        if cart[i] not in mat:\n",
    "            mat[cart[i]] = {}\n",
    "        for j in cart[i+1:]:\n",
    "            mat[cart[i]][j] = mat[cart[i]].get(j,0) + 1\n"
   ]
  },
  {
   "cell_type": "markdown",
   "metadata": {},
   "source": [
    "A bit of analysis revealed that there are are HUGE number of entries in the matrix that are a count of 1.  These 1 time \"co-purchases\" don't give us much useful information for recommending products, so lets save some memory and remove them.\n",
    "\n",
    "You can't remove things from a dictionary while you are iterating over a dictionary.  So we will need to make a list of keys to remove in one pass and then delete them later."
   ]
  },
  {
   "cell_type": "code",
   "execution_count": 19,
   "metadata": {
    "lines_to_next_cell": 0
   },
   "outputs": [
    {
     "data": {
      "text/plain": [
       "21944168"
      ]
     },
     "execution_count": 19,
     "metadata": {},
     "output_type": "execute_result"
    }
   ],
   "source": [
    "delkeys = []\n",
    "for i in mat.keys():\n",
    "    for k,v in mat[i].items():\n",
    "        if v == 1:\n",
    "            delkeys.append((i,k))\n",
    "\n",
    "len(delkeys)"
   ]
  },
  {
   "cell_type": "markdown",
   "metadata": {},
   "source": [
    "Yep, 21.9 million entries in our matrix are 1's"
   ]
  },
  {
   "cell_type": "code",
   "execution_count": 21,
   "metadata": {},
   "outputs": [],
   "source": [
    "for i,j in delkeys:\n",
    "    del mat[i][j]"
   ]
  },
  {
   "cell_type": "code",
   "execution_count": 22,
   "metadata": {},
   "outputs": [
    {
     "name": "stdout",
     "output_type": "stream",
     "text": [
      "CPU times: user 10min 55s, sys: 33.8 s, total: 11min 29s\n",
      "Wall time: 11min 41s\n"
     ]
    }
   ],
   "source": [
    "%%time\n",
    "\n",
    "smat = pd.SparseDataFrame(mat)\n",
    "smat.head()"
   ]
  },
  {
   "cell_type": "markdown",
   "metadata": {},
   "source": [
    "We can check on the density of our sparse data structure by looking at its density attribute."
   ]
  },
  {
   "cell_type": "code",
   "execution_count": 23,
   "metadata": {},
   "outputs": [
    {
     "data": {
      "text/plain": [
       "0.008275774966857377"
      ]
     },
     "execution_count": 23,
     "metadata": {},
     "output_type": "execute_result"
    }
   ],
   "source": [
    "smat.density"
   ]
  },
  {
   "cell_type": "markdown",
   "metadata": {},
   "source": [
    "And we see that it is only 0.8% full!  "
   ]
  },
  {
   "cell_type": "markdown",
   "metadata": {},
   "source": [
    "We can use idxmax to give us a series that for each column tells us the row with the maximum value for that column."
   ]
  },
  {
   "cell_type": "code",
   "execution_count": 24,
   "metadata": {},
   "outputs": [],
   "source": [
    "maxcols = smat.idxmax()\n",
    "maxcols = maxcols.dropna()"
   ]
  },
  {
   "cell_type": "code",
   "execution_count": 25,
   "metadata": {},
   "outputs": [
    {
     "name": "stdout",
     "output_type": "stream",
     "text": [
      "CPU times: user 1.46 s, sys: 1.86 s, total: 3.32 s\n",
      "Wall time: 5.95 s\n"
     ]
    }
   ],
   "source": [
    "%%time\n",
    "\n",
    "maxcc = 0\n",
    "maxrow = None\n",
    "maxcol = None\n",
    "for col, row in maxcols.astype(int).iteritems():\n",
    "    if smat.loc[row, col] > maxcc:\n",
    "        maxrow = row\n",
    "        maxcol = col\n",
    "        maxcc = smat.loc[row,col]\n"
   ]
  },
  {
   "cell_type": "code",
   "execution_count": 26,
   "metadata": {},
   "outputs": [
    {
     "data": {
      "text/plain": [
       "62341.0"
      ]
     },
     "execution_count": 26,
     "metadata": {},
     "output_type": "execute_result"
    }
   ],
   "source": [
    "maxcc"
   ]
  },
  {
   "cell_type": "code",
   "execution_count": 27,
   "metadata": {},
   "outputs": [
    {
     "data": {
      "text/plain": [
       "47209"
      ]
     },
     "execution_count": 27,
     "metadata": {},
     "output_type": "execute_result"
    }
   ],
   "source": [
    "maxrow"
   ]
  },
  {
   "cell_type": "code",
   "execution_count": 28,
   "metadata": {},
   "outputs": [
    {
     "data": {
      "text/plain": [
       "13176"
      ]
     },
     "execution_count": 28,
     "metadata": {},
     "output_type": "execute_result"
    }
   ],
   "source": [
    "maxcol"
   ]
  },
  {
   "cell_type": "markdown",
   "metadata": {},
   "source": [
    "### Testing our item-item matrix\n",
    "\n",
    "Let's test the matrix by doing some exploring.  What are the two products most commonly purchased together?\n",
    "\n"
   ]
  },
  {
   "cell_type": "code",
   "execution_count": 29,
   "metadata": {},
   "outputs": [
    {
     "name": "stdout",
     "output_type": "stream",
     "text": [
      "product 47209 was purchased with 13176 62341.0 times\n"
     ]
    }
   ],
   "source": [
    "print(f\"product {maxrow} was purchased with {maxcol} {maxcc} times\")\n",
    "\n"
   ]
  },
  {
   "cell_type": "markdown",
   "metadata": {},
   "source": [
    "Because we were smart before and made the product_id the index of the products table we can use this nice lookup syntax to get the product name!"
   ]
  },
  {
   "cell_type": "code",
   "execution_count": 30,
   "metadata": {
    "scrolled": true
   },
   "outputs": [
    {
     "data": {
      "text/plain": [
       "'Organic Hass Avocado'"
      ]
     },
     "execution_count": 30,
     "metadata": {},
     "output_type": "execute_result"
    }
   ],
   "source": [
    "products.loc[maxrow, 'product_name']"
   ]
  },
  {
   "cell_type": "code",
   "execution_count": 31,
   "metadata": {},
   "outputs": [
    {
     "data": {
      "text/plain": [
       "'Bag of Organic Bananas'"
      ]
     },
     "execution_count": 31,
     "metadata": {},
     "output_type": "execute_result"
    }
   ],
   "source": [
    "products.loc[maxcol, 'product_name']"
   ]
  },
  {
   "cell_type": "code",
   "execution_count": 38,
   "metadata": {},
   "outputs": [],
   "source": [
    "def get_product_byid(df, idx):\n",
    "    return df.loc[idx].product_name"
   ]
  },
  {
   "cell_type": "markdown",
   "metadata": {},
   "source": [
    "OK, so now lets see what our real data has to say about the products that are bought with Doritos.\n",
    "\n"
   ]
  },
  {
   "cell_type": "code",
   "execution_count": 32,
   "metadata": {},
   "outputs": [
    {
     "data": {
      "text/html": [
       "<div>\n",
       "<style scoped>\n",
       "    .dataframe tbody tr th:only-of-type {\n",
       "        vertical-align: middle;\n",
       "    }\n",
       "\n",
       "    .dataframe tbody tr th {\n",
       "        vertical-align: top;\n",
       "    }\n",
       "\n",
       "    .dataframe thead th {\n",
       "        text-align: right;\n",
       "    }\n",
       "</style>\n",
       "<table border=\"1\" class=\"dataframe\">\n",
       "  <thead>\n",
       "    <tr style=\"text-align: right;\">\n",
       "      <th></th>\n",
       "      <th>product_name</th>\n",
       "      <th>aisle_id</th>\n",
       "      <th>department_id</th>\n",
       "    </tr>\n",
       "    <tr>\n",
       "      <th>product_id</th>\n",
       "      <th></th>\n",
       "      <th></th>\n",
       "      <th></th>\n",
       "    </tr>\n",
       "  </thead>\n",
       "  <tbody>\n",
       "    <tr>\n",
       "      <th>2144</th>\n",
       "      <td>Doritos</td>\n",
       "      <td>107</td>\n",
       "      <td>19</td>\n",
       "    </tr>\n",
       "    <tr>\n",
       "      <th>12540</th>\n",
       "      <td>Doritos Nacho Cheese Sandwich Crackers</td>\n",
       "      <td>78</td>\n",
       "      <td>19</td>\n",
       "    </tr>\n",
       "    <tr>\n",
       "      <th>42541</th>\n",
       "      <td>Cheetos Flamin' Hot &amp; Doritos Dinamita Chile L...</td>\n",
       "      <td>107</td>\n",
       "      <td>19</td>\n",
       "    </tr>\n",
       "  </tbody>\n",
       "</table>\n",
       "</div>"
      ],
      "text/plain": [
       "                                                 product_name  aisle_id  \\\n",
       "product_id                                                                \n",
       "2144                                                  Doritos       107   \n",
       "12540                  Doritos Nacho Cheese Sandwich Crackers        78   \n",
       "42541       Cheetos Flamin' Hot & Doritos Dinamita Chile L...       107   \n",
       "\n",
       "            department_id  \n",
       "product_id                 \n",
       "2144                   19  \n",
       "12540                  19  \n",
       "42541                  19  "
      ]
     },
     "execution_count": 32,
     "metadata": {},
     "output_type": "execute_result"
    }
   ],
   "source": [
    "products[products.product_name.str.contains('Dorito')]"
   ]
  },
  {
   "cell_type": "code",
   "execution_count": 33,
   "metadata": {},
   "outputs": [],
   "source": [
    "def get_product_count(sp_mat, ix1, ix2):\n",
    "    if ix1 > ix2:\n",
    "        return sp_mat.loc[ix1, ix2]\n",
    "    else:\n",
    "        return sp_mat.loc[ix2, ix1]"
   ]
  },
  {
   "cell_type": "code",
   "execution_count": 34,
   "metadata": {},
   "outputs": [
    {
     "data": {
      "text/plain": [
       "62341.0"
      ]
     },
     "execution_count": 34,
     "metadata": {},
     "output_type": "execute_result"
    }
   ],
   "source": [
    "get_product_count(smat, 47209, 13176)"
   ]
  },
  {
   "cell_type": "code",
   "execution_count": 35,
   "metadata": {},
   "outputs": [],
   "source": [
    "def get_all_cocart(sp_mat, pid):\n",
    "    \"\"\"\n",
    "    Return a Pandas series where the index is the product id of products that were in\n",
    "    the same shopping cart.  The value indicates the count of those times.\n",
    "    remove the NA's\n",
    "    \"\"\"\n",
    "    return pd.concat((sp_mat[pid], sp_mat.loc[pid])).dropna()"
   ]
  },
  {
   "cell_type": "code",
   "execution_count": 36,
   "metadata": {},
   "outputs": [
    {
     "data": {
      "text/plain": [
       "24852    68.0\n",
       "16797    41.0\n",
       "19734    34.0\n",
       "16696    25.0\n",
       "23909    25.0\n",
       "45064    24.0\n",
       "28199    23.0\n",
       "10673    21.0\n",
       "17122    21.0\n",
       "13249    17.0\n",
       "Name: 2144, dtype: float64"
      ]
     },
     "execution_count": 36,
     "metadata": {},
     "output_type": "execute_result"
    }
   ],
   "source": [
    "get_all_cocart(smat, 2144).nlargest(10)"
   ]
  },
  {
   "cell_type": "code",
   "execution_count": 39,
   "metadata": {},
   "outputs": [
    {
     "name": "stdout",
     "output_type": "stream",
     "text": [
      "Banana 68.0\n",
      "Strawberries 41.0\n",
      "Classic Mix Variety 34.0\n",
      "Coke Classic 25.0\n",
      "2% Reduced Fat Milk 25.0\n",
      "Honey Wheat Bread 24.0\n",
      "Clementines, Bag 23.0\n",
      "Original Nooks & Crannies English Muffins 21.0\n",
      "Honeycrisp Apples 21.0\n",
      "Skim Milk 17.0\n"
     ]
    }
   ],
   "source": [
    "for idx, val in get_all_cocart(smat, 2144).nlargest(10).iteritems():\n",
    "    print(get_product_byid(products,idx), val)\n"
   ]
  },
  {
   "cell_type": "code",
   "execution_count": 40,
   "metadata": {},
   "outputs": [
    {
     "data": {
      "text/plain": [
       "'Doritos'"
      ]
     },
     "execution_count": 40,
     "metadata": {},
     "output_type": "execute_result"
    }
   ],
   "source": [
    "get_product_byid(products, 2144)"
   ]
  },
  {
   "cell_type": "code",
   "execution_count": 41,
   "metadata": {},
   "outputs": [],
   "source": [
    "def product_search(df, name):\n",
    "    prods = df.product_name.str.lower()\n",
    "    return df[prods.str.contains(name)].product_name\n"
   ]
  },
  {
   "cell_type": "code",
   "execution_count": 42,
   "metadata": {},
   "outputs": [
    {
     "data": {
      "text/plain": [
       "product_id\n",
       "15                                Overnight Diapers Size 6\n",
       "682                   Cruisers Diapers Jumbo Pack - Size 5\n",
       "765              Swaddlers Diapers Jumbo Pack Size Newborn\n",
       "879                                Baby Dry Diapers Size 4\n",
       "1304              Little Movers Comfort Fit Size 3 Diapers\n",
       "1716     Baby Dry Pampers Baby Dry Diapers Size 5 78 Co...\n",
       "3087              Baby Dry Pampers Baby Dry Diapers Size 2\n",
       "3277                 Overnight Diapers Sleepy Sheep Size 4\n",
       "4630     Baby Dry Pampers Baby Dry Newborn Diapers Size...\n",
       "5444     Little Snugglers Jumbo Pack Size 2 Disney Diap...\n",
       "5657                              Baby Dry Diapers  Size 5\n",
       "5897                               Baby Dry Diapers Size 3\n",
       "6401               Tender Care Diapers Jumbo Pack - Size 4\n",
       "6986     Diapers, Overnight, Free & Clear, Size 6 (35+ ...\n",
       "7487                              Swaddlers Diapers Size 1\n",
       "7489                   Swaddlers Size 4 Giant Pack Diapers\n",
       "8102                         Naty Diapers Size 1, 8-14 lbs\n",
       "9121                    Diapers Cruisers Size 4 Super Pack\n",
       "9356                              Swaddlers Size 2 Diapers\n",
       "9482                                        Diapers Size 1\n",
       "9927                             Size 4 Snug & Dry Diapers\n",
       "10011                                  Baby Diapers Size 2\n",
       "10420                                Honest Diapers Size 4\n",
       "11660                         Tribal Pastel Size 3 Diapers\n",
       "11745    Swaddlers Sensitive Diapers Jumbo Pack Size Ne...\n",
       "11922    Pants Pampers Easy Ups Training Pants Boys Siz...\n",
       "12340                     Free & Clear Size 4 Baby Diapers\n",
       "13377                    Swaddlers Diapers Jumbo Pack Size\n",
       "13801                Free & Clear Overnight Diapers Size 5\n",
       "14009                      Snug & Dry Diapers Step 1 Jumbo\n",
       "                               ...                        \n",
       "35954           Little Movers Diapers, Giant Pack - Size 5\n",
       "36200                      Baby Dry Diapers Size 6 Diapers\n",
       "36453                             Size 3 M  Skulls Diapers\n",
       "36831                  Cruisers Diapers Giant Pack, Size 6\n",
       "37172                                       Size 4 Diapers\n",
       "37872     Free & Clear Size 4 22-37 Lbs Disposable Diapers\n",
       "37949                  Diapers Swaddlers Size 2 (12-18 lb)\n",
       "38365                   Size 5 Cruisers Diapers Super Pack\n",
       "38899                         Little Movers Size 3 Diapers\n",
       "40110                            Giraffes Diapers Size 4 L\n",
       "40343                 Baby Dry Diapers Giant Pack - Size 6\n",
       "40355                   Baby Dry Size 4 Disposable Diapers\n",
       "40537          Free & Clear Stage 1 8-14 Lbs. Baby Diapers\n",
       "40916                                       Size 2 Diapers\n",
       "41393                              Baby Dry Size 4 Diapers\n",
       "41475                   Baby Dry Diapers Jumbo Pack Size 4\n",
       "41595                            Snug & Dry Size 2 Diapers\n",
       "41705                                Honest Diapers Size 3\n",
       "42923           Baby Free & Clear Size 3 16-28 Lbs Diapers\n",
       "43217    Honest Diapers Eco-Friendly & Premium Diapers ...\n",
       "43481                  Cruisers Diapers Jumbo Pack  Size 3\n",
       "43989                            Cruisers Diapers - Size 6\n",
       "44950                 Swaddlers Diapers Super Pack, Size 3\n",
       "45786            Little Movers Diapers Giant Pack - Size 3\n",
       "46583                       Tribal Pastel Size 4/L Diapers\n",
       "46599    Ultra Leakguards Value Pack Diapers Size 3 (16...\n",
       "46608       Free & Clear Newborn Up To 10 lbs Baby Diapers\n",
       "47578                                              Diapers\n",
       "47632                                       Honest Diapers\n",
       "48263                                Honest Diapers Size 5\n",
       "Name: product_name, Length: 93, dtype: object"
      ]
     },
     "execution_count": 42,
     "metadata": {},
     "output_type": "execute_result"
    }
   ],
   "source": [
    "product_search(products, 'diapers')"
   ]
  },
  {
   "cell_type": "code",
   "execution_count": 43,
   "metadata": {},
   "outputs": [
    {
     "name": "stdout",
     "output_type": "stream",
     "text": [
      "Strawberries 13.0\n",
      "Banana 13.0\n",
      "Zero Rise Orange 7.0\n",
      "Organic Fuji Apple 7.0\n",
      "Baby Fresh Pampers Baby Wipes Baby Fresh 1X 64 count  Baby Wipes 6.0\n",
      "Black Beans 6.0\n",
      "Honey Nut Cheerios 6.0\n",
      "Baby Wipes Sensitive 6.0\n",
      "Select-A-Size Paper Towels, White, 2 Huge Rolls = 5 Regular Rolls  Towels/Napkins 5.0\n",
      "Peach Yoghurt 5.0\n"
     ]
    }
   ],
   "source": [
    "# snickers - 14261\n",
    "\n",
    "for idx, val in get_all_cocart(smat, 682).nlargest(10).iteritems():\n",
    "    print(get_product_byid(products,idx), val)"
   ]
  },
  {
   "cell_type": "markdown",
   "metadata": {},
   "source": [
    "## Cleaning up and saving\n",
    "\n",
    "Since building the item-item matrix takes some time we should save it in a format that is convenient for us to reload so we don't need to remake it every time.\n",
    "\n",
    "We can probably reduce the size of our sparse matrix by eliminating all of the cells with a count of 1.  That doesn't really tell us anything that we would want to use in making a recommendation.\n",
    "\n",
    "We can also eliminate our original dictionary \n",
    "\n"
   ]
  },
  {
   "cell_type": "code",
   "execution_count": 44,
   "metadata": {},
   "outputs": [],
   "source": [
    "smat.to_pickle('item_item.pkl')\n"
   ]
  },
  {
   "cell_type": "markdown",
   "metadata": {},
   "source": [
    "### Understanding the item-item matrix\n",
    "\n",
    "This kind of shopping cart analysis is useful in many areas.  Whether it is news articles, stocks, search terms, or products this kind of recommender is widely used\n",
    "\n",
    "* Create a histogram that shows the distribution of the shopping cart co-occurence counts.\n",
    "\n",
    "* How many items in this item-item matrix contain a count of 1.  That is probably not good information and you could save a lot more memory by deleting all of the items with a count of 1 from smat.\n",
    "\n",
    "* Can you make a visualization of this item-item matrix?"
   ]
  },
  {
   "cell_type": "code",
   "execution_count": 45,
   "metadata": {},
   "outputs": [],
   "source": [
    "forhist = pd.DataFrame({'allvals': smat.values.flatten()})\n"
   ]
  },
  {
   "cell_type": "code",
   "execution_count": 46,
   "metadata": {},
   "outputs": [],
   "source": [
    "forhist = forhist.dropna()\n"
   ]
  },
  {
   "cell_type": "code",
   "execution_count": 47,
   "metadata": {},
   "outputs": [
    {
     "data": {
      "application/vnd.vegalite.v2+json": {
       "$schema": "https://vega.github.io/schema/vega-lite/v2.6.0.json",
       "config": {
        "view": {
         "height": 300,
         "width": 400
        }
       },
       "data": {
        "format": {
         "type": "json"
        },
        "url": "altair-data-5540e34f5806cc0fdf0d77dbbf85b543.json"
       },
       "encoding": {
        "x": {
         "bin": true,
         "field": "allvals",
         "type": "quantitative"
        },
        "y": {
         "aggregate": "count",
         "type": "quantitative"
        }
       },
       "mark": "bar"
      },
      "image/png": "[encoded data removed]",
      "text/plain": [
       "<VegaLite 2 object>\n",
       "\n",
       "If you see this message, it means the renderer has not been properly enabled\n",
       "for the frontend that you are using. For more information, see\n",
       "https://altair-viz.github.io/user_guide/troubleshooting.html\n"
      ]
     },
     "execution_count": 47,
     "metadata": {},
     "output_type": "execute_result"
    }
   ],
   "source": [
    "alt.Chart(forhist).mark_bar().encode(x=alt.X('allvals', bin=True),y='count()')"
   ]
  },
  {
   "cell_type": "markdown",
   "metadata": {},
   "source": [
    "### Experimenting with item-item recommendations\n",
    "\n",
    "* The histogram above shows that the vast majority of the items are in the 0-200 co-occurence range.  But the items purchased together outside that big bar are interesting.  Write a function to print out the item pairs that have been in the same shopping cart more than 200 times.\n",
    "\n",
    "* Re-do the histogram so that it focuses in on the products that have between 0 and 200 co-occurrences.  \n",
    "\n",
    "* Write a function called top_n that takes a product name to search for, allows the user to select the best match and then returns the topn recommendatons for products that have been purchased with the selected item."
   ]
  },
  {
   "cell_type": "markdown",
   "metadata": {},
   "source": [
    "* Write a function that takes a product id as its parameter and then recommends the top10 products to go with the given product but from the same department or same aisle.\n",
    "\n",
    "* One of the problems with a recommender like this one is that it tends to recommend a lot of popular items.  We might call this the bananna problem in this dataset!  Can you devise a strategy to recommend things that are not just the popular things?\n",
    "\n",
    "* Design an experiment whereby you can train an item-item model like we have done above and then test it.  Perhaps in the training set you withold that last item added to the shopping cart to see how frequently you can predict the last item based on the first items.\n",
    "\n",
    "* Challenge - The original collaborative filtering recommender system was not item-item like this was.  It was user-user where the recommendations came from finding a group of users similar to the subject user based on their ratings or purchase behavior.  The system would then recommend items to the subject user based on items that their similar users had purchased but the subject had not.  Can you write such a recommender and devise an experiment to compare it to the item-item recommender?\n"
   ]
  },
  {
   "cell_type": "code",
   "execution_count": null,
   "metadata": {
    "lines_to_next_cell": 0
   },
   "outputs": [],
   "source": []
  },
  {
   "cell_type": "markdown",
   "metadata": {},
   "source": [
    "\n",
    "\n"
   ]
  },
  {
   "cell_type": "code",
   "execution_count": null,
   "metadata": {},
   "outputs": [],
   "source": []
  },
  {
   "cell_type": "markdown",
   "metadata": {},
   "source": [
    "## Visualizing Grocery Data\n",
    "\n",
    "* How can we show top combinations of two things?\n",
    "\n",
    "* Visualize the flow from department to department or from aisle to aisle.\n",
    "\n",
    "* You can get some inspiration from https://python-graph-gallery.com/\n",
    "\n",
    "\n",
    "To accomplish this you will have to dig into some new packages that we have not used in class.  But this is all part of the process.\n",
    "\n"
   ]
  },
  {
   "cell_type": "markdown",
   "metadata": {},
   "source": [
    "We need to create square adjacency matrix -- Aisle to Aisle.  We'll use this to build our chord diagram and other graph like visualizations.\n",
    "\n",
    "0. Merge the order_product data frame with the aisle data frame so we have the aisle number for each product. (we can drop the aisle name to save memory)\n",
    "1. Iterate over each order\n",
    "2. Order the order by add_to_cart_order\n",
    "3. Increase the count in from aisle (row) to to aisle (column) - this is a directed graph.\n",
    "\n",
    "\n",
    "\n",
    "\n",
    "\n"
   ]
  },
  {
   "cell_type": "code",
   "execution_count": 16,
   "metadata": {},
   "outputs": [],
   "source": [
    "aisle_mat = pd.DataFrame(0, index=range(1,135),columns=range(1,135))"
   ]
  },
  {
   "cell_type": "code",
   "execution_count": 17,
   "metadata": {},
   "outputs": [],
   "source": [
    "flowdf = op.merge(products, on='product_id').merge(adf, on='aisle_id')\n"
   ]
  },
  {
   "cell_type": "code",
   "execution_count": 18,
   "metadata": {},
   "outputs": [
    {
     "name": "stdout",
     "output_type": "stream",
     "text": [
      "CPU times: user 3h 4min 26s, sys: 2min 7s, total: 3h 6min 34s\n",
      "Wall time: 3h 11min 18s\n"
     ]
    }
   ],
   "source": [
    "%%time\n",
    "\n",
    "tco = flowdf.groupby('order_id')\n",
    "for order in tco.groups.keys():\n",
    "    contents = tco.get_group(order).sort_values('add_to_cart_order')\n",
    "    rowit = contents.iterrows()\n",
    "    start_aisle = next(rowit)[1]['aisle_id']\n",
    "    for ix, row in rowit:\n",
    "        #print(start_aisle, row['aisle_id'])\n",
    "        try:\n",
    "            aisle_mat.loc[start_aisle][row['aisle_id']] += 1\n",
    "        except:\n",
    "            print(\"bad index\", start_aisle, row['aisle_id'], type(start_aisle), type(row['aisle_id']))\n",
    "        start_aisle = row['aisle_id']\n",
    "        \n",
    "\n",
    "    "
   ]
  },
  {
   "cell_type": "code",
   "execution_count": 20,
   "metadata": {},
   "outputs": [],
   "source": [
    "aisle_mat.to_csv('aisle_mat.csv')"
   ]
  },
  {
   "cell_type": "code",
   "execution_count": null,
   "metadata": {},
   "outputs": [],
   "source": [
    "for ix, row in contents.iterrows():\n",
    "    print(row['product_id'], row['aisle_id'])"
   ]
  },
  {
   "cell_type": "code",
   "execution_count": null,
   "metadata": {},
   "outputs": [],
   "source": [
    "x = contents.iterrows()\n",
    "next(x)[1]['aisle_id']"
   ]
  },
  {
   "cell_type": "code",
   "execution_count": null,
   "metadata": {},
   "outputs": [],
   "source": [
    "for i, j in x:\n",
    "    print(j['product_id'])"
   ]
  },
  {
   "cell_type": "code",
   "execution_count": 21,
   "metadata": {},
   "outputs": [
    {
     "data": {
      "text/plain": [
       "<matplotlib.axes._subplots.AxesSubplot at 0x22a687e48>"
      ]
     },
     "execution_count": 21,
     "metadata": {},
     "output_type": "execute_result"
    },
    {
     "data": {
      "image/png": "[encoded data removed]",
      "text/plain": [
       "<matplotlib.figure.Figure at 0x22aa69c88>"
      ]
     },
     "metadata": {},
     "output_type": "display_data"
    }
   ],
   "source": [
    "sbn.heatmap(aisle_mat)"
   ]
  },
  {
   "cell_type": "markdown",
   "metadata": {},
   "source": [
    "Looks like a lot of small values!   Lets make a histogram of the whole thing and see.\n"
   ]
  },
  {
   "cell_type": "code",
   "execution_count": 22,
   "metadata": {},
   "outputs": [],
   "source": [
    "#plt.hist(aisle_mat.values.flatten(),bins=100)"
   ]
  },
  {
   "cell_type": "code",
   "execution_count": 114,
   "metadata": {},
   "outputs": [],
   "source": [
    "for i in range(1,135):\n",
    "    aisle_mat.loc[i][i] = 0"
   ]
  },
  {
   "cell_type": "code",
   "execution_count": 116,
   "metadata": {},
   "outputs": [],
   "source": [
    "x = aisle_mat.values.flatten()\n"
   ]
  },
  {
   "cell_type": "code",
   "execution_count": 117,
   "metadata": {},
   "outputs": [],
   "source": [
    "sall = aisle_mat.values.sum()"
   ]
  },
  {
   "cell_type": "code",
   "execution_count": 118,
   "metadata": {},
   "outputs": [],
   "source": [
    "y = aisle_mat.applymap(lambda x: x/sall)"
   ]
  },
  {
   "cell_type": "code",
   "execution_count": 119,
   "metadata": {},
   "outputs": [],
   "source": [
    "z = y.applymap(lambda x: x if x > 0.001 else np.nan)"
   ]
  },
  {
   "cell_type": "code",
   "execution_count": 120,
   "metadata": {},
   "outputs": [
    {
     "data": {
      "text/plain": [
       "<matplotlib.axes._subplots.AxesSubplot at 0x386ea27f0>"
      ]
     },
     "execution_count": 120,
     "metadata": {},
     "output_type": "execute_result"
    },
    {
     "data": {
      "image/png": "[encoded data removed]",
      "text/plain": [
       "<matplotlib.figure.Figure at 0x386892c50>"
      ]
     },
     "metadata": {},
     "output_type": "display_data"
    }
   ],
   "source": [
    "sbn.heatmap(z)"
   ]
  },
  {
   "cell_type": "code",
   "execution_count": 13,
   "metadata": {},
   "outputs": [],
   "source": [
    "aisle_mat = pd.read_csv('aisle_mat.csv',index_col='aid')"
   ]
  },
  {
   "cell_type": "code",
   "execution_count": 14,
   "metadata": {},
   "outputs": [
    {
     "data": {
      "text/html": [
       "<div>\n",
       "<style scoped>\n",
       "    .dataframe tbody tr th:only-of-type {\n",
       "        vertical-align: middle;\n",
       "    }\n",
       "\n",
       "    .dataframe tbody tr th {\n",
       "        vertical-align: top;\n",
       "    }\n",
       "\n",
       "    .dataframe thead th {\n",
       "        text-align: right;\n",
       "    }\n",
       "</style>\n",
       "<table border=\"1\" class=\"dataframe\">\n",
       "  <thead>\n",
       "    <tr style=\"text-align: right;\">\n",
       "      <th></th>\n",
       "      <th>1</th>\n",
       "      <th>2</th>\n",
       "      <th>3</th>\n",
       "      <th>4</th>\n",
       "      <th>5</th>\n",
       "      <th>6</th>\n",
       "      <th>7</th>\n",
       "      <th>8</th>\n",
       "      <th>9</th>\n",
       "      <th>10</th>\n",
       "      <th>...</th>\n",
       "      <th>125</th>\n",
       "      <th>126</th>\n",
       "      <th>127</th>\n",
       "      <th>128</th>\n",
       "      <th>129</th>\n",
       "      <th>130</th>\n",
       "      <th>131</th>\n",
       "      <th>132</th>\n",
       "      <th>133</th>\n",
       "      <th>134</th>\n",
       "    </tr>\n",
       "    <tr>\n",
       "      <th>aid</th>\n",
       "      <th></th>\n",
       "      <th></th>\n",
       "      <th></th>\n",
       "      <th></th>\n",
       "      <th></th>\n",
       "      <th></th>\n",
       "      <th></th>\n",
       "      <th></th>\n",
       "      <th></th>\n",
       "      <th></th>\n",
       "      <th></th>\n",
       "      <th></th>\n",
       "      <th></th>\n",
       "      <th></th>\n",
       "      <th></th>\n",
       "      <th></th>\n",
       "      <th></th>\n",
       "      <th></th>\n",
       "      <th></th>\n",
       "      <th></th>\n",
       "      <th></th>\n",
       "    </tr>\n",
       "  </thead>\n",
       "  <tbody>\n",
       "    <tr>\n",
       "      <th>1</th>\n",
       "      <td>5151</td>\n",
       "      <td>177</td>\n",
       "      <td>621</td>\n",
       "      <td>362</td>\n",
       "      <td>83</td>\n",
       "      <td>74</td>\n",
       "      <td>56</td>\n",
       "      <td>152</td>\n",
       "      <td>336</td>\n",
       "      <td>8</td>\n",
       "      <td>...</td>\n",
       "      <td>54</td>\n",
       "      <td>20</td>\n",
       "      <td>30</td>\n",
       "      <td>401</td>\n",
       "      <td>388</td>\n",
       "      <td>205</td>\n",
       "      <td>344</td>\n",
       "      <td>8</td>\n",
       "      <td>19</td>\n",
       "      <td>12</td>\n",
       "    </tr>\n",
       "    <tr>\n",
       "      <th>2</th>\n",
       "      <td>216</td>\n",
       "      <td>2692</td>\n",
       "      <td>464</td>\n",
       "      <td>387</td>\n",
       "      <td>168</td>\n",
       "      <td>62</td>\n",
       "      <td>152</td>\n",
       "      <td>88</td>\n",
       "      <td>882</td>\n",
       "      <td>20</td>\n",
       "      <td>...</td>\n",
       "      <td>34</td>\n",
       "      <td>30</td>\n",
       "      <td>52</td>\n",
       "      <td>602</td>\n",
       "      <td>322</td>\n",
       "      <td>218</td>\n",
       "      <td>933</td>\n",
       "      <td>8</td>\n",
       "      <td>21</td>\n",
       "      <td>19</td>\n",
       "    </tr>\n",
       "    <tr>\n",
       "      <th>3</th>\n",
       "      <td>632</td>\n",
       "      <td>417</td>\n",
       "      <td>126287</td>\n",
       "      <td>1871</td>\n",
       "      <td>311</td>\n",
       "      <td>322</td>\n",
       "      <td>247</td>\n",
       "      <td>380</td>\n",
       "      <td>1455</td>\n",
       "      <td>47</td>\n",
       "      <td>...</td>\n",
       "      <td>1152</td>\n",
       "      <td>128</td>\n",
       "      <td>299</td>\n",
       "      <td>1509</td>\n",
       "      <td>1849</td>\n",
       "      <td>2106</td>\n",
       "      <td>1800</td>\n",
       "      <td>48</td>\n",
       "      <td>158</td>\n",
       "      <td>33</td>\n",
       "    </tr>\n",
       "    <tr>\n",
       "      <th>4</th>\n",
       "      <td>356</td>\n",
       "      <td>405</td>\n",
       "      <td>1844</td>\n",
       "      <td>20762</td>\n",
       "      <td>717</td>\n",
       "      <td>192</td>\n",
       "      <td>186</td>\n",
       "      <td>165</td>\n",
       "      <td>2519</td>\n",
       "      <td>49</td>\n",
       "      <td>...</td>\n",
       "      <td>255</td>\n",
       "      <td>122</td>\n",
       "      <td>268</td>\n",
       "      <td>1234</td>\n",
       "      <td>2176</td>\n",
       "      <td>1176</td>\n",
       "      <td>3130</td>\n",
       "      <td>32</td>\n",
       "      <td>110</td>\n",
       "      <td>27</td>\n",
       "    </tr>\n",
       "    <tr>\n",
       "      <th>5</th>\n",
       "      <td>90</td>\n",
       "      <td>169</td>\n",
       "      <td>266</td>\n",
       "      <td>681</td>\n",
       "      <td>2325</td>\n",
       "      <td>57</td>\n",
       "      <td>110</td>\n",
       "      <td>47</td>\n",
       "      <td>673</td>\n",
       "      <td>44</td>\n",
       "      <td>...</td>\n",
       "      <td>31</td>\n",
       "      <td>42</td>\n",
       "      <td>104</td>\n",
       "      <td>639</td>\n",
       "      <td>539</td>\n",
       "      <td>245</td>\n",
       "      <td>744</td>\n",
       "      <td>5</td>\n",
       "      <td>27</td>\n",
       "      <td>8</td>\n",
       "    </tr>\n",
       "  </tbody>\n",
       "</table>\n",
       "<p>5 rows × 134 columns</p>\n",
       "</div>"
      ],
      "text/plain": [
       "        1     2       3      4     5    6    7    8     9  10 ...    125  126  \\\n",
       "aid                                                           ...               \n",
       "1    5151   177     621    362    83   74   56  152   336   8 ...     54   20   \n",
       "2     216  2692     464    387   168   62  152   88   882  20 ...     34   30   \n",
       "3     632   417  126287   1871   311  322  247  380  1455  47 ...   1152  128   \n",
       "4     356   405    1844  20762   717  192  186  165  2519  49 ...    255  122   \n",
       "5      90   169     266    681  2325   57  110   47   673  44 ...     31   42   \n",
       "\n",
       "     127   128   129   130   131  132  133  134  \n",
       "aid                                              \n",
       "1     30   401   388   205   344    8   19   12  \n",
       "2     52   602   322   218   933    8   21   19  \n",
       "3    299  1509  1849  2106  1800   48  158   33  \n",
       "4    268  1234  2176  1176  3130   32  110   27  \n",
       "5    104   639   539   245   744    5   27    8  \n",
       "\n",
       "[5 rows x 134 columns]"
      ]
     },
     "execution_count": 14,
     "metadata": {},
     "output_type": "execute_result"
    }
   ],
   "source": [
    "aisle_mat.head()"
   ]
  },
  {
   "cell_type": "code",
   "execution_count": 15,
   "metadata": {},
   "outputs": [],
   "source": [
    "aisle_mat['total'] = aisle_mat.apply(lambda x : x.sum(), axis=1)"
   ]
  },
  {
   "cell_type": "code",
   "execution_count": 16,
   "metadata": {},
   "outputs": [
    {
     "data": {
      "text/html": [
       "<div>\n",
       "<style scoped>\n",
       "    .dataframe tbody tr th:only-of-type {\n",
       "        vertical-align: middle;\n",
       "    }\n",
       "\n",
       "    .dataframe tbody tr th {\n",
       "        vertical-align: top;\n",
       "    }\n",
       "\n",
       "    .dataframe thead th {\n",
       "        text-align: right;\n",
       "    }\n",
       "</style>\n",
       "<table border=\"1\" class=\"dataframe\">\n",
       "  <thead>\n",
       "    <tr style=\"text-align: right;\">\n",
       "      <th></th>\n",
       "      <th>1</th>\n",
       "      <th>2</th>\n",
       "      <th>3</th>\n",
       "      <th>4</th>\n",
       "      <th>5</th>\n",
       "      <th>6</th>\n",
       "      <th>7</th>\n",
       "      <th>8</th>\n",
       "      <th>9</th>\n",
       "      <th>10</th>\n",
       "      <th>...</th>\n",
       "      <th>126</th>\n",
       "      <th>127</th>\n",
       "      <th>128</th>\n",
       "      <th>129</th>\n",
       "      <th>130</th>\n",
       "      <th>131</th>\n",
       "      <th>132</th>\n",
       "      <th>133</th>\n",
       "      <th>134</th>\n",
       "      <th>total</th>\n",
       "    </tr>\n",
       "    <tr>\n",
       "      <th>aid</th>\n",
       "      <th></th>\n",
       "      <th></th>\n",
       "      <th></th>\n",
       "      <th></th>\n",
       "      <th></th>\n",
       "      <th></th>\n",
       "      <th></th>\n",
       "      <th></th>\n",
       "      <th></th>\n",
       "      <th></th>\n",
       "      <th></th>\n",
       "      <th></th>\n",
       "      <th></th>\n",
       "      <th></th>\n",
       "      <th></th>\n",
       "      <th></th>\n",
       "      <th></th>\n",
       "      <th></th>\n",
       "      <th></th>\n",
       "      <th></th>\n",
       "      <th></th>\n",
       "    </tr>\n",
       "  </thead>\n",
       "  <tbody>\n",
       "    <tr>\n",
       "      <th>24</th>\n",
       "      <td>6545</td>\n",
       "      <td>6616</td>\n",
       "      <td>33754</td>\n",
       "      <td>12545</td>\n",
       "      <td>3020</td>\n",
       "      <td>2600</td>\n",
       "      <td>2829</td>\n",
       "      <td>2646</td>\n",
       "      <td>13162</td>\n",
       "      <td>443</td>\n",
       "      <td>...</td>\n",
       "      <td>709</td>\n",
       "      <td>1248</td>\n",
       "      <td>16043</td>\n",
       "      <td>13076</td>\n",
       "      <td>13474</td>\n",
       "      <td>16945</td>\n",
       "      <td>228</td>\n",
       "      <td>910</td>\n",
       "      <td>372</td>\n",
       "      <td>3324654</td>\n",
       "    </tr>\n",
       "    <tr>\n",
       "      <th>83</th>\n",
       "      <td>4473</td>\n",
       "      <td>8381</td>\n",
       "      <td>17158</td>\n",
       "      <td>11751</td>\n",
       "      <td>6362</td>\n",
       "      <td>2133</td>\n",
       "      <td>3818</td>\n",
       "      <td>1698</td>\n",
       "      <td>20901</td>\n",
       "      <td>615</td>\n",
       "      <td>...</td>\n",
       "      <td>693</td>\n",
       "      <td>981</td>\n",
       "      <td>17890</td>\n",
       "      <td>12322</td>\n",
       "      <td>10233</td>\n",
       "      <td>25437</td>\n",
       "      <td>219</td>\n",
       "      <td>676</td>\n",
       "      <td>294</td>\n",
       "      <td>3143603</td>\n",
       "    </tr>\n",
       "    <tr>\n",
       "      <th>123</th>\n",
       "      <td>4134</td>\n",
       "      <td>4197</td>\n",
       "      <td>13228</td>\n",
       "      <td>6850</td>\n",
       "      <td>2397</td>\n",
       "      <td>1204</td>\n",
       "      <td>1747</td>\n",
       "      <td>1198</td>\n",
       "      <td>9405</td>\n",
       "      <td>292</td>\n",
       "      <td>...</td>\n",
       "      <td>454</td>\n",
       "      <td>764</td>\n",
       "      <td>8630</td>\n",
       "      <td>7515</td>\n",
       "      <td>6414</td>\n",
       "      <td>11072</td>\n",
       "      <td>173</td>\n",
       "      <td>461</td>\n",
       "      <td>163</td>\n",
       "      <td>1600584</td>\n",
       "    </tr>\n",
       "    <tr>\n",
       "      <th>120</th>\n",
       "      <td>2354</td>\n",
       "      <td>2498</td>\n",
       "      <td>16219</td>\n",
       "      <td>5950</td>\n",
       "      <td>1080</td>\n",
       "      <td>1072</td>\n",
       "      <td>801</td>\n",
       "      <td>937</td>\n",
       "      <td>5231</td>\n",
       "      <td>99</td>\n",
       "      <td>...</td>\n",
       "      <td>306</td>\n",
       "      <td>668</td>\n",
       "      <td>5669</td>\n",
       "      <td>5561</td>\n",
       "      <td>5921</td>\n",
       "      <td>6478</td>\n",
       "      <td>106</td>\n",
       "      <td>307</td>\n",
       "      <td>78</td>\n",
       "      <td>1354392</td>\n",
       "    </tr>\n",
       "    <tr>\n",
       "      <th>21</th>\n",
       "      <td>1760</td>\n",
       "      <td>6626</td>\n",
       "      <td>8445</td>\n",
       "      <td>6728</td>\n",
       "      <td>2257</td>\n",
       "      <td>640</td>\n",
       "      <td>1038</td>\n",
       "      <td>700</td>\n",
       "      <td>10388</td>\n",
       "      <td>268</td>\n",
       "      <td>...</td>\n",
       "      <td>296</td>\n",
       "      <td>659</td>\n",
       "      <td>9307</td>\n",
       "      <td>6071</td>\n",
       "      <td>3891</td>\n",
       "      <td>10790</td>\n",
       "      <td>100</td>\n",
       "      <td>312</td>\n",
       "      <td>153</td>\n",
       "      <td>888985</td>\n",
       "    </tr>\n",
       "  </tbody>\n",
       "</table>\n",
       "<p>5 rows × 135 columns</p>\n",
       "</div>"
      ],
      "text/plain": [
       "        1     2      3      4     5     6     7     8      9   10   ...     \\\n",
       "aid                                                                 ...      \n",
       "24   6545  6616  33754  12545  3020  2600  2829  2646  13162  443   ...      \n",
       "83   4473  8381  17158  11751  6362  2133  3818  1698  20901  615   ...      \n",
       "123  4134  4197  13228   6850  2397  1204  1747  1198   9405  292   ...      \n",
       "120  2354  2498  16219   5950  1080  1072   801   937   5231   99   ...      \n",
       "21   1760  6626   8445   6728  2257   640  1038   700  10388  268   ...      \n",
       "\n",
       "     126   127    128    129    130    131  132  133  134    total  \n",
       "aid                                                                 \n",
       "24   709  1248  16043  13076  13474  16945  228  910  372  3324654  \n",
       "83   693   981  17890  12322  10233  25437  219  676  294  3143603  \n",
       "123  454   764   8630   7515   6414  11072  173  461  163  1600584  \n",
       "120  306   668   5669   5561   5921   6478  106  307   78  1354392  \n",
       "21   296   659   9307   6071   3891  10790  100  312  153   888985  \n",
       "\n",
       "[5 rows x 135 columns]"
      ]
     },
     "execution_count": 16,
     "metadata": {},
     "output_type": "execute_result"
    }
   ],
   "source": [
    "aisle_mat.sort_values('total', ascending=False, inplace=True)\n",
    "aisle_mat.head()\n",
    "    \n"
   ]
  },
  {
   "cell_type": "code",
   "execution_count": 20,
   "metadata": {},
   "outputs": [
    {
     "data": {
      "text/plain": [
       "Int64Index([ 24,  83, 123, 120,  21,  84, 115, 107,  91, 112,\n",
       "            ...\n",
       "            118, 134,  55, 109,  10,  44, 102,  82, 132, 113],\n",
       "           dtype='int64', name='aid', length=134)"
      ]
     },
     "execution_count": 20,
     "metadata": {},
     "output_type": "execute_result"
    }
   ],
   "source": [
    "row_order = aisle_mat.index\n",
    "row_order = row_order.tolist()\n",
    "aisle_mat.index"
   ]
  },
  {
   "cell_type": "code",
   "execution_count": null,
   "metadata": {},
   "outputs": [],
   "source": []
  },
  {
   "cell_type": "code",
   "execution_count": null,
   "metadata": {},
   "outputs": [],
   "source": []
  },
  {
   "cell_type": "code",
   "execution_count": null,
   "metadata": {},
   "outputs": [],
   "source": []
  },
  {
   "cell_type": "code",
   "execution_count": null,
   "metadata": {},
   "outputs": [],
   "source": []
  },
  {
   "cell_type": "code",
   "execution_count": null,
   "metadata": {},
   "outputs": [],
   "source": []
  },
  {
   "cell_type": "code",
   "execution_count": null,
   "metadata": {},
   "outputs": [],
   "source": []
  },
  {
   "cell_type": "code",
   "execution_count": null,
   "metadata": {},
   "outputs": [],
   "source": []
  },
  {
   "cell_type": "code",
   "execution_count": null,
   "metadata": {},
   "outputs": [],
   "source": []
  },
  {
   "cell_type": "code",
   "execution_count": 25,
   "metadata": {},
   "outputs": [
    {
     "data": {
      "text/plain": [
       "['fresh fruits',\n",
       " 'fresh vegetables',\n",
       " 'packaged vegetables fruits',\n",
       " 'yogurt',\n",
       " 'packaged cheese',\n",
       " 'milk',\n",
       " 'water seltzer sparkling water',\n",
       " 'chips pretzels',\n",
       " 'soy lactosefree',\n",
       " 'bread']"
      ]
     },
     "execution_count": 25,
     "metadata": {},
     "output_type": "execute_result"
    }
   ],
   "source": [
    "aisle_map = pd.merge(aisle_mat, adf, left_index=True, right_on='aisle_id')['aisle']\n",
    "aisle_map.values.tolist()[:10]"
   ]
  },
  {
   "cell_type": "code",
   "execution_count": 40,
   "metadata": {},
   "outputs": [],
   "source": [
    "am = aisle_mat.values.tolist()[:20][:20]\n",
    "for i in range(len(am)):\n",
    "    am[i][i] = 0.0"
   ]
  },
  {
   "cell_type": "code",
   "execution_count": 47,
   "metadata": {},
   "outputs": [],
   "source": [
    "pickle.dump(am,file=open('am.pkl', 'wb'))"
   ]
  },
  {
   "cell_type": "code",
   "execution_count": 48,
   "metadata": {},
   "outputs": [],
   "source": [
    "import pprint"
   ]
  },
  {
   "cell_type": "code",
   "execution_count": 26,
   "metadata": {},
   "outputs": [
    {
     "data": {
      "text/html": [
       "<div>\n",
       "<style scoped>\n",
       "    .dataframe tbody tr th:only-of-type {\n",
       "        vertical-align: middle;\n",
       "    }\n",
       "\n",
       "    .dataframe tbody tr th {\n",
       "        vertical-align: top;\n",
       "    }\n",
       "\n",
       "    .dataframe thead th {\n",
       "        text-align: right;\n",
       "    }\n",
       "</style>\n",
       "<table border=\"1\" class=\"dataframe\">\n",
       "  <thead>\n",
       "    <tr style=\"text-align: right;\">\n",
       "      <th></th>\n",
       "      <th>department_id</th>\n",
       "      <th>department</th>\n",
       "    </tr>\n",
       "  </thead>\n",
       "  <tbody>\n",
       "    <tr>\n",
       "      <th>0</th>\n",
       "      <td>1</td>\n",
       "      <td>frozen</td>\n",
       "    </tr>\n",
       "    <tr>\n",
       "      <th>1</th>\n",
       "      <td>2</td>\n",
       "      <td>other</td>\n",
       "    </tr>\n",
       "    <tr>\n",
       "      <th>2</th>\n",
       "      <td>3</td>\n",
       "      <td>bakery</td>\n",
       "    </tr>\n",
       "    <tr>\n",
       "      <th>3</th>\n",
       "      <td>4</td>\n",
       "      <td>produce</td>\n",
       "    </tr>\n",
       "    <tr>\n",
       "      <th>4</th>\n",
       "      <td>5</td>\n",
       "      <td>alcohol</td>\n",
       "    </tr>\n",
       "    <tr>\n",
       "      <th>5</th>\n",
       "      <td>6</td>\n",
       "      <td>international</td>\n",
       "    </tr>\n",
       "    <tr>\n",
       "      <th>6</th>\n",
       "      <td>7</td>\n",
       "      <td>beverages</td>\n",
       "    </tr>\n",
       "    <tr>\n",
       "      <th>7</th>\n",
       "      <td>8</td>\n",
       "      <td>pets</td>\n",
       "    </tr>\n",
       "    <tr>\n",
       "      <th>8</th>\n",
       "      <td>9</td>\n",
       "      <td>dry goods pasta</td>\n",
       "    </tr>\n",
       "    <tr>\n",
       "      <th>9</th>\n",
       "      <td>10</td>\n",
       "      <td>bulk</td>\n",
       "    </tr>\n",
       "    <tr>\n",
       "      <th>10</th>\n",
       "      <td>11</td>\n",
       "      <td>personal care</td>\n",
       "    </tr>\n",
       "    <tr>\n",
       "      <th>11</th>\n",
       "      <td>12</td>\n",
       "      <td>meat seafood</td>\n",
       "    </tr>\n",
       "    <tr>\n",
       "      <th>12</th>\n",
       "      <td>13</td>\n",
       "      <td>pantry</td>\n",
       "    </tr>\n",
       "    <tr>\n",
       "      <th>13</th>\n",
       "      <td>14</td>\n",
       "      <td>breakfast</td>\n",
       "    </tr>\n",
       "    <tr>\n",
       "      <th>14</th>\n",
       "      <td>15</td>\n",
       "      <td>canned goods</td>\n",
       "    </tr>\n",
       "    <tr>\n",
       "      <th>15</th>\n",
       "      <td>16</td>\n",
       "      <td>dairy eggs</td>\n",
       "    </tr>\n",
       "    <tr>\n",
       "      <th>16</th>\n",
       "      <td>17</td>\n",
       "      <td>household</td>\n",
       "    </tr>\n",
       "    <tr>\n",
       "      <th>17</th>\n",
       "      <td>18</td>\n",
       "      <td>babies</td>\n",
       "    </tr>\n",
       "    <tr>\n",
       "      <th>18</th>\n",
       "      <td>19</td>\n",
       "      <td>snacks</td>\n",
       "    </tr>\n",
       "    <tr>\n",
       "      <th>19</th>\n",
       "      <td>20</td>\n",
       "      <td>deli</td>\n",
       "    </tr>\n",
       "    <tr>\n",
       "      <th>20</th>\n",
       "      <td>21</td>\n",
       "      <td>missing</td>\n",
       "    </tr>\n",
       "  </tbody>\n",
       "</table>\n",
       "</div>"
      ],
      "text/plain": [
       "    department_id       department\n",
       "0               1           frozen\n",
       "1               2            other\n",
       "2               3           bakery\n",
       "3               4          produce\n",
       "4               5          alcohol\n",
       "5               6    international\n",
       "6               7        beverages\n",
       "7               8             pets\n",
       "8               9  dry goods pasta\n",
       "9              10             bulk\n",
       "10             11    personal care\n",
       "11             12     meat seafood\n",
       "12             13           pantry\n",
       "13             14        breakfast\n",
       "14             15     canned goods\n",
       "15             16       dairy eggs\n",
       "16             17        household\n",
       "17             18           babies\n",
       "18             19           snacks\n",
       "19             20             deli\n",
       "20             21          missing"
      ]
     },
     "execution_count": 26,
     "metadata": {},
     "output_type": "execute_result"
    }
   ],
   "source": [
    "depts = pd.read_csv('ecomm/departments.csv')\n",
    "depts"
   ]
  },
  {
   "cell_type": "code",
   "execution_count": null,
   "metadata": {},
   "outputs": [],
   "source": []
  }
 ],
 "metadata": {
  "jupytext": {
   "text_representation": {
    "extension": ".Rmd",
    "format_name": "rmarkdown",
    "format_version": "1.0",
    "jupytext_version": "0.8.3"
   }
  },
  "kernelspec": {
   "display_name": "Python 3",
   "language": "python",
   "name": "python3"
  },
  "language_info": {
   "codemirror_mode": {
    "name": "ipython",
    "version": 3
   },
   "file_extension": ".py",
   "mimetype": "text/x-python",
   "name": "python",
   "nbconvert_exporter": "python",
   "pygments_lexer": "ipython3",
   "version": "3.7.2"
  }
 },
 "nbformat": 4,
 "nbformat_minor": 2
}
