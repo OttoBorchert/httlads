{
 "cells": [
  {
   "cell_type": "markdown",
   "metadata": {},
   "source": [
    "# UN General Debates"
   ]
  },
  {
   "cell_type": "code",
   "execution_count": 4,
   "metadata": {},
   "outputs": [],
   "source": [
    "import string\n",
    "import pandas as pd\n",
    "import psycopg2\n",
    "import textatistic\n",
    "from altair import Chart, X, Y, Color, Scale\n",
    "import altair as alt\n",
    "from vega_datasets import data\n",
    "import nltk\n",
    "from nltk.corpus import stopwords \n"
   ]
  },
  {
   "cell_type": "markdown",
   "metadata": {},
   "source": [
    "## Reading List\n",
    "\n",
    "* Reshaping data with pandas [Nicely covered here](https://jakevdp.github.io/PythonDataScienceHandbook/)\n",
    "* [Word Clouds](https://www.datacamp.com/community/tutorials/wordcloud-python)\n",
    "* [Text complexity measures](http://www.erinhengel.com/software/textatistic/)\n",
    "* [Tidy Data in Python](http://www.jeannicholashould.com/tidy-data-in-python.html)\n",
    "* the original [Tidy Data paper](http://vita.had.co.nz/papers/tidy-data.pdf) by Hadley Wickham"
   ]
  },
  {
   "cell_type": "markdown",
   "metadata": {},
   "source": [
    "## Exploratory Questions\n",
    "\n",
    "1. How many speeches were given each year?\n",
    "2. Make a bar graph of the number of speeches each year\n",
    "3. Which country and what year has given the longest speech (by number of words)\n",
    "4. Which country has spoken the most times?\n",
    "5. Which country has spoken the least times?\n",
    "6. Make a graph to illustrate the distribution of the number of times each country has spoken\n",
    "7. What were the 25 most commonly used words in the 1970 session?\n",
    "8. What were the 25 most commonly used words in the 2015 session?"
   ]
  },
  {
   "cell_type": "code",
   "execution_count": 8,
   "metadata": {},
   "outputs": [],
   "source": [
    "undf = pd.read_csv('../Data/un-general-debates.csv')"
   ]
  },
  {
   "cell_type": "code",
   "execution_count": 9,
   "metadata": {},
   "outputs": [
    {
     "data": {
      "text/plain": [
       "7507"
      ]
     },
     "execution_count": 9,
     "metadata": {},
     "output_type": "execute_result"
    }
   ],
   "source": [
    "len(undf)"
   ]
  },
  {
   "cell_type": "code",
   "execution_count": 10,
   "metadata": {},
   "outputs": [
    {
     "data": {
      "text/html": [
       "<div>\n",
       "<style scoped>\n",
       "    .dataframe tbody tr th:only-of-type {\n",
       "        vertical-align: middle;\n",
       "    }\n",
       "\n",
       "    .dataframe tbody tr th {\n",
       "        vertical-align: top;\n",
       "    }\n",
       "\n",
       "    .dataframe thead th {\n",
       "        text-align: right;\n",
       "    }\n",
       "</style>\n",
       "<table border=\"1\" class=\"dataframe\">\n",
       "  <thead>\n",
       "    <tr style=\"text-align: right;\">\n",
       "      <th></th>\n",
       "      <th>session</th>\n",
       "      <th>year</th>\n",
       "      <th>country</th>\n",
       "      <th>text</th>\n",
       "    </tr>\n",
       "  </thead>\n",
       "  <tbody>\n",
       "    <tr>\n",
       "      <th>5543</th>\n",
       "      <td>70</td>\n",
       "      <td>2015</td>\n",
       "      <td>KNA</td>\n",
       "      <td>It is indeed an honour for me to address this ...</td>\n",
       "    </tr>\n",
       "    <tr>\n",
       "      <th>5524</th>\n",
       "      <td>70</td>\n",
       "      <td>2015</td>\n",
       "      <td>KOR</td>\n",
       "      <td>I would first like to congratulate the United ...</td>\n",
       "    </tr>\n",
       "    <tr>\n",
       "      <th>5522</th>\n",
       "      <td>70</td>\n",
       "      <td>2015</td>\n",
       "      <td>ARE</td>\n",
       "      <td>It is my pleasure to congratulate Mr. Mogens L...</td>\n",
       "    </tr>\n",
       "    <tr>\n",
       "      <th>5521</th>\n",
       "      <td>70</td>\n",
       "      <td>2015</td>\n",
       "      <td>BHS</td>\n",
       "      <td>I bring you, Sir, and the Assembly warm frater...</td>\n",
       "    </tr>\n",
       "    <tr>\n",
       "      <th>5520</th>\n",
       "      <td>70</td>\n",
       "      <td>2015</td>\n",
       "      <td>ISL</td>\n",
       "      <td>The world has changed enormously since the est...</td>\n",
       "    </tr>\n",
       "  </tbody>\n",
       "</table>\n",
       "</div>"
      ],
      "text/plain": [
       "      session  year country                                               text\n",
       "5543       70  2015     KNA  It is indeed an honour for me to address this ...\n",
       "5524       70  2015     KOR  I would first like to congratulate the United ...\n",
       "5522       70  2015     ARE  It is my pleasure to congratulate Mr. Mogens L...\n",
       "5521       70  2015     BHS  I bring you, Sir, and the Assembly warm frater...\n",
       "5520       70  2015     ISL  The world has changed enormously since the est..."
      ]
     },
     "execution_count": 10,
     "metadata": {},
     "output_type": "execute_result"
    }
   ],
   "source": [
    "undf.sort_values('year', ascending=False).head()"
   ]
  },
  {
   "cell_type": "markdown",
   "metadata": {},
   "source": [
    "As you can see the data frame is relatively simple.  It consists of a session number, year, country code and text.  Most of the text is hidden because Pandas doesn't want to make the notebook with unreadably long text strings.  In reality most of the texts are very lengthy!  If you want to see the entire string you can update Jupyter's `max_colwidth` option to see it all.  You'll probably want to set it back because as you can see in the following example looking at the entire thing is largely useless."
   ]
  },
  {
   "cell_type": "code",
   "execution_count": 11,
   "metadata": {},
   "outputs": [
    {
     "name": "stdout",
     "output_type": "stream",
     "text": [
      "161    1.\\t It is my privilege to extend to you once again the warm congratulations of the United States delegation on your election to the Presidency of the twenty-fifth session of the General Assembly. Your country has few peers in the contributions it has made to the work of this Organization. Your father was a leader in the League of Nations, and now, in this session of the General Assembly, you are adding a new chapter in the family tradition. In the United Nations community we have long known you as an able spokesman of your country, as a participant in the life of the United Nations from its very beginning and an authority on the Charter, as a leading scholar and practitioner in international law, and as one whose personal outlook is strongly humanitarian and imbued with hope and determination for a better future. We are indeed fortunate to have you to lead us in this session devoted to the strengthening and improvement of the United Nations.\\n2.\\tDuring this session we shall commemorate with fitting ceremony one of the most creative and hopeful events of this century, the founding of the United Nations twenty-five years ago. It is right that this commemoration should be held. It is far more important, however, that the nations gathered at this session should so act together as to strengthen the United Nations for the future, to ensure that we are closer to 'peace, justice and progress' five, ten and twenty- five years hence than we are today. The world is unlikely to care much what we say about the past. It will care a great deal what we do about the future.\\n3.\\tThe problems the world faces today are no less grave than those it faced twenty-five years ago. Indeed they are in many respects far graver. Unless and until the Members of the United Nations demonstrate their willingness to deal effectively with these problems, the confidence of the world's peoples in the United Nations will remain uncertain and precarious.\\n4.\\tIn the view of the United States, the most critical international problem today is the same as that which faced the founders of the United Nations: the need to build a reliable framework for peace and security among nations. As President Nixon said in this Assembly a year ago: '... there is no nobler destiny, nor any greater gift that one age could make to the ages that follow, than to forge the key to a lasting peace'. [1755th meeting, para. 45.]\\n5.\\tIn this conviction the United States has sought in the last two years to frame foreign policies which would help to make the international scene less destructively competitive, less strident, more cooperative and orderly. We have sought, in the spirit of the Charter, to pursue peaceful settlement of all conflicts and confrontations, and we have urged others to do likewise.\\n6.\\tThe most significant of these efforts has been the strategic arms limitation discussions between my country and the Soviet Union. If at last we can check the nuclear arms race, the world will have been helped to move away from its gravest danger and toward new and more rational relationships.\\n7.\\tThe United States also seeks, through a process of serious negotiation, to ease the tensions that arise from the division of Europe. We have welcomed the efforts of the Federal Republic of Germany to normalize relations with its eastern neighbors; we are seeking in fourPower talks to assure the security and wellbeing of the residents of Berlin; we have joined our NATO allies in proposing exploratory talks on the reduction of forces in central Europe. We hope these efforts will find the Soviet Union and its allies forthcoming.\\n8.\\tIn VietNam, over eighteen months ago, the United States reversed the trend in American involvement in the war. We began a steady, uninterrupted reduction in the number of our troops. We have made a negotiated peace our highest priority. Although North VietNam has as yet shown no serious intention to negotiate a solution under which the South VietNamese people can freely decide their own future, this remains our goal and we shall not be discouraged in seeking it.\\nA/PV.1854\\n9.\\tMy Government has likewise sought ways to move toward a constructive relationship with mainland China. To this end, we have taken a number of unilateral steps to ease tensions. We are ready at any time to resume the talks in Warsaw.\\n10.\\tFinally, nowhere in the world today is there more urgent need to move from confrontation to negotiation than in the Middle East. The legacy of bitterness, hatred and suspicion there contains the seeds of even greater tragedy not only for the Middle East but for the world, unless there is early progress toward reconciliation and peace based on the legitimate interests of all the States and peoples of the region.\\n11.\\tAs the United Nations community well knows, the United States has made major diplomatic efforts in recent months and weeks to help bring about peace at long last in the Middle East. While recent developments in the area, including the tragic death of President Nasser, have cast a shadow over the high hopes of just a few weeks ago that a beginning toward that goal had been made, those hopes have not been extinguished. For the most part, the guns remain silent along the ceasefire lines. Security Council resolution 242 (1967) stands as a beacon pointing the way to peace, and the parties concerned, in accepting the United States initiative of June, have committed themselves to carry out that resolution in all its parts. Ambassador Jarring is ready to resume his mission whenever conditions permit. We earnestly hope that the parties themselves and all others concerned will now bend every effort to the task of building on the beginning that has already been made.\\n12.\\tThis will require above all serious steps to restore and strengthen confidence in the integrity of the ceasefire and military standstill agreement along the Suez Canal. It will also require, if negotiations are to move forward, a willingness by the parties to move from their maximum positions on the elements of a realistic and equitable peace settlement. In this spirit, my Government is prepared to contribute to renewed efforts toward peace in the Middle East.\\n13.\\tIn this anniversary year the United States, like many other Members, has given especially careful thought to means by which the United Nations can be better enabled to fulfill its purposes.\\n14.\\tMy delegation has listened, and will continue to listen attentively, to the suggestions of others in this regard. In the same spirit the United States will offer proposals, or support the proposals of others, with these objectives among others: first, to put United Nations peacekeeping operations on a firmer and more reliable basis; second, to make the United Nations more effective in the peaceful settlement of disputes; third, to promote new steps in the field of disarmament; fourth, to move closer by peaceful means to the goals of decolonization and human equality; fifth, to support the Second Development Decade; sixth, to help slow down too rapid rates of population growth; seventh, to promote the exploitation of the seabeds and outer space for human benefit; eighth, to organize common action within the United Nations to safeguard the global environment; ninth, to encourage young people from all parts of the world to devote themselves to international service; tenth, to improve the organization, administration and procedures of the United Nations.\\n15.\\tIf the twenty-fifth General Assembly were to move forward substantially in these directions, this session would indeed rank as one of the most fruitful in United Nations history.\\n16.\\tLet me now comment briefly on these points.\\n17.\\tWe shall all of us on this podium and in the First Committee have much to say during this session about strengthening international peace and security, and about the need to live up to the Charter. This is quite proper. However, what is needed most in this respect is not still more sweeping declarations that merely restate the purposes and principles of the Charter. What is needed is more effective United Nations action on the concrete issues before us, on the Middle East, on United Nations peacekeeping procedures, on means of pacific settlement. Until we demonstrate our willingness to take such effective action, world opinion will continue to be skeptical, no matter what ringing declarations we may make, as to whether the Members of the United Nations are really serious about strengthening international peace and security.\\n18.\\tI now come to a subject which should be at the very center of our concern if we wish in fact to strengthen peace and security through the United Nations. I speak of United Nations peacekeeping.\\n19.\\tBecause the world situation in the past twenty- five years developed differently from what the founders of the United Nations foresaw, it has not been found possible to create forces for the maintenance of international peace and security along the lines laid down in certain articles of Chapter VII. We would hope that at some point the provisions of the Charter designed for enforcement action can be implemented.\\n20.\\tIn the meantime, however, a modus vivendi has been built up, entirely consistent with the Charter, which has carried out significant and successful peacekeeping operations, sometimes with observers, sometimes with substantial forces, in the Middle East, in Kashmir, in the Congo, in Cyprus and elsewhere. Still it is all too clear that these ad hoc and improvised arrangements need major improvement in several respects if future peacekeeping is to be effective.\\n21.\\tThe Assembly's Special Committee on Peacekeeping Operations, under the able and patient leadership of Ambassador Cuevas Cancino of Mexico, has been laboring for nearly two years at the task of developing peacekeeping guidelines. During the past year the United States has put forward concrete proposals for new procedures that would meet the political concerns of all and yet allow United Nations forces to move rapidly to carry out decisions of the Security Council. But the broad agreement that all desire is still lacking.\\n22.\\tIt is high time however that the General Assembly, in this twenty-fifth anniversary year, demanded significant movement on this problem. It would be a mistake not to move at all until all are agreed to move all the way. There is strong reason and sufficient consensus for some forward movement at this Assembly. The United States will be prepared to join with others in concrete proposals to this effect.\\n23.\\tIn this connexion we welcome the statement made at Lusaka in the Declaration of the nonaligned countries concerning the United Nations, that measures should be taken at this session of the General Assembly to strengthen United Nations peacekeeping, and we look forward with interest to proposals that may be made by those present at that meeting.\\n24.\\tOf course, peacekeeping without peaceful settlement is only an expedient, necessary but incomplete and inconclusive. The most potent preventive of conflict is not machinery but the will of disputing parties to show restraint and a spirit of conciliation, and to persist in peaceful methods until settlement is reached. This is a solemn obligation of every United Nations Member under the Charter, and no nation deserves more honor than those who have lived up to it in spite of every obstacle.\\n25.\\tIn this past year such peaceful settlements, or major steps towards them, have been recorded in a number of situations which reflect great credit on the statesmanship of those involved. I have in mind, for example, the progress made, with the assistance of the Organization of American States, toward resolving the dispute between El Salvador and Honduras; and also the recent peaceful decision on the future of Bahrain, in which good offices provided by the Secretary General played a major role.\\n26.\\tAs these cases show, where the will to settle exists, effective machinery can do much to help. This is true of regional organizations, and it is no less true of the relevant organs of the United Nations, above all the Security Council.\\n27.\\tIn this connexion we have welcomed the Security Council's decision [see 1544th meeting] as proposed by Finland, to hold periodic high-level meetings under Article 28 of the Charter. My country looks forward to taking part in the first such meeting later this fall. We welcome likewise the valuable suggestion of Brazil committees of the Council, including the parties to a dispute, might be created to help settle particular disputes.\\n28.\\tTo the same end, the United States would favor the reactivation of certain machinery for peaceful settlement which has long been dormant. Many years ago the General Assembly created a Panel on Inquiry and Conciliation [resolution 268 (III)], and more recently a register of fact-finding experts. My Government will soon nominate qualified individuals for both of these bodies. We believe fact-finders should be available to\\n1 Third Conference of Heads of State or Government of Non Aligned Countries, held at Lusaka, Zambia, from 8 to 10 September 1970.\\nthe SecretaryGeneral or other organs of the United Nations, or directly to Member States, to report on the facts of situations of international concern at the request or with the consent of one or more of the parties.\\n29.\\tFinally, it is most important that we rejuvenate and strengthen the highest organ of judicial settlement, the International Court of Justice. The United States recently joined with others in the Security Council in referring to the Court for its advisory opinion certain aspects of the Namibia situation. We have also joined with others in submitting to this General Assembly an agenda item calling for a review of the role of the Court. We hope this review will suggest ways to enable the Court to make a more substantial contribution to the establishment of the rule of law among nations.\\n30.\\tThe world has witnessed in recent weeks shocking examples of the consequences of failure to abide by this rule of law examples which have been alluded to by numerous previous speakers on this podium. Hundreds of innocent individuals engaged in peaceful international travel have been brutally seized as hostages in a conflict in which they were in no way involved. Not only their safety and convenience have been placed in jeopardy but their very lives. As President Nixon pointed out in this forum a year ago, this issue 'involves the interests of. . . every air passenger and the integrity of that structure of order upon which a world community depends' [1755th meeting, para. 74].\\n31.\\tThat this view is widely shared is evident from the almost universal condemnation of these most recent acts by Governments the world over and by the resolution on this matter adopted unanimously by the Security Council [286 (1970)]. But condemnation is not enough. It is time to act. The Tokyo Convention, providing for the prompt return of hijacked aircraft passengers and crew, requires the broadest international support. The same is true of the International Civil Aviation Organization's draft multilateral convention for the extradition and punishment of hijackers. In addition, the United States has submitted new proposals to the ICAO, for which I urge your most earnest consideration and support.\\n32.\\tThe General Assembly's extensive annual debates and resolutions on many aspects of arms control and disarmament have long played, and continue to play, an important part in international negotiations on this most critical of all our problems. I need only mention the partial nuclear test-ban Treaty,  the outer space Treaty [resolution 2222 (XXI)] and the Treaty on the NonProliferation of Nuclear Weapons [resolution 2373 (XXII)]. The disarmament conference at Geneva has this year registered significant progress by achieving wide consensus on a draft treaty to prohibit the emplacement of weapons of mass destruction on a vast area of the earth's surface the seabed beneath the oceans.  We hope this draft treaty will be supported by the General Assembly at this session and opened for signature shortly thereafter.\\n33.\\tI can assure the Assembly that the United States Government is unceasingly aware of the worldwide concern and need for an end to the arms race and the perilous burden of armaments in all its forms, and that we shall do whatever one negotiating partner can do to bring about new agreements on new steps toward the ultimate goal of general and complete disarmament.\\n34.\\tPermit me to say a word about a matter of quite different but equally wide concern that of human rights throughout the world.\\n35.\\tIn addition to the basic responsibility of Governments to maintain human rights for all their citizens, the United Nations under the Charter has a clear responsibility in this regard. To strengthen the implementation of that responsibility my Government hopes the General Assembly at this session will create a new post, that of High Commissioner for Human Rights, to advise United Nations organs in this field and to assist States, at their request, with human rights problems. This proposal has been thoroughly studied and fully justified. It deserves a high priority at the twenty-fifth session of the General Assembly.\\n36.\\tA particular issue of human rights that is of acute concern to my Government, among others, is the protection of the rights of prisoners of war. While these rights have long since been internationally guaranteed, they are in practice still denied to many prisoners of war, as American wives and families of such prisoners know to their great sorrow. The United States strongly hopes that this Assembly will press for worldwide observance of the Geneva Convention relative to the Treatment of Prisoners of War, verified by impartial inspection. It is intolerable that the tragedy of armed conflict should be compounded by additional inhumanities in violation of international norms.\\n37.\\tIn no field have the aims of the United Nations found more dramatic fulfilment during its first quarter of a century than in the field of decolonization. Before the Second World War a third of mankind lived in colonial dependencies. Today the proportion is less than 1 per cent. A revolution of independence has created some sixty new nations and has been the main factor in increasing the membership of the United Nations from 51 to 126.\\n38.\\tHowever, the situation in much of southern Africa is still characterized by the denial of self-determination and of racial equality. The United Nations and its member States must continue to exert peaceful efforts to defend and advance these basic human rights of the peoples concerned. Their cause is just and must in time prevail.\\n39.\\tAgainst these evils the United States in recent months has taken further steps. We put into effect last May a new policy designed to discourage United States investment in, and trade with, Namibia so long as South Africa remains in unlawful occupation. We urge other Governments to join us in this policy. My Government continues strictly to observe resolutions in regard to sanctions against the illegal regime in Rhodesia and in regard to the sale of arms to South Africa. We have closed our consulate in Salisbury. We shall continue in every peaceful and practicable way to pursue the ends of justice, equality and self determination.\\n40.\\tHigh on the list of the United Nations contributions to human progress is its longstanding effort to assist in comprehensive global development. That effort is being continued and, we hope, improved and strengthened through the launching of the Second United Nations Development Decade.\\n41.\\tThe success of the Decade will depend most of all on the policies of Member States, both developed and developing. To bring all these policies into effective focus is the ambitious aim of the development strategy. The United States strongly supports the strategy which is before this Assembly [A 17982, para. 16] and intends to participate fully in this common enterprise.\\n42.\\tI wish to leave no doubt of the serious commitment of the United States to the Second Development Decade. President Nixon, in a series of policy decisions and especially in his recent announcement on the new focus of United States economic assistance, has made clear our intention:\\n(a)\\tTo reverse the downward trend in United States development assistance;\\n(b)\\tTo increase substantially United States contributions to multilateral development institutions including the World Bank, the International Development Association, the regional development banks and the United Nations Development program so that, as the capabilities of these institutions increase, we may be able to channel through them most of our official development assistance;\\n(c)\\tFurther to encourage the efforts of donor nations to 'untie' their bilateral aid to developing countries from the obligation to import products of the donor country;\\n(<d) To bring United States science and technology more effectively to bear on the problems of development, and for this purpose to create a new United States International Development Institute;\\n(<?) To take new steps to stimulate American private investment in developing countries within the framework of the developing countries' plans.\\n43.\\tThese approaches are already reflected in the new policies my country has announced toward Latin America and Africa, which stress continued assistance, greater multilateral participation, and increased trade and investment.\\n44.\\tFinally, bearing in mind the crucial connexion between trade and development, the United States is pressing for a liberalized system of generalized tariff preferences for products of developing countries, with preferential access to the American market, and we are urging that the developing countries receive similar access to the markets of all developed countries.\\n45.\\tI wish to add a particular comment on the role of the United Nations Development program. This program, in cooperation with the specialized agencies, has done important pioneering work in development assistance. Its machinery, however, was built for a smaller program and must be reorganized to meet its growing responsibilities. With the aid of last year's excellent 'capacity study' ,  the program is now preparing to put the necessary reforms into effect. In planning our future contributions to this important program we in the United States will give major weight to the progress actually achieved m undertaking these reforms.\\n46.\\tIn recent years people all over the world have suddenly awakened to the inexorable and tragic fact that excessive population growth can, if continued much longer, frustrate all our hopes for peace, justice and progress. There can be no progress for the majority of mankind if population growth outstrips all available means of development. There can be no justice for the majority of mankind where population expands faster than production and social services. There can be no peace for the majority of mankind where progress and justice are unattainable because of unrestrained population growth.\\n47.\\tThis is not a problem confined to either developed or developing countries. In my own country, although our growth rate has recently slowed to about 1 per cent a year, we have adopted as a national goal the availability within five years of family planning services to every citizen.\\n48.\\tClearly, the need is equally urgent in many nations striving for development whose annual population growth in some cases approaches 4 per cent which means a doubling of the number of people in less than twenty- years. The care and feeding of such enormous numbers of dependent children, their upbringing in conditions compatible with human dignity, could constitute such a burden as to nullify progress in economic development and to cause living standards to remain at past low levels or even to fall lower.\\n49.\\tThe United States is convinced that the vigorous pursuit of family planning policies is an indispensable element in the strategy of development. In this conviction we have pledged this year $7.5 million to the recently established United Nations Fund for Population Activities, whose services to requesting Governments are rapidly growing.\\n50.\\tIn the context of development I wish also to emphasize the enormous potential of the world's deep seabeds, whose exploitation is just now beginning to come within the reach of our technology.\\n51.\\tLast May President Nixon, in a farreaching announcement concerning the oceans, proposed that an international regime be established by treaty for the exploitation of seabed resources beyond the depth of 200 meters. He further proposed that this regime 'should provide for the collection of substantial mineral royalties to be used for international community purposes, particularly economic assistance to developing countries'. Early in August the United States circulated in the United Nations seabed Committee  a draft convention [A18021, annex V], embodying these and other important proposals in the President's announcement.\\n52.\\tThese proposals, if carried out, will amount to a new departure in the history of nations. Never in history has the exploitation of resources of such great potential value been placed under the supervision and regulation of an effective international authority. Never in history has assurance been offered that the international community could have a substantial, independent source of revenue to be equitably divided to serve the interests of mankind as a whole.\\n53.\\tThe United States hopes that the twenty-fifth session of the General Assembly will advance this important enterprise so that a sound and workable international seabed regime, backed up by effective machinery, can come into being as soon as possible. To this end it is important that States refrain from making further claims to jurisdiction over the seabeds or over the waters of the oceans. We believe that a conference on subjects related to the law of the sea, including seabeds, should be called as soon as practicable and that preparatory steps should be initiated by this session of the General Assembly.\\n54.\\tI come now to an issue of critical and rapidly growing importance the protection of the human environment. Development and protection of the environment are not mutually contradictory; indeed, they must go hand in hand if the world is to be a fit place in which to live. The United Nations is in a key position to foster the necessary cooperation so that the needs of the environment, as well as those of development, receive the energetic attention they require.\\n55.\\tAlready the plans for the United Nations Conference on the Human Environment in 1972 have begun to take shape and have helped to focus the attention of United Nations Member Governments on this worldwide challenge; but we should not wait for the Stockholm Conference before launching necessary initiatives.\\n56.\\tTherefore the United States urges that all of us here, representing both developed and developing countries, work together to enable the United Nations to take the following steps. Firstly, it should identify those environmental problems, especially those pollutants in the atmosphere and the oceans, which are or may be dangerous on a global scale. Second, it should make plans for a coordinated world monitoring network to keep track of these environmental dangers. This network should build on existing programs, particularly those of the agencies of the United Nations family, and should use the most advanced data processing and satellite technology, such as the earth resource survey satellites which my country has been developing. Third, it should collect and analyze the suggestions of governments concerning environmental guidelines for States, both developed and developing, as well as for international institutions engaged in development programs. Fourth, it should explore the possibility of establishing international air and water quality standards. The United States hopes the Assembly at this session will act to advance those important objectives.\\n51. A newly acute problem which threatens a growing number of societies is the epidemic spread of addiction to dangerous drugs, especially among young people. This phenomenon has mushroomed in a very few years, not only in my own country but in a number of others, both developed and developing. It creates untold misery, violence, lawlessness and economic and human loss.This menace must be stopped. To do so it will be necessary to reinforce existing international agreements and to strengthen the longstanding and excellent work of agencies in this field, especially those of the United Nations. We are glad to note that the Commission on Narcotic Drugs is meeting now to deal with the whole range of problems involved, from the poppy field through the international syndicate to the needle in the vein. My Government hopes that an adequate action program will emerge from this process and will command the energetic support of the community of nations. The United States has already offered, subject to Congressional approval, a contribution of $2 million to such a program.\\n58.\\tFinally, it is important that we make better use of the talents of young people in international service, especially the service of the United Nations. Many delegations to this session, including that of the United States, contain youthful members as suggested by the General Assembly a year ago. That is entirely fitting, because the fate of the United Nations and indeed of world peace will soon be in their hands.\\n59.\\tWith that in mind President Nixon, in his address to this Assembly a year ago [1755th meeting], pledged the enthusiastic support of the United States for Iran's proposal to establish an international volunteer service corps [see 1695th meeting, para. 75], to work in the cause of development and to be recruited on an individual basis from the people, principally young people, of many countries. We hope that proposal will be given final approval in the current session. We hope also that the United Nations will seek new ways to encourage able young people to find careers in its Secretariat and those of the other agencies of the United Nations family.\\n60.\\tIn these remarks I have discussed only a few of the major tasks facing the United Nations in the years ahead. Even those, however, are enough tc make it obvious that, if we indeed address ourselves to such tasks, the effectiveness of this Organization will be tested more severely than ever. To meet this test we shall have to be far more attentive than has been our habit to many matters of structure, organization and procedure. For example, I would mention the following.\\n61.\\tIn considering applications for membership by very small States, we must make sure that they are not only willing but also, as the Charter stipulates, able to carry out the Charter's obligations. As the SecretaryGeneral has for years pointed out, many Territories now moving towards independence are too small, either in population or in resources or both, to carry out the minimum obligations which membership requires. Yet these very small entities need more than most the assistance that the United Nations system can provide. Where the burden of membership would be excessive, we should provide a form of association with the United Nations which would enable such States to enjoy the benefits without the burdens of the system.\\n62.\\tThe persistence of the United Nations financial deficit undermines confidence in the Organization, threatens its capabilities in many fields and casts a cloud over its future. The United States welcomes the SecretaryGeneral's recent call for 'a concerted effort to restore the financial solvency of the Organization'. We hope that he will himself take a lead in such an effort, in which we shall certainly play our part.\\n63.\\tIn the annual choice of non-permanent members of the Security Council, it would be well that, as the Charter requires, due regard be specially paid, in the first instance, to the prospective member's contribution to the maintenance of international peace and security, rather than merely to rotation among the members of geographic groups.\\n64.\\tThe primary consideration in selecting individuals for posts in the Secretariat, above all for senior posts, should be fully to meet the Charter's 'paramount consideration' namely 'the highest standards of efficiency, competence, and integrity'.\\n65.\\tWe must at long last take decisive steps to streamline the excessively time-consuming organization and procedures of the General Assembly, as Canada has wisely proposed, or else we shall either 'drown in a sea of words' or suffocate under an avalanche of paper.\\n66.\\tWe must take more effective measures to ensure that the entire United Nations system is so organized and managed that it responds efficiently to the directives of its governing organs and to the priority needs of the world. That will require much better administrative and budgetary coordination and control than we have yet achieved.\\n67.\\tThe United States offers these suggestions in the spirit of the twenty-fifth anniversary session, which we understand to be a spirit of sober determination to make this Organization more effective, to make its future more responsive than its past to the imperative needs of men, women and children everywhere. Many other delegations have offered or will offer their proposals in the same spirit. The test of our seriousness and our success will be how much of this agenda of objectives we can begin to carry out.\\n68.\\tWe are assembled from the four corners of the earth. The interests of the Governments we speak for often seem to be and sometimes are in contradiction. But by our presence here, by our commitment to the United Nations and its Charter, we have acknowledged that we also have interests in common, interests in peace, justice and progress, interests in the continued habitability of our planet, common interests which we are at last beginning to recognize are inescapable and overriding.\\n69.\\tThe question now is, do we have the wit not only to perceive these common interests in some vague rhetorical way, but also to act upon them together realistically and decisively even at the cost sometimes of older and narrower interests? If we do not do so, history may sweep aside not only this Organization but also the nations that compose it.\\n70.\\tThe SecretaryGeneral has said that we may have only ten years left to cope effectively with the problems of our times before they become so staggering as to be beyond our capacities. As we enter the Disarmament Decade and the Second Development Decade, let us keep that warning foremost in our minds and let us be determined to act together to avert catastrophe.\\n\\n\\n\\n\\n\n",
      "Name: text, dtype: object\n"
     ]
    }
   ],
   "source": [
    "pd.set_option('display.max_colwidth', -1)\n",
    "print(undf[(undf.year == 1970) & (undf.country == 'USA')].text)\n",
    "pd.set_option('display.max_colwidth', 50)"
   ]
  },
  {
   "cell_type": "markdown",
   "metadata": {},
   "source": [
    "The number of speeches each year will require us to use our new tool of grouping data.  This is the split-apply-combine pattern that you may have learned about previously but is so commonly used in data science that Pandas makes it pretty easy for us."
   ]
  },
  {
   "cell_type": "code",
   "execution_count": 12,
   "metadata": {},
   "outputs": [
    {
     "data": {
      "text/html": [
       "<div>\n",
       "<style scoped>\n",
       "    .dataframe tbody tr th:only-of-type {\n",
       "        vertical-align: middle;\n",
       "    }\n",
       "\n",
       "    .dataframe tbody tr th {\n",
       "        vertical-align: top;\n",
       "    }\n",
       "\n",
       "    .dataframe thead th {\n",
       "        text-align: right;\n",
       "    }\n",
       "</style>\n",
       "<table border=\"1\" class=\"dataframe\">\n",
       "  <thead>\n",
       "    <tr style=\"text-align: right;\">\n",
       "      <th></th>\n",
       "      <th>year</th>\n",
       "      <th>text</th>\n",
       "    </tr>\n",
       "  </thead>\n",
       "  <tbody>\n",
       "    <tr>\n",
       "      <th>0</th>\n",
       "      <td>1970</td>\n",
       "      <td>70</td>\n",
       "    </tr>\n",
       "    <tr>\n",
       "      <th>1</th>\n",
       "      <td>1971</td>\n",
       "      <td>116</td>\n",
       "    </tr>\n",
       "    <tr>\n",
       "      <th>2</th>\n",
       "      <td>1972</td>\n",
       "      <td>125</td>\n",
       "    </tr>\n",
       "    <tr>\n",
       "      <th>3</th>\n",
       "      <td>1973</td>\n",
       "      <td>120</td>\n",
       "    </tr>\n",
       "    <tr>\n",
       "      <th>4</th>\n",
       "      <td>1974</td>\n",
       "      <td>129</td>\n",
       "    </tr>\n",
       "  </tbody>\n",
       "</table>\n",
       "</div>"
      ],
      "text/plain": [
       "   year  text\n",
       "0  1970    70\n",
       "1  1971   116\n",
       "2  1972   125\n",
       "3  1973   120\n",
       "4  1974   129"
      ]
     },
     "execution_count": 12,
     "metadata": {},
     "output_type": "execute_result"
    }
   ],
   "source": [
    "by_year = undf.groupby('year', as_index=False)['text'].count()\n",
    "by_year.head()"
   ]
  },
  {
   "cell_type": "code",
   "execution_count": 13,
   "metadata": {},
   "outputs": [
    {
     "data": {
      "application/vnd.vegalite.v3+json": {
       "$schema": "https://vega.github.io/schema/vega-lite/v3.4.0.json",
       "config": {
        "mark": {
         "tooltip": null
        },
        "view": {
         "height": 300,
         "width": 400
        }
       },
       "data": {
        "name": "data-3d48a3f7428e60fa48f93d01de7e39f9"
       },
       "datasets": {
        "data-3d48a3f7428e60fa48f93d01de7e39f9": [
         {
          "text": 70,
          "year": 1970
         },
         {
          "text": 116,
          "year": 1971
         },
         {
          "text": 125,
          "year": 1972
         },
         {
          "text": 120,
          "year": 1973
         },
         {
          "text": 129,
          "year": 1974
         },
         {
          "text": 126,
          "year": 1975
         },
         {
          "text": 134,
          "year": 1976
         },
         {
          "text": 140,
          "year": 1977
         },
         {
          "text": 141,
          "year": 1978
         },
         {
          "text": 144,
          "year": 1979
         },
         {
          "text": 149,
          "year": 1980
         },
         {
          "text": 145,
          "year": 1981
         },
         {
          "text": 147,
          "year": 1982
         },
         {
          "text": 149,
          "year": 1983
         },
         {
          "text": 150,
          "year": 1984
         },
         {
          "text": 137,
          "year": 1985
         },
         {
          "text": 149,
          "year": 1986
         },
         {
          "text": 152,
          "year": 1987
         },
         {
          "text": 154,
          "year": 1988
         },
         {
          "text": 153,
          "year": 1989
         },
         {
          "text": 156,
          "year": 1990
         },
         {
          "text": 162,
          "year": 1991
         },
         {
          "text": 167,
          "year": 1992
         },
         {
          "text": 175,
          "year": 1993
         },
         {
          "text": 178,
          "year": 1994
         },
         {
          "text": 172,
          "year": 1995
         },
         {
          "text": 181,
          "year": 1996
         },
         {
          "text": 176,
          "year": 1997
         },
         {
          "text": 181,
          "year": 1998
         },
         {
          "text": 181,
          "year": 1999
         },
         {
          "text": 178,
          "year": 2000
         },
         {
          "text": 189,
          "year": 2001
         },
         {
          "text": 188,
          "year": 2002
         },
         {
          "text": 189,
          "year": 2003
         },
         {
          "text": 192,
          "year": 2004
         },
         {
          "text": 185,
          "year": 2005
         },
         {
          "text": 193,
          "year": 2006
         },
         {
          "text": 191,
          "year": 2007
         },
         {
          "text": 192,
          "year": 2008
         },
         {
          "text": 193,
          "year": 2009
         },
         {
          "text": 189,
          "year": 2010
         },
         {
          "text": 194,
          "year": 2011
         },
         {
          "text": 195,
          "year": 2012
         },
         {
          "text": 193,
          "year": 2013
         },
         {
          "text": 194,
          "year": 2014
         },
         {
          "text": 193,
          "year": 2015
         }
        ]
       },
       "encoding": {
        "x": {
         "field": "year",
         "type": "nominal"
        },
        "y": {
         "field": "text",
         "type": "quantitative"
        }
       },
       "mark": "bar"
      },
      "image/png": "[encoded data removed]",
      "text/plain": [
       "<VegaLite 3 object>\n",
       "\n",
       "If you see this message, it means the renderer has not been properly enabled\n",
       "for the frontend that you are using. For more information, see\n",
       "https://altair-viz.github.io/user_guide/troubleshooting.html\n"
      ]
     },
     "execution_count": 13,
     "metadata": {},
     "output_type": "execute_result"
    }
   ],
   "source": [
    "alt.Chart(by_year).mark_bar().encode(x='year:N',y='text')"
   ]
  },
  {
   "cell_type": "code",
   "execution_count": 8,
   "metadata": {},
   "outputs": [
    {
     "data": {
      "text/html": [
       "<div>\n",
       "<style scoped>\n",
       "    .dataframe tbody tr th:only-of-type {\n",
       "        vertical-align: middle;\n",
       "    }\n",
       "\n",
       "    .dataframe tbody tr th {\n",
       "        vertical-align: top;\n",
       "    }\n",
       "\n",
       "    .dataframe thead th {\n",
       "        text-align: right;\n",
       "    }\n",
       "</style>\n",
       "<table border=\"1\" class=\"dataframe\">\n",
       "  <thead>\n",
       "    <tr style=\"text-align: right;\">\n",
       "      <th></th>\n",
       "      <th>country</th>\n",
       "      <th>text</th>\n",
       "    </tr>\n",
       "  </thead>\n",
       "  <tbody>\n",
       "    <tr>\n",
       "      <th>0</th>\n",
       "      <td>AFG</td>\n",
       "      <td>45</td>\n",
       "    </tr>\n",
       "    <tr>\n",
       "      <th>1</th>\n",
       "      <td>AGO</td>\n",
       "      <td>38</td>\n",
       "    </tr>\n",
       "    <tr>\n",
       "      <th>2</th>\n",
       "      <td>ALB</td>\n",
       "      <td>46</td>\n",
       "    </tr>\n",
       "    <tr>\n",
       "      <th>3</th>\n",
       "      <td>AND</td>\n",
       "      <td>22</td>\n",
       "    </tr>\n",
       "    <tr>\n",
       "      <th>4</th>\n",
       "      <td>ARE</td>\n",
       "      <td>44</td>\n",
       "    </tr>\n",
       "  </tbody>\n",
       "</table>\n",
       "</div>"
      ],
      "text/plain": [
       "  country  text\n",
       "0     AFG    45\n",
       "1     AGO    38\n",
       "2     ALB    46\n",
       "3     AND    22\n",
       "4     ARE    44"
      ]
     },
     "execution_count": 8,
     "metadata": {},
     "output_type": "execute_result"
    }
   ],
   "source": [
    "by_country = undf.groupby('country',as_index=False)['text'].count()\n",
    "by_country.head()"
   ]
  },
  {
   "cell_type": "code",
   "execution_count": 9,
   "metadata": {},
   "outputs": [
    {
     "data": {
      "application/vnd.vegalite.v2+json": {
       "$schema": "https://vega.github.io/schema/vega-lite/v2.6.0.json",
       "config": {
        "view": {
         "height": 300,
         "width": 400
        }
       },
       "data": {
        "name": "data-fe1a63bd77ed40aff3ec8837f956f973"
       },
       "datasets": {
        "data-fe1a63bd77ed40aff3ec8837f956f973": [
         {
          "country": "AFG",
          "text": 45
         },
         {
          "country": "AGO",
          "text": 38
         },
         {
          "country": "ALB",
          "text": 46
         },
         {
          "country": "AND",
          "text": 22
         },
         {
          "country": "ARE",
          "text": 44
         },
         {
          "country": "ARG",
          "text": 46
         },
         {
          "country": "ARM",
          "text": 24
         },
         {
          "country": "ATG",
          "text": 32
         },
         {
          "country": "AUS",
          "text": 46
         },
         {
          "country": "AUT",
          "text": 46
         },
         {
          "country": "AZE",
          "text": 24
         },
         {
          "country": "BDI",
          "text": 45
         },
         {
          "country": "BEL",
          "text": 46
         },
         {
          "country": "BEN",
          "text": 44
         },
         {
          "country": "BFA",
          "text": 45
         },
         {
          "country": "BGD",
          "text": 42
         },
         {
          "country": "BGR",
          "text": 45
         },
         {
          "country": "BHR",
          "text": 44
         },
         {
          "country": "BHS",
          "text": 37
         },
         {
          "country": "BIH",
          "text": 24
         },
         {
          "country": "BLR",
          "text": 46
         },
         {
          "country": "BLZ",
          "text": 34
         },
         {
          "country": "BOL",
          "text": 46
         },
         {
          "country": "BRA",
          "text": 46
         },
         {
          "country": "BRB",
          "text": 43
         },
         {
          "country": "BRN",
          "text": 31
         },
         {
          "country": "BTN",
          "text": 41
         },
         {
          "country": "BWA",
          "text": 40
         },
         {
          "country": "CAF",
          "text": 42
         },
         {
          "country": "CAN",
          "text": 46
         },
         {
          "country": "CHE",
          "text": 14
         },
         {
          "country": "CHL",
          "text": 45
         },
         {
          "country": "CHN",
          "text": 45
         },
         {
          "country": "CIV",
          "text": 33
         },
         {
          "country": "CMR",
          "text": 41
         },
         {
          "country": "COD",
          "text": 44
         },
         {
          "country": "COG",
          "text": 46
         },
         {
          "country": "COL",
          "text": 46
         },
         {
          "country": "COM",
          "text": 39
         },
         {
          "country": "CPV",
          "text": 38
         },
         {
          "country": "CRI",
          "text": 45
         },
         {
          "country": "CSK",
          "text": 22
         },
         {
          "country": "CUB",
          "text": 46
         },
         {
          "country": "CYP",
          "text": 45
         },
         {
          "country": "CZE",
          "text": 23
         },
         {
          "country": "DDR",
          "text": 18
         },
         {
          "country": "DEU",
          "text": 43
         },
         {
          "country": "DJI",
          "text": 29
         },
         {
          "country": "DMA",
          "text": 29
         },
         {
          "country": "DNK",
          "text": 43
         },
         {
          "country": "DOM",
          "text": 44
         },
         {
          "country": "DZA",
          "text": 46
         },
         {
          "country": "ECU",
          "text": 46
         },
         {
          "country": "EGY",
          "text": 44
         },
         {
          "country": "ERI",
          "text": 23
         },
         {
          "country": "ESP",
          "text": 45
         },
         {
          "country": "EST",
          "text": 25
         },
         {
          "country": "ETH",
          "text": 45
         },
         {
          "country": "EU",
          "text": 5
         },
         {
          "country": "FIN",
          "text": 45
         },
         {
          "country": "FJI",
          "text": 43
         },
         {
          "country": "FRA",
          "text": 46
         },
         {
          "country": "FSM",
          "text": 24
         },
         {
          "country": "GAB",
          "text": 42
         },
         {
          "country": "GBR",
          "text": 46
         },
         {
          "country": "GEO",
          "text": 23
         },
         {
          "country": "GHA",
          "text": 46
         },
         {
          "country": "GIN",
          "text": 45
         },
         {
          "country": "GMB",
          "text": 38
         },
         {
          "country": "GNB",
          "text": 38
         },
         {
          "country": "GNQ",
          "text": 39
         },
         {
          "country": "GRC",
          "text": 45
         },
         {
          "country": "GRD",
          "text": 40
         },
         {
          "country": "GTM",
          "text": 46
         },
         {
          "country": "GUY",
          "text": 42
         },
         {
          "country": "HND",
          "text": 44
         },
         {
          "country": "HRV",
          "text": 24
         },
         {
          "country": "HTI",
          "text": 44
         },
         {
          "country": "HUN",
          "text": 45
         },
         {
          "country": "IDN",
          "text": 46
         },
         {
          "country": "IND",
          "text": 46
         },
         {
          "country": "IRL",
          "text": 45
         },
         {
          "country": "IRN",
          "text": 46
         },
         {
          "country": "IRQ",
          "text": 46
         },
         {
          "country": "ISL",
          "text": 46
         },
         {
          "country": "ISR",
          "text": 46
         },
         {
          "country": "ITA",
          "text": 46
         },
         {
          "country": "JAM",
          "text": 45
         },
         {
          "country": "JOR",
          "text": 45
         },
         {
          "country": "JPN",
          "text": 46
         },
         {
          "country": "KAZ",
          "text": 24
         },
         {
          "country": "KEN",
          "text": 45
         },
         {
          "country": "KGZ",
          "text": 24
         },
         {
          "country": "KHM",
          "text": 42
         },
         {
          "country": "KIR",
          "text": 13
         },
         {
          "country": "KNA",
          "text": 30
         },
         {
          "country": "KOR",
          "text": 25
         },
         {
          "country": "KWT",
          "text": 45
         },
         {
          "country": "LAO",
          "text": 45
         },
         {
          "country": "LBN",
          "text": 42
         },
         {
          "country": "LBR",
          "text": 45
         },
         {
          "country": "LBY",
          "text": 44
         },
         {
          "country": "LCA",
          "text": 32
         },
         {
          "country": "LIE",
          "text": 26
         },
         {
          "country": "LKA",
          "text": 46
         },
         {
          "country": "LSO",
          "text": 41
         },
         {
          "country": "LTU",
          "text": 25
         },
         {
          "country": "LUX",
          "text": 43
         },
         {
          "country": "LVA",
          "text": 25
         },
         {
          "country": "MAR",
          "text": 46
         },
         {
          "country": "MCO",
          "text": 23
         },
         {
          "country": "MDA",
          "text": 24
         },
         {
          "country": "MDG",
          "text": 42
         },
         {
          "country": "MDV",
          "text": 39
         },
         {
          "country": "MEX",
          "text": 46
         },
         {
          "country": "MHL",
          "text": 24
         },
         {
          "country": "MKD",
          "text": 23
         },
         {
          "country": "MLI",
          "text": 43
         },
         {
          "country": "MLT",
          "text": 42
         },
         {
          "country": "MMR",
          "text": 45
         },
         {
          "country": "MNE",
          "text": 10
         },
         {
          "country": "MNG",
          "text": 45
         },
         {
          "country": "MOZ",
          "text": 40
         },
         {
          "country": "MRT",
          "text": 45
         },
         {
          "country": "MUS",
          "text": 45
         },
         {
          "country": "MWI",
          "text": 36
         },
         {
          "country": "MYS",
          "text": 45
         },
         {
          "country": "NAM",
          "text": 26
         },
         {
          "country": "NER",
          "text": 44
         },
         {
          "country": "NGA",
          "text": 45
         },
         {
          "country": "NIC",
          "text": 44
         },
         {
          "country": "NLD",
          "text": 46
         },
         {
          "country": "NOR",
          "text": 44
         },
         {
          "country": "NPL",
          "text": 45
         },
         {
          "country": "NRU",
          "text": 16
         },
         {
          "country": "NZL",
          "text": 46
         },
         {
          "country": "OMN",
          "text": 43
         },
         {
          "country": "PAK",
          "text": 46
         },
         {
          "country": "PAN",
          "text": 42
         },
         {
          "country": "PER",
          "text": 46
         },
         {
          "country": "PHL",
          "text": 46
         },
         {
          "country": "PLW",
          "text": 18
         },
         {
          "country": "PNG",
          "text": 40
         },
         {
          "country": "POL",
          "text": 45
         },
         {
          "country": "PRK",
          "text": 25
         },
         {
          "country": "PRT",
          "text": 44
         },
         {
          "country": "PRY",
          "text": 45
         },
         {
          "country": "PSE",
          "text": 18
         },
         {
          "country": "QAT",
          "text": 45
         },
         {
          "country": "ROU",
          "text": 45
         },
         {
          "country": "RUS",
          "text": 45
         },
         {
          "country": "RWA",
          "text": 46
         },
         {
          "country": "SAU",
          "text": 34
         },
         {
          "country": "SDN",
          "text": 46
         },
         {
          "country": "SEN",
          "text": 44
         },
         {
          "country": "SGP",
          "text": 45
         },
         {
          "country": "SLB",
          "text": 33
         },
         {
          "country": "SLE",
          "text": 45
         },
         {
          "country": "SLV",
          "text": 46
         },
         {
          "country": "SMR",
          "text": 24
         },
         {
          "country": "SOM",
          "text": 36
         },
         {
          "country": "SSD",
          "text": 5
         },
         {
          "country": "STP",
          "text": 31
         },
         {
          "country": "SUR",
          "text": 40
         },
         {
          "country": "SVK",
          "text": 23
         },
         {
          "country": "SVN",
          "text": 24
         },
         {
          "country": "SWE",
          "text": 44
         },
         {
          "country": "SWZ",
          "text": 37
         },
         {
          "country": "SYC",
          "text": 27
         },
         {
          "country": "SYR",
          "text": 46
         },
         {
          "country": "TCD",
          "text": 44
         },
         {
          "country": "TGO",
          "text": 45
         },
         {
          "country": "THA",
          "text": 44
         },
         {
          "country": "TJK",
          "text": 24
         },
         {
          "country": "TKM",
          "text": 20
         },
         {
          "country": "TLS",
          "text": 13
         },
         {
          "country": "TON",
          "text": 15
         },
         {
          "country": "TTO",
          "text": 39
         },
         {
          "country": "TUN",
          "text": 46
         },
         {
          "country": "TUR",
          "text": 46
         },
         {
          "country": "TUV",
          "text": 15
         },
         {
          "country": "TZA",
          "text": 45
         },
         {
          "country": "UGA",
          "text": 42
         },
         {
          "country": "UKR",
          "text": 46
         },
         {
          "country": "URY",
          "text": 46
         },
         {
          "country": "USA",
          "text": 46
         },
         {
          "country": "UZB",
          "text": 20
         },
         {
          "country": "VAT",
          "text": 13
         },
         {
          "country": "VCT",
          "text": 34
         },
         {
          "country": "VEN",
          "text": 46
         },
         {
          "country": "VNM",
          "text": 38
         },
         {
          "country": "VUT",
          "text": 30
         },
         {
          "country": "WSM",
          "text": 31
         },
         {
          "country": "YDYE",
          "text": 19
         },
         {
          "country": "YEM",
          "text": 45
         },
         {
          "country": "YUG",
          "text": 37
         },
         {
          "country": "ZAF",
          "text": 27
         },
         {
          "country": "ZMB",
          "text": 41
         },
         {
          "country": "ZWE",
          "text": 35
         }
        ]
       },
       "encoding": {
        "x": {
         "bin": true,
         "field": "text",
         "type": "quantitative"
        },
        "y": {
         "aggregate": "count",
         "type": "quantitative"
        }
       },
       "mark": "bar",
       "title": "speech distribution"
      },
      "image/png": "[encoded data removed]",
      "text/plain": [
       "<VegaLite 2 object>\n",
       "\n",
       "If you see this message, it means the renderer has not been properly enabled\n",
       "for the frontend that you are using. For more information, see\n",
       "https://altair-viz.github.io/user_guide/troubleshooting.html\n"
      ]
     },
     "execution_count": 9,
     "metadata": {},
     "output_type": "execute_result"
    }
   ],
   "source": [
    "alt.Chart(by_country,title='speech distribution').mark_bar().encode(x=alt.X('text',bin=True),y='count()')"
   ]
  },
  {
   "cell_type": "code",
   "execution_count": null,
   "metadata": {},
   "outputs": [],
   "source": []
  },
  {
   "cell_type": "code",
   "execution_count": 10,
   "metadata": {},
   "outputs": [
    {
     "data": {
      "text/plain": [
       "country    ALB\n",
       "text        46\n",
       "Name: 2, dtype: object"
      ]
     },
     "execution_count": 10,
     "metadata": {},
     "output_type": "execute_result"
    }
   ],
   "source": [
    "by_country.loc[by_country.text.idxmax()]"
   ]
  },
  {
   "cell_type": "code",
   "execution_count": 11,
   "metadata": {},
   "outputs": [
    {
     "data": {
      "text/plain": [
       "country    EU\n",
       "text        5\n",
       "Name: 58, dtype: object"
      ]
     },
     "execution_count": 11,
     "metadata": {},
     "output_type": "execute_result"
    }
   ],
   "source": [
    "by_country.loc[by_country.text.idxmin()]"
   ]
  },
  {
   "cell_type": "markdown",
   "metadata": {},
   "source": [
    "Those answers are not very satisfactory as we can only guess as to which country ALB or EU might be.  Somewhat distressingly we see that in one case the three digit code is used and in another a two digit code.  We will want to augment this data using our world factbook data or the data we scraped.  I have a complete table ready for you to load so you don't have to scrape it again."
   ]
  },
  {
   "cell_type": "code",
   "execution_count": 12,
   "metadata": {},
   "outputs": [],
   "source": [
    "#c_codes = pd.read_csv('Data/country_codes.csv')\n",
    "#c_codes.head()"
   ]
  },
  {
   "cell_type": "markdown",
   "metadata": {},
   "source": [
    "## OH NO What the heck!!\n",
    "\n",
    "Unicode errors can be a huge pain, but are a fact of life for anyone dealing with data from multiple sources.  In this case we can use the unix file command to get a bit more information:\n",
    "\n",
    "    $ file -I country_codes.csv                      \n",
    "    country_codes.csv: text/plain; charset=iso-8859-1\n",
    "    \n",
    "Now that we know how the file is encoded we can read it easily    "
   ]
  },
  {
   "cell_type": "code",
   "execution_count": 14,
   "metadata": {},
   "outputs": [
    {
     "data": {
      "text/html": [
       "<div>\n",
       "<style scoped>\n",
       "    .dataframe tbody tr th:only-of-type {\n",
       "        vertical-align: middle;\n",
       "    }\n",
       "\n",
       "    .dataframe tbody tr th {\n",
       "        vertical-align: top;\n",
       "    }\n",
       "\n",
       "    .dataframe thead th {\n",
       "        text-align: right;\n",
       "    }\n",
       "</style>\n",
       "<table border=\"1\" class=\"dataframe\">\n",
       "  <thead>\n",
       "    <tr style=\"text-align: right;\">\n",
       "      <th></th>\n",
       "      <th>country</th>\n",
       "      <th>code_2</th>\n",
       "      <th>code_3</th>\n",
       "      <th>country_code</th>\n",
       "      <th>iso_3166_2</th>\n",
       "      <th>continent</th>\n",
       "      <th>sub_region</th>\n",
       "      <th>region_code</th>\n",
       "      <th>sub_region_code</th>\n",
       "    </tr>\n",
       "  </thead>\n",
       "  <tbody>\n",
       "    <tr>\n",
       "      <th>0</th>\n",
       "      <td>Afghanistan</td>\n",
       "      <td>AF</td>\n",
       "      <td>AFG</td>\n",
       "      <td>4</td>\n",
       "      <td>ISO 3166-2:AF</td>\n",
       "      <td>Asia</td>\n",
       "      <td>Southern Asia</td>\n",
       "      <td>142.0</td>\n",
       "      <td>34.0</td>\n",
       "    </tr>\n",
       "    <tr>\n",
       "      <th>1</th>\n",
       "      <td>Åland Islands</td>\n",
       "      <td>AX</td>\n",
       "      <td>ALA</td>\n",
       "      <td>248</td>\n",
       "      <td>ISO 3166-2:AX</td>\n",
       "      <td>Europe</td>\n",
       "      <td>Northern Europe</td>\n",
       "      <td>150.0</td>\n",
       "      <td>154.0</td>\n",
       "    </tr>\n",
       "    <tr>\n",
       "      <th>2</th>\n",
       "      <td>Albania</td>\n",
       "      <td>AL</td>\n",
       "      <td>ALB</td>\n",
       "      <td>8</td>\n",
       "      <td>ISO 3166-2:AL</td>\n",
       "      <td>Europe</td>\n",
       "      <td>Southern Europe</td>\n",
       "      <td>150.0</td>\n",
       "      <td>39.0</td>\n",
       "    </tr>\n",
       "    <tr>\n",
       "      <th>3</th>\n",
       "      <td>Algeria</td>\n",
       "      <td>DZ</td>\n",
       "      <td>DZA</td>\n",
       "      <td>12</td>\n",
       "      <td>ISO 3166-2:DZ</td>\n",
       "      <td>Africa</td>\n",
       "      <td>Northern Africa</td>\n",
       "      <td>2.0</td>\n",
       "      <td>15.0</td>\n",
       "    </tr>\n",
       "    <tr>\n",
       "      <th>4</th>\n",
       "      <td>American Samoa</td>\n",
       "      <td>AS</td>\n",
       "      <td>ASM</td>\n",
       "      <td>16</td>\n",
       "      <td>ISO 3166-2:AS</td>\n",
       "      <td>Oceania</td>\n",
       "      <td>Polynesia</td>\n",
       "      <td>9.0</td>\n",
       "      <td>61.0</td>\n",
       "    </tr>\n",
       "  </tbody>\n",
       "</table>\n",
       "</div>"
      ],
      "text/plain": [
       "          country code_2 code_3  country_code     iso_3166_2 continent  \\\n",
       "0     Afghanistan     AF    AFG             4  ISO 3166-2:AF      Asia   \n",
       "1   Åland Islands     AX    ALA           248  ISO 3166-2:AX    Europe   \n",
       "2         Albania     AL    ALB             8  ISO 3166-2:AL    Europe   \n",
       "3         Algeria     DZ    DZA            12  ISO 3166-2:DZ    Africa   \n",
       "4  American Samoa     AS    ASM            16  ISO 3166-2:AS   Oceania   \n",
       "\n",
       "        sub_region  region_code  sub_region_code  \n",
       "0    Southern Asia        142.0             34.0  \n",
       "1  Northern Europe        150.0            154.0  \n",
       "2  Southern Europe        150.0             39.0  \n",
       "3  Northern Africa          2.0             15.0  \n",
       "4        Polynesia          9.0             61.0  "
      ]
     },
     "execution_count": 14,
     "metadata": {},
     "output_type": "execute_result"
    }
   ],
   "source": [
    "c_codes = pd.read_csv('../Data/country_codes.csv', encoding='iso-8859-1')\n",
    "c_codes.head()"
   ]
  },
  {
   "cell_type": "markdown",
   "metadata": {},
   "source": [
    "This data frame has a lot of information and we can add all or just a bit of it to our united nations dataframe using Pandas' `merge` method. \n",
    "\n",
    "Before we merge lets clean up the column names on the undf data frame and rename country to code_3 to be consistent with the above."
   ]
  },
  {
   "cell_type": "code",
   "execution_count": 15,
   "metadata": {},
   "outputs": [
    {
     "data": {
      "text/html": [
       "<div>\n",
       "<style scoped>\n",
       "    .dataframe tbody tr th:only-of-type {\n",
       "        vertical-align: middle;\n",
       "    }\n",
       "\n",
       "    .dataframe tbody tr th {\n",
       "        vertical-align: top;\n",
       "    }\n",
       "\n",
       "    .dataframe thead th {\n",
       "        text-align: right;\n",
       "    }\n",
       "</style>\n",
       "<table border=\"1\" class=\"dataframe\">\n",
       "  <thead>\n",
       "    <tr style=\"text-align: right;\">\n",
       "      <th></th>\n",
       "      <th>session</th>\n",
       "      <th>year</th>\n",
       "      <th>code_3</th>\n",
       "      <th>text</th>\n",
       "    </tr>\n",
       "  </thead>\n",
       "  <tbody>\n",
       "    <tr>\n",
       "      <th>0</th>\n",
       "      <td>44</td>\n",
       "      <td>1989</td>\n",
       "      <td>MDV</td>\n",
       "      <td>﻿It is indeed a pleasure for me and the member...</td>\n",
       "    </tr>\n",
       "    <tr>\n",
       "      <th>1</th>\n",
       "      <td>44</td>\n",
       "      <td>1989</td>\n",
       "      <td>FIN</td>\n",
       "      <td>﻿\\nMay I begin by congratulating you. Sir, on ...</td>\n",
       "    </tr>\n",
       "    <tr>\n",
       "      <th>2</th>\n",
       "      <td>44</td>\n",
       "      <td>1989</td>\n",
       "      <td>NER</td>\n",
       "      <td>﻿\\nMr. President, it is a particular pleasure ...</td>\n",
       "    </tr>\n",
       "    <tr>\n",
       "      <th>3</th>\n",
       "      <td>44</td>\n",
       "      <td>1989</td>\n",
       "      <td>URY</td>\n",
       "      <td>﻿\\nDuring the debate at the fortieth session o...</td>\n",
       "    </tr>\n",
       "    <tr>\n",
       "      <th>4</th>\n",
       "      <td>44</td>\n",
       "      <td>1989</td>\n",
       "      <td>ZWE</td>\n",
       "      <td>﻿I should like at the outset to express my del...</td>\n",
       "    </tr>\n",
       "  </tbody>\n",
       "</table>\n",
       "</div>"
      ],
      "text/plain": [
       "   session  year code_3                                               text\n",
       "0       44  1989    MDV  ﻿It is indeed a pleasure for me and the member...\n",
       "1       44  1989    FIN  ﻿\\nMay I begin by congratulating you. Sir, on ...\n",
       "2       44  1989    NER  ﻿\\nMr. President, it is a particular pleasure ...\n",
       "3       44  1989    URY  ﻿\\nDuring the debate at the fortieth session o...\n",
       "4       44  1989    ZWE  ﻿I should like at the outset to express my del..."
      ]
     },
     "execution_count": 15,
     "metadata": {},
     "output_type": "execute_result"
    }
   ],
   "source": [
    "undf.columns = ['session', 'year', 'code_3', 'text']\n",
    "undf.head()\n"
   ]
  },
  {
   "cell_type": "markdown",
   "metadata": {},
   "source": [
    "Now we can merge our two data frames!  We will keep all the columns from the original undf data frame  and add country, continent, and subregion from the c_codes data frame.  We will merge the two data frames on the code_3 column.  That is for every row in undf we will look for a row in the c_codes data frame where the values for code_3 match.  Pandas will then add the rest of the columns from the matching row in c_codes  to the current row in undf.  \n",
    "\n",
    "**Dramatic foreshadowing** In the c_codes data frame code_3 is the 'primary key' as no two rows will have the same value for code_3.  In the undf data frame code_3 is a 'Foreign key' as we use it to lookup additional information in a table where code_3 is a primary key.   More on this when we study SQL queries."
   ]
  },
  {
   "cell_type": "code",
   "execution_count": 16,
   "metadata": {},
   "outputs": [
    {
     "data": {
      "text/html": [
       "<div>\n",
       "<style scoped>\n",
       "    .dataframe tbody tr th:only-of-type {\n",
       "        vertical-align: middle;\n",
       "    }\n",
       "\n",
       "    .dataframe tbody tr th {\n",
       "        vertical-align: top;\n",
       "    }\n",
       "\n",
       "    .dataframe thead th {\n",
       "        text-align: right;\n",
       "    }\n",
       "</style>\n",
       "<table border=\"1\" class=\"dataframe\">\n",
       "  <thead>\n",
       "    <tr style=\"text-align: right;\">\n",
       "      <th></th>\n",
       "      <th>session</th>\n",
       "      <th>year</th>\n",
       "      <th>code_3</th>\n",
       "      <th>text</th>\n",
       "      <th>country</th>\n",
       "      <th>continent</th>\n",
       "      <th>sub_region</th>\n",
       "    </tr>\n",
       "  </thead>\n",
       "  <tbody>\n",
       "    <tr>\n",
       "      <th>0</th>\n",
       "      <td>44</td>\n",
       "      <td>1989</td>\n",
       "      <td>MDV</td>\n",
       "      <td>﻿It is indeed a pleasure for me and the member...</td>\n",
       "      <td>Maldives</td>\n",
       "      <td>Asia</td>\n",
       "      <td>Southern Asia</td>\n",
       "    </tr>\n",
       "    <tr>\n",
       "      <th>1</th>\n",
       "      <td>68</td>\n",
       "      <td>2013</td>\n",
       "      <td>MDV</td>\n",
       "      <td>I wish to begin by \\nextending my heartfelt co...</td>\n",
       "      <td>Maldives</td>\n",
       "      <td>Asia</td>\n",
       "      <td>Southern Asia</td>\n",
       "    </tr>\n",
       "    <tr>\n",
       "      <th>2</th>\n",
       "      <td>63</td>\n",
       "      <td>2008</td>\n",
       "      <td>MDV</td>\n",
       "      <td>I am delivering this \\nstatement on behalf of ...</td>\n",
       "      <td>Maldives</td>\n",
       "      <td>Asia</td>\n",
       "      <td>Southern Asia</td>\n",
       "    </tr>\n",
       "    <tr>\n",
       "      <th>3</th>\n",
       "      <td>46</td>\n",
       "      <td>1991</td>\n",
       "      <td>MDV</td>\n",
       "      <td>﻿Allow me at the outset on behalf of the deleg...</td>\n",
       "      <td>Maldives</td>\n",
       "      <td>Asia</td>\n",
       "      <td>Southern Asia</td>\n",
       "    </tr>\n",
       "    <tr>\n",
       "      <th>4</th>\n",
       "      <td>41</td>\n",
       "      <td>1986</td>\n",
       "      <td>MDV</td>\n",
       "      <td>It is indeed a pleasure for me and all the mem...</td>\n",
       "      <td>Maldives</td>\n",
       "      <td>Asia</td>\n",
       "      <td>Southern Asia</td>\n",
       "    </tr>\n",
       "  </tbody>\n",
       "</table>\n",
       "</div>"
      ],
      "text/plain": [
       "   session  year code_3                                               text  \\\n",
       "0       44  1989    MDV  ﻿It is indeed a pleasure for me and the member...   \n",
       "1       68  2013    MDV  I wish to begin by \\nextending my heartfelt co...   \n",
       "2       63  2008    MDV  I am delivering this \\nstatement on behalf of ...   \n",
       "3       46  1991    MDV  ﻿Allow me at the outset on behalf of the deleg...   \n",
       "4       41  1986    MDV  It is indeed a pleasure for me and all the mem...   \n",
       "\n",
       "    country continent     sub_region  \n",
       "0  Maldives      Asia  Southern Asia  \n",
       "1  Maldives      Asia  Southern Asia  \n",
       "2  Maldives      Asia  Southern Asia  \n",
       "3  Maldives      Asia  Southern Asia  \n",
       "4  Maldives      Asia  Southern Asia  "
      ]
     },
     "execution_count": 16,
     "metadata": {},
     "output_type": "execute_result"
    }
   ],
   "source": [
    "undfe = undf.merge(c_codes[['code_3', 'country', 'continent', 'sub_region']])\n",
    "undfe.head()"
   ]
  },
  {
   "cell_type": "code",
   "execution_count": 17,
   "metadata": {},
   "outputs": [
    {
     "name": "stderr",
     "output_type": "stream",
     "text": [
      "/Users/bmiller/.virtualenvs/research/lib/python3.7/site-packages/ipykernel_launcher.py:1: UserWarning: Boolean Series key will be reindexed to match DataFrame index.\n",
      "  \"\"\"Entry point for launching an IPython kernel.\n"
     ]
    },
    {
     "data": {
      "text/html": [
       "<div>\n",
       "<style scoped>\n",
       "    .dataframe tbody tr th:only-of-type {\n",
       "        vertical-align: middle;\n",
       "    }\n",
       "\n",
       "    .dataframe tbody tr th {\n",
       "        vertical-align: top;\n",
       "    }\n",
       "\n",
       "    .dataframe thead th {\n",
       "        text-align: right;\n",
       "    }\n",
       "</style>\n",
       "<table border=\"1\" class=\"dataframe\">\n",
       "  <thead>\n",
       "    <tr style=\"text-align: right;\">\n",
       "      <th></th>\n",
       "      <th>session</th>\n",
       "      <th>year</th>\n",
       "      <th>code_3</th>\n",
       "      <th>text</th>\n",
       "      <th>country</th>\n",
       "      <th>continent</th>\n",
       "      <th>sub_region</th>\n",
       "    </tr>\n",
       "  </thead>\n",
       "  <tbody>\n",
       "  </tbody>\n",
       "</table>\n",
       "</div>"
      ],
      "text/plain": [
       "Empty DataFrame\n",
       "Columns: [session, year, code_3, text, country, continent, sub_region]\n",
       "Index: []"
      ]
     },
     "execution_count": 17,
     "metadata": {},
     "output_type": "execute_result"
    }
   ],
   "source": [
    "undfe[undf.code_3 == 'EU ']"
   ]
  },
  {
   "cell_type": "markdown",
   "metadata": {},
   "source": [
    "Wait! What?  what happened to EU?!!  Why did it dissappear after the merge?  What else may have dissappeared?  The reason the EU dissappeared is that it is not in the c_codes data frame, and as you may recall the merge function does the equivalent of a set intersection.  That is the key must be in BOTH data frames in order for it to be in the result.  We can do our merge using an outer join to preserve the data and then see which countries have no text and which texts have no country name.\n"
   ]
  },
  {
   "cell_type": "code",
   "execution_count": 18,
   "metadata": {},
   "outputs": [
    {
     "data": {
      "text/html": [
       "<div>\n",
       "<style scoped>\n",
       "    .dataframe tbody tr th:only-of-type {\n",
       "        vertical-align: middle;\n",
       "    }\n",
       "\n",
       "    .dataframe tbody tr th {\n",
       "        vertical-align: top;\n",
       "    }\n",
       "\n",
       "    .dataframe thead th {\n",
       "        text-align: right;\n",
       "    }\n",
       "</style>\n",
       "<table border=\"1\" class=\"dataframe\">\n",
       "  <thead>\n",
       "    <tr style=\"text-align: right;\">\n",
       "      <th></th>\n",
       "      <th>session</th>\n",
       "      <th>year</th>\n",
       "      <th>code_3</th>\n",
       "      <th>text</th>\n",
       "      <th>country</th>\n",
       "      <th>continent</th>\n",
       "      <th>sub_region</th>\n",
       "    </tr>\n",
       "  </thead>\n",
       "  <tbody>\n",
       "    <tr>\n",
       "      <th>0</th>\n",
       "      <td>44.0</td>\n",
       "      <td>1989.0</td>\n",
       "      <td>MDV</td>\n",
       "      <td>﻿It is indeed a pleasure for me and the member...</td>\n",
       "      <td>Maldives</td>\n",
       "      <td>Asia</td>\n",
       "      <td>Southern Asia</td>\n",
       "    </tr>\n",
       "    <tr>\n",
       "      <th>1</th>\n",
       "      <td>68.0</td>\n",
       "      <td>2013.0</td>\n",
       "      <td>MDV</td>\n",
       "      <td>I wish to begin by \\nextending my heartfelt co...</td>\n",
       "      <td>Maldives</td>\n",
       "      <td>Asia</td>\n",
       "      <td>Southern Asia</td>\n",
       "    </tr>\n",
       "    <tr>\n",
       "      <th>2</th>\n",
       "      <td>63.0</td>\n",
       "      <td>2008.0</td>\n",
       "      <td>MDV</td>\n",
       "      <td>I am delivering this \\nstatement on behalf of ...</td>\n",
       "      <td>Maldives</td>\n",
       "      <td>Asia</td>\n",
       "      <td>Southern Asia</td>\n",
       "    </tr>\n",
       "    <tr>\n",
       "      <th>3</th>\n",
       "      <td>46.0</td>\n",
       "      <td>1991.0</td>\n",
       "      <td>MDV</td>\n",
       "      <td>﻿Allow me at the outset on behalf of the deleg...</td>\n",
       "      <td>Maldives</td>\n",
       "      <td>Asia</td>\n",
       "      <td>Southern Asia</td>\n",
       "    </tr>\n",
       "    <tr>\n",
       "      <th>4</th>\n",
       "      <td>41.0</td>\n",
       "      <td>1986.0</td>\n",
       "      <td>MDV</td>\n",
       "      <td>It is indeed a pleasure for me and all the mem...</td>\n",
       "      <td>Maldives</td>\n",
       "      <td>Asia</td>\n",
       "      <td>Southern Asia</td>\n",
       "    </tr>\n",
       "  </tbody>\n",
       "</table>\n",
       "</div>"
      ],
      "text/plain": [
       "   session    year code_3                                               text  \\\n",
       "0     44.0  1989.0    MDV  ﻿It is indeed a pleasure for me and the member...   \n",
       "1     68.0  2013.0    MDV  I wish to begin by \\nextending my heartfelt co...   \n",
       "2     63.0  2008.0    MDV  I am delivering this \\nstatement on behalf of ...   \n",
       "3     46.0  1991.0    MDV  ﻿Allow me at the outset on behalf of the deleg...   \n",
       "4     41.0  1986.0    MDV  It is indeed a pleasure for me and all the mem...   \n",
       "\n",
       "    country continent     sub_region  \n",
       "0  Maldives      Asia  Southern Asia  \n",
       "1  Maldives      Asia  Southern Asia  \n",
       "2  Maldives      Asia  Southern Asia  \n",
       "3  Maldives      Asia  Southern Asia  \n",
       "4  Maldives      Asia  Southern Asia  "
      ]
     },
     "execution_count": 18,
     "metadata": {},
     "output_type": "execute_result"
    }
   ],
   "source": [
    "undfe = undf.merge(c_codes[['code_3', 'country', 'continent', 'sub_region']], how='outer')\n",
    "undfe.head()"
   ]
  },
  {
   "cell_type": "markdown",
   "metadata": {},
   "source": [
    "Now lets see which country names are not filled in."
   ]
  },
  {
   "cell_type": "code",
   "execution_count": 19,
   "metadata": {},
   "outputs": [
    {
     "data": {
      "text/plain": [
       "array(['YDYE', 'CSK', 'YUG', 'DDR', 'EU'], dtype=object)"
      ]
     },
     "execution_count": 19,
     "metadata": {},
     "output_type": "execute_result"
    }
   ],
   "source": [
    "undfe[undfe.country.isna()].code_3.unique()"
   ]
  },
  {
   "cell_type": "code",
   "execution_count": 21,
   "metadata": {},
   "outputs": [
    {
     "data": {
      "text/plain": [
       "array(['ALA', 'ASM', 'AIA', 'ATA', 'ABW', 'BMU', 'BES', 'BVT', 'IOT',\n",
       "       'CYM', 'CXR', 'CCK', 'COK', 'CUW', 'FLK', 'FRO', 'GUF', 'PYF',\n",
       "       'ATF', 'GIB', 'GRL', 'GLP', 'GUM', 'GGY', 'HMD', 'HKG', 'IMN',\n",
       "       'JEY', 'MAC', 'MTQ', 'MYT', 'MSR', 'NCL', 'NIU', 'NFK', 'MNP',\n",
       "       'PCN', 'PRI', 'REU', 'BLM', 'SHN', 'MAF', 'SPM', 'SRB', 'SXM',\n",
       "       'SGS', 'SJM', 'TWN', 'TKL', 'TCA', 'UMI', 'VGB', 'VIR', 'WLF',\n",
       "       'ESH'], dtype=object)"
      ]
     },
     "execution_count": 21,
     "metadata": {},
     "output_type": "execute_result"
    }
   ],
   "source": [
    "undfe[undfe.text.isna()].code_3.unique()"
   ]
  },
  {
   "cell_type": "code",
   "execution_count": 22,
   "metadata": {},
   "outputs": [
    {
     "data": {
      "text/plain": [
       "array(['Åland Islands', 'American Samoa', 'Anguilla', 'Antarctica',\n",
       "       'Aruba', 'Bermuda', 'Bonaire, Sint Eustatius and Saba',\n",
       "       'Bouvet Island', 'British Indian Ocean Territory',\n",
       "       'Cayman Islands', 'Christmas Island', 'Cocos (Keeling) Islands',\n",
       "       'Cook Islands', 'Curaçao', 'Falkland Islands (Malvinas)',\n",
       "       'Faroe Islands', 'French Guiana', 'French Polynesia',\n",
       "       'French Southern Territories', 'Gibraltar', 'Greenland',\n",
       "       'Guadeloupe', 'Guam', 'Guernsey',\n",
       "       'Heard Island and McDonald Islands', 'Hong Kong', 'Isle of Man',\n",
       "       'Jersey', 'Macao', 'Martinique', 'Mayotte', 'Montserrat',\n",
       "       'New Caledonia', 'Niue', 'Norfolk Island',\n",
       "       'Northern Mariana Islands', 'Pitcairn', 'Puerto Rico', 'Réunion',\n",
       "       'Saint Barthélemy', 'Saint Helena, Ascension and Tristan da Cunha',\n",
       "       'Saint Martin (French part)', 'Saint Pierre and Miquelon',\n",
       "       'Serbia', 'Sint Maarten (Dutch part)',\n",
       "       'South Georgia and the South Sandwich Islands',\n",
       "       'Svalbard and Jan Mayen', 'Taiwan, Province of China', 'Tokelau',\n",
       "       'Turks and Caicos Islands', 'United States Minor Outlying Islands',\n",
       "       'Virgin Islands (British)', 'Virgin Islands (U.S.)',\n",
       "       'Wallis and Futuna', 'Western Sahara'], dtype=object)"
      ]
     },
     "execution_count": 22,
     "metadata": {},
     "output_type": "execute_result"
    }
   ],
   "source": [
    "undfe[undfe.text.isna()].country.unique()"
   ]
  },
  {
   "cell_type": "markdown",
   "metadata": {},
   "source": [
    "Do some research and fill in the country names for YDYE, CSK, YUG, DDR, and EU by hand."
   ]
  },
  {
   "cell_type": "code",
   "execution_count": 23,
   "metadata": {},
   "outputs": [],
   "source": [
    "undfe.loc[undfe.code_3 == 'EU', 'country'] = 'European Union'"
   ]
  },
  {
   "cell_type": "code",
   "execution_count": null,
   "metadata": {},
   "outputs": [],
   "source": []
  },
  {
   "cell_type": "code",
   "execution_count": 24,
   "metadata": {},
   "outputs": [
    {
     "data": {
      "text/plain": [
       "country    American Samoa\n",
       "text                    0\n",
       "Name: 3, dtype: object"
      ]
     },
     "execution_count": 24,
     "metadata": {},
     "output_type": "execute_result"
    }
   ],
   "source": [
    "by_country = undfe.groupby('country',as_index=False)['text'].count()\n",
    "by_country.loc[by_country.text.idxmin()]"
   ]
  },
  {
   "cell_type": "code",
   "execution_count": null,
   "metadata": {},
   "outputs": [],
   "source": []
  },
  {
   "cell_type": "code",
   "execution_count": null,
   "metadata": {},
   "outputs": [],
   "source": []
  },
  {
   "cell_type": "code",
   "execution_count": 25,
   "metadata": {},
   "outputs": [
    {
     "data": {
      "text/html": [
       "<div>\n",
       "<style scoped>\n",
       "    .dataframe tbody tr th:only-of-type {\n",
       "        vertical-align: middle;\n",
       "    }\n",
       "\n",
       "    .dataframe tbody tr th {\n",
       "        vertical-align: top;\n",
       "    }\n",
       "\n",
       "    .dataframe thead th {\n",
       "        text-align: right;\n",
       "    }\n",
       "</style>\n",
       "<table border=\"1\" class=\"dataframe\">\n",
       "  <thead>\n",
       "    <tr style=\"text-align: right;\">\n",
       "      <th></th>\n",
       "      <th>country</th>\n",
       "      <th>code_2</th>\n",
       "      <th>code_3</th>\n",
       "      <th>country_code</th>\n",
       "      <th>iso_3166_2</th>\n",
       "      <th>continent</th>\n",
       "      <th>sub_region</th>\n",
       "      <th>region_code</th>\n",
       "      <th>sub_region_code</th>\n",
       "    </tr>\n",
       "  </thead>\n",
       "  <tbody>\n",
       "  </tbody>\n",
       "</table>\n",
       "</div>"
      ],
      "text/plain": [
       "Empty DataFrame\n",
       "Columns: [country, code_2, code_3, country_code, iso_3166_2, continent, sub_region, region_code, sub_region_code]\n",
       "Index: []"
      ]
     },
     "execution_count": 25,
     "metadata": {},
     "output_type": "execute_result"
    }
   ],
   "source": [
    "c_codes[c_codes.code_2 == 'EU']"
   ]
  },
  {
   "cell_type": "markdown",
   "metadata": {},
   "source": [
    "I suspect that EU is the European Union which has a place in the UN but is not a country.  So OK, South Sudan has only spoken 5 times.  Why is that? There is a very logical explanation, but it only makes you want to check out the 5 or 10 countries that have spoken the least.  What are they?\n",
    "\n",
    "Ok, but why did EU seem to dissappear?  When we do a merge if the key is missing then the row is not included in the final result.\n"
   ]
  },
  {
   "cell_type": "code",
   "execution_count": 26,
   "metadata": {},
   "outputs": [
    {
     "data": {
      "text/plain": [
       "7562"
      ]
     },
     "execution_count": 26,
     "metadata": {},
     "output_type": "execute_result"
    }
   ],
   "source": [
    "len(undfe)"
   ]
  },
  {
   "cell_type": "code",
   "execution_count": 27,
   "metadata": {},
   "outputs": [
    {
     "data": {
      "text/plain": [
       "199"
      ]
     },
     "execution_count": 27,
     "metadata": {},
     "output_type": "execute_result"
    }
   ],
   "source": [
    "len(undf.code_3.unique())"
   ]
  },
  {
   "cell_type": "code",
   "execution_count": 28,
   "metadata": {},
   "outputs": [
    {
     "data": {
      "text/plain": [
       "254"
      ]
     },
     "execution_count": 28,
     "metadata": {},
     "output_type": "execute_result"
    }
   ],
   "source": [
    "len(undfe.code_3.unique())"
   ]
  },
  {
   "cell_type": "code",
   "execution_count": 29,
   "metadata": {},
   "outputs": [
    {
     "data": {
      "text/plain": [
       "set()"
      ]
     },
     "execution_count": 29,
     "metadata": {},
     "output_type": "execute_result"
    }
   ],
   "source": [
    "set(undf.code_3.unique()) - set(undfe.code_3.unique())"
   ]
  },
  {
   "cell_type": "markdown",
   "metadata": {},
   "source": [
    "Can you figure out what each of the above stand for?  Why are they not in the list I gave you?\n",
    "\n",
    "At this point you may want to edit the csv file and add the data for these countries to the file.  Then you can rerun the whole notebook and we will not lose as much data."
   ]
  },
  {
   "cell_type": "markdown",
   "metadata": {},
   "source": [
    "Before we tackle most common and least common words we need to understand a couple of things about text processing.  First we are going to want to clean up our text, and second we need to learn about stop words.  If you think about it for a minute you can probably answer the question of the most used words already they will be words like 'a', 'an', 'the', 'and' etc.  These words are pretty useless if we are trying to extract some meaning from long texts.  Our initial list of cleaening tasks is as follows:\n",
    "\n",
    "1. Convert all text to lower case\n",
    "2. Remove all punctuation\n",
    "3. Break the string into a list of words\n",
    "4. Remove stop words from the list\n"
   ]
  },
  {
   "cell_type": "code",
   "execution_count": 31,
   "metadata": {},
   "outputs": [],
   "source": [
    "speeches_1970 = undfe[undfe.year == 1970].copy()\n"
   ]
  },
  {
   "cell_type": "code",
   "execution_count": 32,
   "metadata": {},
   "outputs": [],
   "source": [
    "speeches_1970['text'] = speeches_1970.text.apply(lambda x: x.lower())"
   ]
  },
  {
   "cell_type": "code",
   "execution_count": 33,
   "metadata": {},
   "outputs": [],
   "source": [
    "speeches_1970['text'] = speeches_1970.text.apply(lambda x: x.translate(str.maketrans(string.punctuation, ' '*len(string.punctuation))))\n"
   ]
  },
  {
   "cell_type": "code",
   "execution_count": 34,
   "metadata": {},
   "outputs": [],
   "source": [
    "speeches_1970['word_list'] = speeches_1970.text.apply(nltk.word_tokenize)"
   ]
  },
  {
   "cell_type": "code",
   "execution_count": 35,
   "metadata": {},
   "outputs": [],
   "source": [
    "from collections import Counter\n",
    "c = Counter(speeches_1970.word_list.sum())"
   ]
  },
  {
   "cell_type": "code",
   "execution_count": 36,
   "metadata": {},
   "outputs": [
    {
     "data": {
      "text/plain": [
       "[('the', 25077),\n",
       " ('of', 16265),\n",
       " ('and', 9224),\n",
       " ('to', 9134),\n",
       " ('in', 6668),\n",
       " ('a', 4530),\n",
       " ('that', 3919),\n",
       " ('is', 3322),\n",
       " ('for', 2563),\n",
       " ('which', 2471)]"
      ]
     },
     "execution_count": 36,
     "metadata": {},
     "output_type": "execute_result"
    }
   ],
   "source": [
    "c.most_common(10)"
   ]
  },
  {
   "cell_type": "code",
   "execution_count": 37,
   "metadata": {},
   "outputs": [
    {
     "data": {
      "text/plain": [
       "[('empowers', 1),\n",
       " ('petitions', 1),\n",
       " ('2106', 1),\n",
       " ('pains', 1),\n",
       " ('nail', 1),\n",
       " ('coffin', 1),\n",
       " ('elude', 1),\n",
       " ('750', 1),\n",
       " ('pacem', 1),\n",
       " ('terris', 1)]"
      ]
     },
     "execution_count": 37,
     "metadata": {},
     "output_type": "execute_result"
    }
   ],
   "source": [
    "c.most_common()[-10:]"
   ]
  },
  {
   "cell_type": "markdown",
   "metadata": {},
   "source": [
    "\n",
    "    LookupError: \n",
    "    **********************************************************************\n",
    "      Resource stopwords not found.\n",
    "      Please use the NLTK Downloader to obtain the resource:\n",
    "\n",
    "      >>> import nltk\n",
    "      >>> nltk.download('stopwords')\n",
    "\n",
    "      Searched in:\n",
    "        - '/Users/bradleymiller/nltk_data'\n",
    "        - '/usr/share/nltk_data'\n",
    "        - '/usr/local/share/nltk_data'\n",
    "        - '/usr/lib/nltk_data'\n",
    "        - '/usr/local/lib/nltk_data'\n",
    "        - '/Users/bradleymiller/.local/share/virtualenvs/httlads--V2x4wK-/bin/../nltk_data'\n",
    "        - '/Users/bradleymiller/.local/share/virtualenvs/httlads--V2x4wK-/bin/../share/nltk_data'\n",
    "        - '/Users/bradleymiller/.local/share/virtualenvs/httlads--V2x4wK-/bin/../lib/nltk_data'\n",
    "    **********************************************************************\n"
   ]
  },
  {
   "cell_type": "code",
   "execution_count": 38,
   "metadata": {},
   "outputs": [
    {
     "data": {
      "text/plain": [
       "179"
      ]
     },
     "execution_count": 38,
     "metadata": {},
     "output_type": "execute_result"
    }
   ],
   "source": [
    "sw = set(stopwords.words('english'))\n",
    "len(sw)"
   ]
  },
  {
   "cell_type": "code",
   "execution_count": 61,
   "metadata": {},
   "outputs": [],
   "source": [
    "speeches_1970['word_list'] = speeches_1970.word_list.apply(lambda x: [y for y in x if y not in sw])"
   ]
  },
  {
   "cell_type": "code",
   "execution_count": 62,
   "metadata": {},
   "outputs": [],
   "source": [
    "c = Counter(speeches_1970.word_list.sum())"
   ]
  },
  {
   "cell_type": "code",
   "execution_count": 63,
   "metadata": {},
   "outputs": [
    {
     "data": {
      "text/plain": [
       "[('war', 364),\n",
       " ('new', 353),\n",
       " ('country', 348),\n",
       " ('rights', 335),\n",
       " ('twenty', 331),\n",
       " ('problems', 331),\n",
       " ('africa', 331),\n",
       " ('human', 321),\n",
       " ('may', 317),\n",
       " ('republic', 316),\n",
       " ('principles', 312),\n",
       " ('political', 311),\n",
       " ('session', 304),\n",
       " ('first', 300),\n",
       " ('developing', 299),\n",
       " ('arab', 297),\n",
       " ('many', 294),\n",
       " ('progress', 293),\n",
       " ('powers', 283),\n",
       " ('national', 282),\n",
       " ('hope', 269),\n",
       " ('council', 268),\n",
       " ('delegation', 265),\n",
       " ('president', 264),\n",
       " ('made', 260)]"
      ]
     },
     "execution_count": 63,
     "metadata": {},
     "output_type": "execute_result"
    }
   ],
   "source": [
    "c.most_common(25)"
   ]
  },
  {
   "cell_type": "code",
   "execution_count": 42,
   "metadata": {},
   "outputs": [
    {
     "data": {
      "text/plain": [
       "[('evasions', 1),\n",
       " ('transit', 1),\n",
       " ('betrayed', 1),\n",
       " ('nonwhite', 1),\n",
       " ('web', 1),\n",
       " ('disillusioned', 1),\n",
       " ('extremes', 1),\n",
       " ('financially', 1),\n",
       " ('restrained', 1),\n",
       " ('nationalists', 1),\n",
       " ('crossed', 1),\n",
       " ('dismemberment', 1),\n",
       " ('carving', 1),\n",
       " ('interwoven', 1),\n",
       " ('seminars', 1),\n",
       " ('empowers', 1),\n",
       " ('petitions', 1),\n",
       " ('2106', 1),\n",
       " ('pains', 1),\n",
       " ('nail', 1),\n",
       " ('coffin', 1),\n",
       " ('elude', 1),\n",
       " ('750', 1),\n",
       " ('pacem', 1),\n",
       " ('terris', 1)]"
      ]
     },
     "execution_count": 42,
     "metadata": {},
     "output_type": "execute_result"
    }
   ],
   "source": [
    "c.most_common()[-25:]"
   ]
  },
  {
   "cell_type": "markdown",
   "metadata": {},
   "source": [
    "### Practice\n",
    "\n",
    "Redo the analysis of the most common and least common words for 2015\n",
    "\n",
    "Normalize the data so that you are looking at percentages not raw counts.\n",
    "\n",
    "Build a graph to compare 1970 and 2015\n",
    "\n",
    "Look at the documentation for the wordcloud package.  Make a word cloud for both 1970 and 2015\n"
   ]
  },
  {
   "cell_type": "markdown",
   "metadata": {},
   "source": [
    "# Add some more stop words\n",
    "\n",
    "Words like united and nations and countries and states do not add a lot to the conversation so lets remove them as well."
   ]
  },
  {
   "cell_type": "code",
   "execution_count": 60,
   "metadata": {},
   "outputs": [],
   "source": [
    "sw.update([x[0] for x in c.most_common(25)])"
   ]
  },
  {
   "cell_type": "code",
   "execution_count": 45,
   "metadata": {},
   "outputs": [],
   "source": [
    "import wordcloud"
   ]
  },
  {
   "cell_type": "code",
   "execution_count": 53,
   "metadata": {},
   "outputs": [],
   "source": [
    "#\" \".join(speeches_1970.word_list())"
   ]
  },
  {
   "cell_type": "code",
   "execution_count": 64,
   "metadata": {},
   "outputs": [],
   "source": [
    "%matplotlib inline\n",
    "\n",
    "cloud = wordcloud.WordCloud().generate(\" \".join(speeches_1970.word_list.sum()))"
   ]
  },
  {
   "cell_type": "code",
   "execution_count": 65,
   "metadata": {},
   "outputs": [
    {
     "data": {
      "text/plain": [
       "(-0.5, 399.5, 199.5, -0.5)"
      ]
     },
     "execution_count": 65,
     "metadata": {},
     "output_type": "execute_result"
    },
    {
     "data": {
      "image/png": "[encoded data removed]",
      "text/plain": [
       "<Figure size 432x288 with 1 Axes>"
      ]
     },
     "metadata": {
      "needs_background": "light"
     },
     "output_type": "display_data"
    }
   ],
   "source": [
    "import matplotlib.pyplot as plt\n",
    "plt.imshow(cloud, interpolation='bilinear')\n",
    "plt.axis(\"off\")\n"
   ]
  },
  {
   "cell_type": "code",
   "execution_count": 66,
   "metadata": {},
   "outputs": [],
   "source": [
    "speeches_2015 = undfe[undfe.year == 1970].copy()\n",
    "speeches_2015['text'] = speeches_1970.text.apply(lambda x: x.lower())\n",
    "speeches_2015['text'] = speeches_1970.text.apply(lambda x: x.translate(str.maketrans(string.punctuation, ' '*len(string.punctuation))))\n",
    "speeches_2015['word_list'] = speeches_1970.text.apply(nltk.word_tokenize)\n",
    "speeches_2015['word_list'] = speeches_1970.word_list.apply(lambda x: [y for y in x if y not in sw])\n"
   ]
  },
  {
   "cell_type": "code",
   "execution_count": 67,
   "metadata": {},
   "outputs": [
    {
     "data": {
      "text/plain": [
       "(-0.5, 399.5, 199.5, -0.5)"
      ]
     },
     "execution_count": 67,
     "metadata": {},
     "output_type": "execute_result"
    },
    {
     "data": {
      "image/png": "[encoded data removed]",
      "text/plain": [
       "<Figure size 432x288 with 1 Axes>"
      ]
     },
     "metadata": {
      "needs_background": "light"
     },
     "output_type": "display_data"
    }
   ],
   "source": [
    "cloud = wordcloud.WordCloud().generate(\" \".join(speeches_2015.word_list.sum()))\n",
    "plt.imshow(cloud, interpolation='bilinear')\n",
    "plt.axis(\"off\")"
   ]
  },
  {
   "cell_type": "code",
   "execution_count": null,
   "metadata": {},
   "outputs": [],
   "source": []
  },
  {
   "cell_type": "markdown",
   "metadata": {},
   "source": [
    "## Research Questions\n",
    "\n",
    "1. What is the average word count per speech?\n",
    "1. How does that average compare across all of the countries?\n",
    "2. What is the average sentence length per speech\n",
    "3. Using the Fogg or xxx index compute the reading complexity for each speech\n",
    "3. Is there any correlation between the Fogg index for a country and the GDP or literacy rate?\n",
    "4. Make a graph showing the distribution of each of the above measures\n",
    "5. Find or create a list of topics that the UN might discuss and debate make a graph to show how often these topics were mentioned.\n",
    "6. The five permanent members of the UN security council are sec_council = ['USA', 'RUS', 'GBR', 'FRA', 'CHN']\n",
    "7. Make a graph of the frequency of topics and how often they are discussed by those countries.\n",
    "8. Make a graph to show the frequency with which various topics are discussed over the years.  for example, peace is consistently a popular word as is freedom and human rights.  what about HIV or terrorism or global warming.  Compare two phrases like 'global warming' and 'climate change' \n",
    "9. When did the internet become a popular topic?"
   ]
  },
  {
   "cell_type": "code",
   "execution_count": 35,
   "metadata": {},
   "outputs": [],
   "source": [
    "topics = [' nuclear', ' weapons', ' nuclear weapons', ' chemical weapons', \n",
    "          ' biological weapons', ' mass destruction', ' peace', ' war',\n",
    "          ' nuclear war', ' civil war', ' terror', ' genocide', ' holocaust',\n",
    "          ' water', ' famine', ' disease', ' hiv', ' aids', ' malaria', ' cancer',\n",
    "          ' poverty', ' human rights', ' abortion', ' refugee', ' immigration',\n",
    "          ' equality', ' democracy', ' freedom', ' sovereignty', ' dictator',\n",
    "          ' totalitarian', ' vote', ' energy', ' oil',  ' coal',  ' income',\n",
    "          ' economy', ' growth', ' inflation', ' interest rate', ' security',\n",
    "          ' cyber', ' trade', ' inequality', ' pollution', ' global warming',\n",
    "          ' hunger', ' education', ' health', ' sanitation', ' infrastructure',\n",
    "          ' virus', ' regulation', ' food', ' nutrition', ' transportation',\n",
    "          ' violence', ' agriculture', ' diplomatic', ' drugs', ' obesity',\n",
    "          ' islam', ' housing', ' sustainable', 'nuclear energy']"
   ]
  },
  {
   "cell_type": "code",
   "execution_count": 36,
   "metadata": {},
   "outputs": [
    {
     "data": {
      "text/html": [
       "<div>\n",
       "<style scoped>\n",
       "    .dataframe tbody tr th:only-of-type {\n",
       "        vertical-align: middle;\n",
       "    }\n",
       "\n",
       "    .dataframe tbody tr th {\n",
       "        vertical-align: top;\n",
       "    }\n",
       "\n",
       "    .dataframe thead th {\n",
       "        text-align: right;\n",
       "    }\n",
       "</style>\n",
       "<table border=\"1\" class=\"dataframe\">\n",
       "  <thead>\n",
       "    <tr style=\"text-align: right;\">\n",
       "      <th></th>\n",
       "      <th>session</th>\n",
       "      <th>year</th>\n",
       "      <th>code_3</th>\n",
       "      <th>text</th>\n",
       "    </tr>\n",
       "  </thead>\n",
       "  <tbody>\n",
       "    <tr>\n",
       "      <th>0</th>\n",
       "      <td>44</td>\n",
       "      <td>1989</td>\n",
       "      <td>MDV</td>\n",
       "      <td>﻿It is indeed a pleasure for me and the member...</td>\n",
       "    </tr>\n",
       "    <tr>\n",
       "      <th>1</th>\n",
       "      <td>44</td>\n",
       "      <td>1989</td>\n",
       "      <td>FIN</td>\n",
       "      <td>﻿\\nMay I begin by congratulating you. Sir, on ...</td>\n",
       "    </tr>\n",
       "    <tr>\n",
       "      <th>2</th>\n",
       "      <td>44</td>\n",
       "      <td>1989</td>\n",
       "      <td>NER</td>\n",
       "      <td>﻿\\nMr. President, it is a particular pleasure ...</td>\n",
       "    </tr>\n",
       "    <tr>\n",
       "      <th>3</th>\n",
       "      <td>44</td>\n",
       "      <td>1989</td>\n",
       "      <td>URY</td>\n",
       "      <td>﻿\\nDuring the debate at the fortieth session o...</td>\n",
       "    </tr>\n",
       "    <tr>\n",
       "      <th>4</th>\n",
       "      <td>44</td>\n",
       "      <td>1989</td>\n",
       "      <td>ZWE</td>\n",
       "      <td>﻿I should like at the outset to express my del...</td>\n",
       "    </tr>\n",
       "  </tbody>\n",
       "</table>\n",
       "</div>"
      ],
      "text/plain": [
       "   session  year code_3                                               text\n",
       "0       44  1989    MDV  ﻿It is indeed a pleasure for me and the member...\n",
       "1       44  1989    FIN  ﻿\\nMay I begin by congratulating you. Sir, on ...\n",
       "2       44  1989    NER  ﻿\\nMr. President, it is a particular pleasure ...\n",
       "3       44  1989    URY  ﻿\\nDuring the debate at the fortieth session o...\n",
       "4       44  1989    ZWE  ﻿I should like at the outset to express my del..."
      ]
     },
     "execution_count": 36,
     "metadata": {},
     "output_type": "execute_result"
    }
   ],
   "source": [
    "undf.head()"
   ]
  },
  {
   "cell_type": "code",
   "execution_count": null,
   "metadata": {},
   "outputs": [],
   "source": []
  },
  {
   "cell_type": "code",
   "execution_count": null,
   "metadata": {},
   "outputs": [],
   "source": []
  },
  {
   "cell_type": "code",
   "execution_count": 37,
   "metadata": {},
   "outputs": [],
   "source": [
    "year_summ = undf.groupby('year', as_index=False)['text'].sum()"
   ]
  },
  {
   "cell_type": "code",
   "execution_count": 38,
   "metadata": {},
   "outputs": [
    {
     "data": {
      "text/html": [
       "<div>\n",
       "<style scoped>\n",
       "    .dataframe tbody tr th:only-of-type {\n",
       "        vertical-align: middle;\n",
       "    }\n",
       "\n",
       "    .dataframe tbody tr th {\n",
       "        vertical-align: top;\n",
       "    }\n",
       "\n",
       "    .dataframe thead th {\n",
       "        text-align: right;\n",
       "    }\n",
       "</style>\n",
       "<table border=\"1\" class=\"dataframe\">\n",
       "  <thead>\n",
       "    <tr style=\"text-align: right;\">\n",
       "      <th></th>\n",
       "      <th>year</th>\n",
       "      <th>text</th>\n",
       "    </tr>\n",
       "  </thead>\n",
       "  <tbody>\n",
       "    <tr>\n",
       "      <th>0</th>\n",
       "      <td>1970</td>\n",
       "      <td>126.\\t In this anniversary year the General As...</td>\n",
       "    </tr>\n",
       "    <tr>\n",
       "      <th>1</th>\n",
       "      <td>1971</td>\n",
       "      <td>83.\\t Mr. President, the first words of my del...</td>\n",
       "    </tr>\n",
       "    <tr>\n",
       "      <th>2</th>\n",
       "      <td>1972</td>\n",
       "      <td>Since the twenty-sixth session of the General ...</td>\n",
       "    </tr>\n",
       "    <tr>\n",
       "      <th>3</th>\n",
       "      <td>1973</td>\n",
       "      <td>﻿1.\\tIt is a great pleasure for me to congratu...</td>\n",
       "    </tr>\n",
       "    <tr>\n",
       "      <th>4</th>\n",
       "      <td>1974</td>\n",
       "      <td>Mr. President, first I should like to extend m...</td>\n",
       "    </tr>\n",
       "  </tbody>\n",
       "</table>\n",
       "</div>"
      ],
      "text/plain": [
       "   year                                               text\n",
       "0  1970  126.\\t In this anniversary year the General As...\n",
       "1  1971  83.\\t Mr. President, the first words of my del...\n",
       "2  1972  Since the twenty-sixth session of the General ...\n",
       "3  1973  ﻿1.\\tIt is a great pleasure for me to congratu...\n",
       "4  1974  Mr. President, first I should like to extend m..."
      ]
     },
     "execution_count": 38,
     "metadata": {},
     "output_type": "execute_result"
    }
   ],
   "source": [
    "year_summ.head()"
   ]
  },
  {
   "cell_type": "code",
   "execution_count": 39,
   "metadata": {},
   "outputs": [
    {
     "data": {
      "text/html": [
       "<div>\n",
       "<style scoped>\n",
       "    .dataframe tbody tr th:only-of-type {\n",
       "        vertical-align: middle;\n",
       "    }\n",
       "\n",
       "    .dataframe tbody tr th {\n",
       "        vertical-align: top;\n",
       "    }\n",
       "\n",
       "    .dataframe thead th {\n",
       "        text-align: right;\n",
       "    }\n",
       "</style>\n",
       "<table border=\"1\" class=\"dataframe\">\n",
       "  <thead>\n",
       "    <tr style=\"text-align: right;\">\n",
       "      <th></th>\n",
       "      <th>year</th>\n",
       "      <th>text</th>\n",
       "      <th>gw</th>\n",
       "      <th>cc</th>\n",
       "    </tr>\n",
       "  </thead>\n",
       "  <tbody>\n",
       "    <tr>\n",
       "      <th>0</th>\n",
       "      <td>1970</td>\n",
       "      <td>126.\\t In this anniversary year the General As...</td>\n",
       "      <td>0</td>\n",
       "      <td>0</td>\n",
       "    </tr>\n",
       "    <tr>\n",
       "      <th>1</th>\n",
       "      <td>1971</td>\n",
       "      <td>83.\\t Mr. President, the first words of my del...</td>\n",
       "      <td>0</td>\n",
       "      <td>0</td>\n",
       "    </tr>\n",
       "    <tr>\n",
       "      <th>2</th>\n",
       "      <td>1972</td>\n",
       "      <td>Since the twenty-sixth session of the General ...</td>\n",
       "      <td>0</td>\n",
       "      <td>0</td>\n",
       "    </tr>\n",
       "    <tr>\n",
       "      <th>3</th>\n",
       "      <td>1973</td>\n",
       "      <td>﻿1.\\tIt is a great pleasure for me to congratu...</td>\n",
       "      <td>0</td>\n",
       "      <td>1</td>\n",
       "    </tr>\n",
       "    <tr>\n",
       "      <th>4</th>\n",
       "      <td>1974</td>\n",
       "      <td>Mr. President, first I should like to extend m...</td>\n",
       "      <td>0</td>\n",
       "      <td>0</td>\n",
       "    </tr>\n",
       "    <tr>\n",
       "      <th>5</th>\n",
       "      <td>1975</td>\n",
       "      <td>104.\\t Mr. President, on behalf of the delegat...</td>\n",
       "      <td>0</td>\n",
       "      <td>0</td>\n",
       "    </tr>\n",
       "    <tr>\n",
       "      <th>6</th>\n",
       "      <td>1976</td>\n",
       "      <td>Allow me first to say how pleased I am to see ...</td>\n",
       "      <td>0</td>\n",
       "      <td>0</td>\n",
       "    </tr>\n",
       "    <tr>\n",
       "      <th>7</th>\n",
       "      <td>1977</td>\n",
       "      <td>﻿ \\n1.\\t'O praise the Lord, all ye nations: pr...</td>\n",
       "      <td>0</td>\n",
       "      <td>0</td>\n",
       "    </tr>\n",
       "    <tr>\n",
       "      <th>8</th>\n",
       "      <td>1978</td>\n",
       "      <td>﻿210.\\tI am particularly happy to be able in m...</td>\n",
       "      <td>0</td>\n",
       "      <td>0</td>\n",
       "    </tr>\n",
       "    <tr>\n",
       "      <th>9</th>\n",
       "      <td>1979</td>\n",
       "      <td>﻿My delegation is pleased to convey to the rep...</td>\n",
       "      <td>0</td>\n",
       "      <td>0</td>\n",
       "    </tr>\n",
       "    <tr>\n",
       "      <th>10</th>\n",
       "      <td>1980</td>\n",
       "      <td>﻿I should like first of all to extend to Ambas...</td>\n",
       "      <td>0</td>\n",
       "      <td>0</td>\n",
       "    </tr>\n",
       "    <tr>\n",
       "      <th>11</th>\n",
       "      <td>1981</td>\n",
       "      <td>\\n73.\\t Mr. President, the Republic of Iraq an...</td>\n",
       "      <td>0</td>\n",
       "      <td>0</td>\n",
       "    </tr>\n",
       "    <tr>\n",
       "      <th>12</th>\n",
       "      <td>1982</td>\n",
       "      <td>First of all I wish to convey my warm \\ncongra...</td>\n",
       "      <td>0</td>\n",
       "      <td>0</td>\n",
       "    </tr>\n",
       "    <tr>\n",
       "      <th>13</th>\n",
       "      <td>1983</td>\n",
       "      <td>﻿1.\\t It is my pleasure to address, in the nam...</td>\n",
       "      <td>0</td>\n",
       "      <td>0</td>\n",
       "    </tr>\n",
       "    <tr>\n",
       "      <th>14</th>\n",
       "      <td>1984</td>\n",
       "      <td>﻿I have the honour to convey to the President ...</td>\n",
       "      <td>0</td>\n",
       "      <td>1</td>\n",
       "    </tr>\n",
       "    <tr>\n",
       "      <th>15</th>\n",
       "      <td>1985</td>\n",
       "      <td>I wish to convey to you, Sir, the felicitation...</td>\n",
       "      <td>0</td>\n",
       "      <td>0</td>\n",
       "    </tr>\n",
       "    <tr>\n",
       "      <th>16</th>\n",
       "      <td>1986</td>\n",
       "      <td>Allow me first, Sir, to congratulate you on y...</td>\n",
       "      <td>0</td>\n",
       "      <td>0</td>\n",
       "    </tr>\n",
       "    <tr>\n",
       "      <th>17</th>\n",
       "      <td>1987</td>\n",
       "      <td>﻿\\nAllow me at the outset. Sic, to convey to y...</td>\n",
       "      <td>0</td>\n",
       "      <td>0</td>\n",
       "    </tr>\n",
       "    <tr>\n",
       "      <th>18</th>\n",
       "      <td>1988</td>\n",
       "      <td>﻿\\nI ask the President to accept our congratul...</td>\n",
       "      <td>1</td>\n",
       "      <td>1</td>\n",
       "    </tr>\n",
       "    <tr>\n",
       "      <th>19</th>\n",
       "      <td>1989</td>\n",
       "      <td>﻿It is indeed a pleasure for me and the member...</td>\n",
       "      <td>20</td>\n",
       "      <td>18</td>\n",
       "    </tr>\n",
       "    <tr>\n",
       "      <th>20</th>\n",
       "      <td>1990</td>\n",
       "      <td>﻿Mr. President, allow me to congratulate you o...</td>\n",
       "      <td>9</td>\n",
       "      <td>12</td>\n",
       "    </tr>\n",
       "    <tr>\n",
       "      <th>21</th>\n",
       "      <td>1991</td>\n",
       "      <td>﻿On behalf of my delegation and on my own beha...</td>\n",
       "      <td>20</td>\n",
       "      <td>30</td>\n",
       "    </tr>\n",
       "    <tr>\n",
       "      <th>22</th>\n",
       "      <td>1992</td>\n",
       "      <td>I shall read out the following statement\\non b...</td>\n",
       "      <td>6</td>\n",
       "      <td>15</td>\n",
       "    </tr>\n",
       "    <tr>\n",
       "      <th>23</th>\n",
       "      <td>1993</td>\n",
       "      <td>Allow me to congratulate you sincerely, Sir,\\n...</td>\n",
       "      <td>5</td>\n",
       "      <td>14</td>\n",
       "    </tr>\n",
       "    <tr>\n",
       "      <th>24</th>\n",
       "      <td>1994</td>\n",
       "      <td>On behalf of the Namibian\\ndelegation, I wish ...</td>\n",
       "      <td>2</td>\n",
       "      <td>9</td>\n",
       "    </tr>\n",
       "    <tr>\n",
       "      <th>25</th>\n",
       "      <td>1995</td>\n",
       "      <td>Allow me at the outset, on behalf of the\\ndele...</td>\n",
       "      <td>8</td>\n",
       "      <td>12</td>\n",
       "    </tr>\n",
       "    <tr>\n",
       "      <th>26</th>\n",
       "      <td>1996</td>\n",
       "      <td>﻿The delegation of the Republic of the Congo\\n...</td>\n",
       "      <td>4</td>\n",
       "      <td>16</td>\n",
       "    </tr>\n",
       "    <tr>\n",
       "      <th>27</th>\n",
       "      <td>1997</td>\n",
       "      <td>﻿I wish to congratulate the President on his\\n...</td>\n",
       "      <td>5</td>\n",
       "      <td>14</td>\n",
       "    </tr>\n",
       "    <tr>\n",
       "      <th>28</th>\n",
       "      <td>1998</td>\n",
       "      <td>The General Assembly has\\nunanimously chosen M...</td>\n",
       "      <td>10</td>\n",
       "      <td>23</td>\n",
       "    </tr>\n",
       "    <tr>\n",
       "      <th>29</th>\n",
       "      <td>1999</td>\n",
       "      <td>Today, we look ahead to the\\nnew millennium. A...</td>\n",
       "      <td>4</td>\n",
       "      <td>31</td>\n",
       "    </tr>\n",
       "    <tr>\n",
       "      <th>30</th>\n",
       "      <td>2000</td>\n",
       "      <td>I join my colleagues in\\ncongratulating the Pr...</td>\n",
       "      <td>7</td>\n",
       "      <td>15</td>\n",
       "    </tr>\n",
       "    <tr>\n",
       "      <th>31</th>\n",
       "      <td>2001</td>\n",
       "      <td>﻿On\\nbehalf of the Comorian delegation, which ...</td>\n",
       "      <td>4</td>\n",
       "      <td>30</td>\n",
       "    </tr>\n",
       "    <tr>\n",
       "      <th>32</th>\n",
       "      <td>2002</td>\n",
       "      <td>﻿Allow me\\nto begin my statement by expressing...</td>\n",
       "      <td>6</td>\n",
       "      <td>25</td>\n",
       "    </tr>\n",
       "    <tr>\n",
       "      <th>33</th>\n",
       "      <td>2003</td>\n",
       "      <td>﻿The people of Tuvalu,\\non whose behalf I have...</td>\n",
       "      <td>4</td>\n",
       "      <td>25</td>\n",
       "    </tr>\n",
       "    <tr>\n",
       "      <th>34</th>\n",
       "      <td>2004</td>\n",
       "      <td>The United Nations\\nfaces unprecedented challe...</td>\n",
       "      <td>9</td>\n",
       "      <td>42</td>\n",
       "    </tr>\n",
       "    <tr>\n",
       "      <th>35</th>\n",
       "      <td>2005</td>\n",
       "      <td>Sixty years ago at San Francisco, the United\\n...</td>\n",
       "      <td>1</td>\n",
       "      <td>46</td>\n",
       "    </tr>\n",
       "    <tr>\n",
       "      <th>36</th>\n",
       "      <td>2006</td>\n",
       "      <td>In 2006, several important anniversaries coinc...</td>\n",
       "      <td>15</td>\n",
       "      <td>54</td>\n",
       "    </tr>\n",
       "    <tr>\n",
       "      <th>37</th>\n",
       "      <td>2007</td>\n",
       "      <td>It is a  pleasure, Sir, to congratulate you on...</td>\n",
       "      <td>59</td>\n",
       "      <td>472</td>\n",
       "    </tr>\n",
       "    <tr>\n",
       "      <th>38</th>\n",
       "      <td>2008</td>\n",
       "      <td>It is an \\nhonour for me to represent my count...</td>\n",
       "      <td>34</td>\n",
       "      <td>353</td>\n",
       "    </tr>\n",
       "    <tr>\n",
       "      <th>39</th>\n",
       "      <td>2009</td>\n",
       "      <td>I begin by joining others \\nin congratulating ...</td>\n",
       "      <td>47</td>\n",
       "      <td>485</td>\n",
       "    </tr>\n",
       "    <tr>\n",
       "      <th>40</th>\n",
       "      <td>2010</td>\n",
       "      <td>It is a privilege and a \\ngreat honour for me ...</td>\n",
       "      <td>28</td>\n",
       "      <td>368</td>\n",
       "    </tr>\n",
       "    <tr>\n",
       "      <th>41</th>\n",
       "      <td>2011</td>\n",
       "      <td>\\nAllow me, first of all, to warmly congratula...</td>\n",
       "      <td>17</td>\n",
       "      <td>287</td>\n",
       "    </tr>\n",
       "    <tr>\n",
       "      <th>42</th>\n",
       "      <td>2012</td>\n",
       "      <td>﻿First, I would like\\nto express my sincere ap...</td>\n",
       "      <td>8</td>\n",
       "      <td>185</td>\n",
       "    </tr>\n",
       "    <tr>\n",
       "      <th>43</th>\n",
       "      <td>2013</td>\n",
       "      <td>Allow me at the outset, on \\nbehalf of the Pre...</td>\n",
       "      <td>20</td>\n",
       "      <td>200</td>\n",
       "    </tr>\n",
       "    <tr>\n",
       "      <th>44</th>\n",
       "      <td>2014</td>\n",
       "      <td>I congratulate Mr. Sam \\nKutesa on his assumpt...</td>\n",
       "      <td>16</td>\n",
       "      <td>307</td>\n",
       "    </tr>\n",
       "    <tr>\n",
       "      <th>45</th>\n",
       "      <td>2015</td>\n",
       "      <td>The Head of State of the Transition, Her Excel...</td>\n",
       "      <td>37</td>\n",
       "      <td>382</td>\n",
       "    </tr>\n",
       "  </tbody>\n",
       "</table>\n",
       "</div>"
      ],
      "text/plain": [
       "    year                                               text  gw   cc\n",
       "0   1970  126.\\t In this anniversary year the General As...   0    0\n",
       "1   1971  83.\\t Mr. President, the first words of my del...   0    0\n",
       "2   1972  Since the twenty-sixth session of the General ...   0    0\n",
       "3   1973  ﻿1.\\tIt is a great pleasure for me to congratu...   0    1\n",
       "4   1974  Mr. President, first I should like to extend m...   0    0\n",
       "5   1975  104.\\t Mr. President, on behalf of the delegat...   0    0\n",
       "6   1976  Allow me first to say how pleased I am to see ...   0    0\n",
       "7   1977  ﻿ \\n1.\\t'O praise the Lord, all ye nations: pr...   0    0\n",
       "8   1978  ﻿210.\\tI am particularly happy to be able in m...   0    0\n",
       "9   1979  ﻿My delegation is pleased to convey to the rep...   0    0\n",
       "10  1980  ﻿I should like first of all to extend to Ambas...   0    0\n",
       "11  1981  \\n73.\\t Mr. President, the Republic of Iraq an...   0    0\n",
       "12  1982  First of all I wish to convey my warm \\ncongra...   0    0\n",
       "13  1983  ﻿1.\\t It is my pleasure to address, in the nam...   0    0\n",
       "14  1984  ﻿I have the honour to convey to the President ...   0    1\n",
       "15  1985  I wish to convey to you, Sir, the felicitation...   0    0\n",
       "16  1986   Allow me first, Sir, to congratulate you on y...   0    0\n",
       "17  1987  ﻿\\nAllow me at the outset. Sic, to convey to y...   0    0\n",
       "18  1988  ﻿\\nI ask the President to accept our congratul...   1    1\n",
       "19  1989  ﻿It is indeed a pleasure for me and the member...  20   18\n",
       "20  1990  ﻿Mr. President, allow me to congratulate you o...   9   12\n",
       "21  1991  ﻿On behalf of my delegation and on my own beha...  20   30\n",
       "22  1992  I shall read out the following statement\\non b...   6   15\n",
       "23  1993  Allow me to congratulate you sincerely, Sir,\\n...   5   14\n",
       "24  1994  On behalf of the Namibian\\ndelegation, I wish ...   2    9\n",
       "25  1995  Allow me at the outset, on behalf of the\\ndele...   8   12\n",
       "26  1996  ﻿The delegation of the Republic of the Congo\\n...   4   16\n",
       "27  1997  ﻿I wish to congratulate the President on his\\n...   5   14\n",
       "28  1998  The General Assembly has\\nunanimously chosen M...  10   23\n",
       "29  1999  Today, we look ahead to the\\nnew millennium. A...   4   31\n",
       "30  2000  I join my colleagues in\\ncongratulating the Pr...   7   15\n",
       "31  2001  ﻿On\\nbehalf of the Comorian delegation, which ...   4   30\n",
       "32  2002  ﻿Allow me\\nto begin my statement by expressing...   6   25\n",
       "33  2003  ﻿The people of Tuvalu,\\non whose behalf I have...   4   25\n",
       "34  2004  The United Nations\\nfaces unprecedented challe...   9   42\n",
       "35  2005  Sixty years ago at San Francisco, the United\\n...   1   46\n",
       "36  2006  In 2006, several important anniversaries coinc...  15   54\n",
       "37  2007  It is a  pleasure, Sir, to congratulate you on...  59  472\n",
       "38  2008  It is an \\nhonour for me to represent my count...  34  353\n",
       "39  2009  I begin by joining others \\nin congratulating ...  47  485\n",
       "40  2010  It is a privilege and a \\ngreat honour for me ...  28  368\n",
       "41  2011  \\nAllow me, first of all, to warmly congratula...  17  287\n",
       "42  2012  ﻿First, I would like\\nto express my sincere ap...   8  185\n",
       "43  2013  Allow me at the outset, on \\nbehalf of the Pre...  20  200\n",
       "44  2014  I congratulate Mr. Sam \\nKutesa on his assumpt...  16  307\n",
       "45  2015  The Head of State of the Transition, Her Excel...  37  382"
      ]
     },
     "execution_count": 39,
     "metadata": {},
     "output_type": "execute_result"
    }
   ],
   "source": [
    "year_summ['gw'] = year_summ.text.str.count('global warming')\n",
    "year_summ['cc'] = year_summ.text.str.count('climate change')\n",
    "year_summ"
   ]
  },
  {
   "cell_type": "code",
   "execution_count": 40,
   "metadata": {},
   "outputs": [
    {
     "data": {
      "application/vnd.vegalite.v2+json": {
       "$schema": "https://vega.github.io/schema/vega-lite/v2.6.0.json",
       "config": {
        "view": {
         "height": 300,
         "width": 400
        }
       },
       "data": {
        "name": "data-f4e93c0f56bc0cafcf8bdf19807afb4e"
       },
       "datasets": {
        "data-f4e93c0f56bc0cafcf8bdf19807afb4e": [
         {
          "cc": 0,
          "gw": 0,
          "year": 1970
         },
         {
          "cc": 0,
          "gw": 0,
          "year": 1971
         },
         {
          "cc": 0,
          "gw": 0,
          "year": 1972
         },
         {
          "cc": 1,
          "gw": 0,
          "year": 1973
         },
         {
          "cc": 0,
          "gw": 0,
          "year": 1974
         },
         {
          "cc": 0,
          "gw": 0,
          "year": 1975
         },
         {
          "cc": 0,
          "gw": 0,
          "year": 1976
         },
         {
          "cc": 0,
          "gw": 0,
          "year": 1977
         },
         {
          "cc": 0,
          "gw": 0,
          "year": 1978
         },
         {
          "cc": 0,
          "gw": 0,
          "year": 1979
         },
         {
          "cc": 0,
          "gw": 0,
          "year": 1980
         },
         {
          "cc": 0,
          "gw": 0,
          "year": 1981
         },
         {
          "cc": 0,
          "gw": 0,
          "year": 1982
         },
         {
          "cc": 0,
          "gw": 0,
          "year": 1983
         },
         {
          "cc": 1,
          "gw": 0,
          "year": 1984
         },
         {
          "cc": 0,
          "gw": 0,
          "year": 1985
         },
         {
          "cc": 0,
          "gw": 0,
          "year": 1986
         },
         {
          "cc": 0,
          "gw": 0,
          "year": 1987
         },
         {
          "cc": 1,
          "gw": 1,
          "year": 1988
         },
         {
          "cc": 18,
          "gw": 20,
          "year": 1989
         },
         {
          "cc": 12,
          "gw": 9,
          "year": 1990
         },
         {
          "cc": 30,
          "gw": 20,
          "year": 1991
         },
         {
          "cc": 15,
          "gw": 6,
          "year": 1992
         },
         {
          "cc": 14,
          "gw": 5,
          "year": 1993
         },
         {
          "cc": 9,
          "gw": 2,
          "year": 1994
         },
         {
          "cc": 12,
          "gw": 8,
          "year": 1995
         },
         {
          "cc": 16,
          "gw": 4,
          "year": 1996
         },
         {
          "cc": 14,
          "gw": 5,
          "year": 1997
         },
         {
          "cc": 23,
          "gw": 10,
          "year": 1998
         },
         {
          "cc": 31,
          "gw": 4,
          "year": 1999
         },
         {
          "cc": 15,
          "gw": 7,
          "year": 2000
         },
         {
          "cc": 30,
          "gw": 4,
          "year": 2001
         },
         {
          "cc": 25,
          "gw": 6,
          "year": 2002
         },
         {
          "cc": 25,
          "gw": 4,
          "year": 2003
         },
         {
          "cc": 42,
          "gw": 9,
          "year": 2004
         },
         {
          "cc": 46,
          "gw": 1,
          "year": 2005
         },
         {
          "cc": 54,
          "gw": 15,
          "year": 2006
         },
         {
          "cc": 472,
          "gw": 59,
          "year": 2007
         },
         {
          "cc": 353,
          "gw": 34,
          "year": 2008
         },
         {
          "cc": 485,
          "gw": 47,
          "year": 2009
         },
         {
          "cc": 368,
          "gw": 28,
          "year": 2010
         },
         {
          "cc": 287,
          "gw": 17,
          "year": 2011
         },
         {
          "cc": 185,
          "gw": 8,
          "year": 2012
         },
         {
          "cc": 200,
          "gw": 20,
          "year": 2013
         },
         {
          "cc": 307,
          "gw": 16,
          "year": 2014
         },
         {
          "cc": 382,
          "gw": 37,
          "year": 2015
         }
        ]
       },
       "encoding": {
        "x": {
         "field": "year",
         "type": "quantitative"
        },
        "y": {
         "field": "gw",
         "type": "quantitative"
        }
       },
       "mark": "line"
      },
      "image/png": "[encoded data removed]",
      "text/plain": [
       "<VegaLite 2 object>\n",
       "\n",
       "If you see this message, it means the renderer has not been properly enabled\n",
       "for the frontend that you are using. For more information, see\n",
       "https://altair-viz.github.io/user_guide/troubleshooting.html\n"
      ]
     },
     "execution_count": 40,
     "metadata": {},
     "output_type": "execute_result"
    }
   ],
   "source": [
    "alt.Chart(year_summ[['year', 'gw', 'cc']]).mark_line().encode(x='year',y='gw')"
   ]
  },
  {
   "cell_type": "code",
   "execution_count": 42,
   "metadata": {},
   "outputs": [
    {
     "data": {
      "application/vnd.vegalite.v2+json": {
       "$schema": "https://vega.github.io/schema/vega-lite/v2.6.0.json",
       "config": {
        "view": {
         "height": 300,
         "width": 400
        }
       },
       "data": {
        "name": "data-0423ef9717780950bb3ced53a0fd2582"
       },
       "datasets": {
        "data-0423ef9717780950bb3ced53a0fd2582": [
         {
          "value": 0,
          "variable": "cc",
          "year": 1970
         },
         {
          "value": 0,
          "variable": "cc",
          "year": 1971
         },
         {
          "value": 0,
          "variable": "cc",
          "year": 1972
         },
         {
          "value": 1,
          "variable": "cc",
          "year": 1973
         },
         {
          "value": 0,
          "variable": "cc",
          "year": 1974
         },
         {
          "value": 0,
          "variable": "cc",
          "year": 1975
         },
         {
          "value": 0,
          "variable": "cc",
          "year": 1976
         },
         {
          "value": 0,
          "variable": "cc",
          "year": 1977
         },
         {
          "value": 0,
          "variable": "cc",
          "year": 1978
         },
         {
          "value": 0,
          "variable": "cc",
          "year": 1979
         },
         {
          "value": 0,
          "variable": "cc",
          "year": 1980
         },
         {
          "value": 0,
          "variable": "cc",
          "year": 1981
         },
         {
          "value": 0,
          "variable": "cc",
          "year": 1982
         },
         {
          "value": 0,
          "variable": "cc",
          "year": 1983
         },
         {
          "value": 1,
          "variable": "cc",
          "year": 1984
         },
         {
          "value": 0,
          "variable": "cc",
          "year": 1985
         },
         {
          "value": 0,
          "variable": "cc",
          "year": 1986
         },
         {
          "value": 0,
          "variable": "cc",
          "year": 1987
         },
         {
          "value": 1,
          "variable": "cc",
          "year": 1988
         },
         {
          "value": 18,
          "variable": "cc",
          "year": 1989
         },
         {
          "value": 12,
          "variable": "cc",
          "year": 1990
         },
         {
          "value": 30,
          "variable": "cc",
          "year": 1991
         },
         {
          "value": 15,
          "variable": "cc",
          "year": 1992
         },
         {
          "value": 14,
          "variable": "cc",
          "year": 1993
         },
         {
          "value": 9,
          "variable": "cc",
          "year": 1994
         },
         {
          "value": 12,
          "variable": "cc",
          "year": 1995
         },
         {
          "value": 16,
          "variable": "cc",
          "year": 1996
         },
         {
          "value": 14,
          "variable": "cc",
          "year": 1997
         },
         {
          "value": 23,
          "variable": "cc",
          "year": 1998
         },
         {
          "value": 31,
          "variable": "cc",
          "year": 1999
         },
         {
          "value": 15,
          "variable": "cc",
          "year": 2000
         },
         {
          "value": 30,
          "variable": "cc",
          "year": 2001
         },
         {
          "value": 25,
          "variable": "cc",
          "year": 2002
         },
         {
          "value": 25,
          "variable": "cc",
          "year": 2003
         },
         {
          "value": 42,
          "variable": "cc",
          "year": 2004
         },
         {
          "value": 46,
          "variable": "cc",
          "year": 2005
         },
         {
          "value": 54,
          "variable": "cc",
          "year": 2006
         },
         {
          "value": 472,
          "variable": "cc",
          "year": 2007
         },
         {
          "value": 353,
          "variable": "cc",
          "year": 2008
         },
         {
          "value": 485,
          "variable": "cc",
          "year": 2009
         },
         {
          "value": 368,
          "variable": "cc",
          "year": 2010
         },
         {
          "value": 287,
          "variable": "cc",
          "year": 2011
         },
         {
          "value": 185,
          "variable": "cc",
          "year": 2012
         },
         {
          "value": 200,
          "variable": "cc",
          "year": 2013
         },
         {
          "value": 307,
          "variable": "cc",
          "year": 2014
         },
         {
          "value": 382,
          "variable": "cc",
          "year": 2015
         },
         {
          "value": 0,
          "variable": "gw",
          "year": 1970
         },
         {
          "value": 0,
          "variable": "gw",
          "year": 1971
         },
         {
          "value": 0,
          "variable": "gw",
          "year": 1972
         },
         {
          "value": 0,
          "variable": "gw",
          "year": 1973
         },
         {
          "value": 0,
          "variable": "gw",
          "year": 1974
         },
         {
          "value": 0,
          "variable": "gw",
          "year": 1975
         },
         {
          "value": 0,
          "variable": "gw",
          "year": 1976
         },
         {
          "value": 0,
          "variable": "gw",
          "year": 1977
         },
         {
          "value": 0,
          "variable": "gw",
          "year": 1978
         },
         {
          "value": 0,
          "variable": "gw",
          "year": 1979
         },
         {
          "value": 0,
          "variable": "gw",
          "year": 1980
         },
         {
          "value": 0,
          "variable": "gw",
          "year": 1981
         },
         {
          "value": 0,
          "variable": "gw",
          "year": 1982
         },
         {
          "value": 0,
          "variable": "gw",
          "year": 1983
         },
         {
          "value": 0,
          "variable": "gw",
          "year": 1984
         },
         {
          "value": 0,
          "variable": "gw",
          "year": 1985
         },
         {
          "value": 0,
          "variable": "gw",
          "year": 1986
         },
         {
          "value": 0,
          "variable": "gw",
          "year": 1987
         },
         {
          "value": 1,
          "variable": "gw",
          "year": 1988
         },
         {
          "value": 20,
          "variable": "gw",
          "year": 1989
         },
         {
          "value": 9,
          "variable": "gw",
          "year": 1990
         },
         {
          "value": 20,
          "variable": "gw",
          "year": 1991
         },
         {
          "value": 6,
          "variable": "gw",
          "year": 1992
         },
         {
          "value": 5,
          "variable": "gw",
          "year": 1993
         },
         {
          "value": 2,
          "variable": "gw",
          "year": 1994
         },
         {
          "value": 8,
          "variable": "gw",
          "year": 1995
         },
         {
          "value": 4,
          "variable": "gw",
          "year": 1996
         },
         {
          "value": 5,
          "variable": "gw",
          "year": 1997
         },
         {
          "value": 10,
          "variable": "gw",
          "year": 1998
         },
         {
          "value": 4,
          "variable": "gw",
          "year": 1999
         },
         {
          "value": 7,
          "variable": "gw",
          "year": 2000
         },
         {
          "value": 4,
          "variable": "gw",
          "year": 2001
         },
         {
          "value": 6,
          "variable": "gw",
          "year": 2002
         },
         {
          "value": 4,
          "variable": "gw",
          "year": 2003
         },
         {
          "value": 9,
          "variable": "gw",
          "year": 2004
         },
         {
          "value": 1,
          "variable": "gw",
          "year": 2005
         },
         {
          "value": 15,
          "variable": "gw",
          "year": 2006
         },
         {
          "value": 59,
          "variable": "gw",
          "year": 2007
         },
         {
          "value": 34,
          "variable": "gw",
          "year": 2008
         },
         {
          "value": 47,
          "variable": "gw",
          "year": 2009
         },
         {
          "value": 28,
          "variable": "gw",
          "year": 2010
         },
         {
          "value": 17,
          "variable": "gw",
          "year": 2011
         },
         {
          "value": 8,
          "variable": "gw",
          "year": 2012
         },
         {
          "value": 20,
          "variable": "gw",
          "year": 2013
         },
         {
          "value": 16,
          "variable": "gw",
          "year": 2014
         },
         {
          "value": 37,
          "variable": "gw",
          "year": 2015
         }
        ]
       },
       "encoding": {
        "color": {
         "field": "variable",
         "type": "nominal"
        },
        "x": {
         "field": "year",
         "type": "ordinal"
        },
        "y": {
         "field": "value",
         "type": "quantitative"
        }
       },
       "mark": "line"
      },
      "image/png": "[encoded data removed]",
      "text/plain": [
       "<VegaLite 2 object>\n",
       "\n",
       "If you see this message, it means the renderer has not been properly enabled\n",
       "for the frontend that you are using. For more information, see\n",
       "https://altair-viz.github.io/user_guide/troubleshooting.html\n"
      ]
     },
     "execution_count": 42,
     "metadata": {},
     "output_type": "execute_result"
    }
   ],
   "source": [
    "alt.Chart(year_summ[['year', 'gw', 'cc']].melt(id_vars='year', value_vars=['cc','gw'])\n",
    "         ).mark_line().encode(x='year:O',y='value', color='variable')"
   ]
  },
  {
   "cell_type": "markdown",
   "metadata": {},
   "source": [
    "Fascinating!  Until the late 80's neither global warming or climate change and were mentioned with relatively close to the same frequency until 2006 when climate change became a huge topic.  This raises all kinds of interesting questions.  Which countries were talking about these topics and when?  This is exactly the kind of thing that happens in data science.  One question or the visualization of one or more items often leads to further and even more interesting questions."
   ]
  },
  {
   "cell_type": "code",
   "execution_count": 43,
   "metadata": {},
   "outputs": [],
   "source": [
    "year_summ['pollution'] = year_summ.text.str.count('pollution')"
   ]
  },
  {
   "cell_type": "code",
   "execution_count": 44,
   "metadata": {},
   "outputs": [],
   "source": [
    "year_summ['terror'] = year_summ.text.str.count('terror')"
   ]
  },
  {
   "cell_type": "code",
   "execution_count": 45,
   "metadata": {},
   "outputs": [
    {
     "data": {
      "application/vnd.vegalite.v2+json": {
       "$schema": "https://vega.github.io/schema/vega-lite/v2.6.0.json",
       "config": {
        "view": {
         "height": 300,
         "width": 400
        }
       },
       "data": {
        "name": "data-6585910bff2bd903737061dcf78ccd4a"
       },
       "datasets": {
        "data-6585910bff2bd903737061dcf78ccd4a": [
         {
          "terror": 39,
          "year": 1970
         },
         {
          "terror": 43,
          "year": 1971
         },
         {
          "terror": 607,
          "year": 1972
         },
         {
          "terror": 197,
          "year": 1973
         },
         {
          "terror": 69,
          "year": 1974
         },
         {
          "terror": 49,
          "year": 1975
         },
         {
          "terror": 205,
          "year": 1976
         },
         {
          "terror": 145,
          "year": 1977
         },
         {
          "terror": 130,
          "year": 1978
         },
         {
          "terror": 94,
          "year": 1979
         },
         {
          "terror": 83,
          "year": 1980
         },
         {
          "terror": 174,
          "year": 1981
         },
         {
          "terror": 168,
          "year": 1982
         },
         {
          "terror": 104,
          "year": 1983
         },
         {
          "terror": 189,
          "year": 1984
         },
         {
          "terror": 252,
          "year": 1985
         },
         {
          "terror": 497,
          "year": 1986
         },
         {
          "terror": 219,
          "year": 1987
         },
         {
          "terror": 166,
          "year": 1988
         },
         {
          "terror": 211,
          "year": 1989
         },
         {
          "terror": 98,
          "year": 1990
         },
         {
          "terror": 69,
          "year": 1991
         },
         {
          "terror": 66,
          "year": 1992
         },
         {
          "terror": 109,
          "year": 1993
         },
         {
          "terror": 126,
          "year": 1994
         },
         {
          "terror": 143,
          "year": 1995
         },
         {
          "terror": 316,
          "year": 1996
         },
         {
          "terror": 253,
          "year": 1997
         },
         {
          "terror": 626,
          "year": 1998
         },
         {
          "terror": 277,
          "year": 1999
         },
         {
          "terror": 167,
          "year": 2000
         },
         {
          "terror": 2128,
          "year": 2001
         },
         {
          "terror": 1246,
          "year": 2002
         },
         {
          "terror": 982,
          "year": 2003
         },
         {
          "terror": 1091,
          "year": 2004
         },
         {
          "terror": 741,
          "year": 2005
         },
         {
          "terror": 633,
          "year": 2006
         },
         {
          "terror": 461,
          "year": 2007
         },
         {
          "terror": 416,
          "year": 2008
         },
         {
          "terror": 287,
          "year": 2009
         },
         {
          "terror": 343,
          "year": 2010
         },
         {
          "terror": 361,
          "year": 2011
         },
         {
          "terror": 308,
          "year": 2012
         },
         {
          "terror": 379,
          "year": 2013
         },
         {
          "terror": 742,
          "year": 2014
         },
         {
          "terror": 640,
          "year": 2015
         }
        ]
       },
       "encoding": {
        "x": {
         "field": "year",
         "type": "ordinal"
        },
        "y": {
         "field": "terror",
         "type": "quantitative"
        }
       },
       "mark": "line"
      },
      "image/png": "[encoded data removed]",
      "text/plain": [
       "<VegaLite 2 object>\n",
       "\n",
       "If you see this message, it means the renderer has not been properly enabled\n",
       "for the frontend that you are using. For more information, see\n",
       "https://altair-viz.github.io/user_guide/troubleshooting.html\n"
      ]
     },
     "execution_count": 45,
     "metadata": {},
     "output_type": "execute_result"
    }
   ],
   "source": [
    "alt.Chart(year_summ[['year','terror']]).mark_line().encode(x='year:O', y='terror')"
   ]
  },
  {
   "cell_type": "code",
   "execution_count": 46,
   "metadata": {},
   "outputs": [],
   "source": [
    "import numpy as np\n",
    "nrows, ncols = 100000, 100\n",
    "rng = np.random.RandomState(43)\n",
    "df1, df2, df3, df4 = (pd.DataFrame(rng.rand(nrows,ncols)) for i in range(4))"
   ]
  },
  {
   "cell_type": "code",
   "execution_count": 49,
   "metadata": {},
   "outputs": [
    {
     "name": "stdout",
     "output_type": "stream",
     "text": [
      "84.9 ms ± 1.02 ms per loop (mean ± std. dev. of 7 runs, 10 loops each)\n"
     ]
    }
   ],
   "source": [
    "%timeit df1 + df2 + df3 + df4"
   ]
  },
  {
   "cell_type": "code",
   "execution_count": 50,
   "metadata": {},
   "outputs": [
    {
     "name": "stdout",
     "output_type": "stream",
     "text": [
      "38.7 ms ± 1.16 ms per loop (mean ± std. dev. of 7 runs, 10 loops each)\n"
     ]
    }
   ],
   "source": [
    "%timeit pd.eval('df1 + df2 + df3 + df4')"
   ]
  },
  {
   "cell_type": "code",
   "execution_count": 56,
   "metadata": {},
   "outputs": [],
   "source": [
    "undf['text_len'] = undf.text.map(lambda x : len(x.split()))"
   ]
  },
  {
   "cell_type": "code",
   "execution_count": 57,
   "metadata": {},
   "outputs": [
    {
     "data": {
      "text/html": [
       "<div>\n",
       "<style scoped>\n",
       "    .dataframe tbody tr th:only-of-type {\n",
       "        vertical-align: middle;\n",
       "    }\n",
       "\n",
       "    .dataframe tbody tr th {\n",
       "        vertical-align: top;\n",
       "    }\n",
       "\n",
       "    .dataframe thead th {\n",
       "        text-align: right;\n",
       "    }\n",
       "</style>\n",
       "<table border=\"1\" class=\"dataframe\">\n",
       "  <thead>\n",
       "    <tr style=\"text-align: right;\">\n",
       "      <th></th>\n",
       "      <th>session</th>\n",
       "      <th>year</th>\n",
       "      <th>code_3</th>\n",
       "      <th>text</th>\n",
       "      <th>text_len</th>\n",
       "    </tr>\n",
       "  </thead>\n",
       "  <tbody>\n",
       "    <tr>\n",
       "      <th>0</th>\n",
       "      <td>44</td>\n",
       "      <td>1989</td>\n",
       "      <td>MDV</td>\n",
       "      <td>﻿It is indeed a pleasure for me and the member...</td>\n",
       "      <td>3011</td>\n",
       "    </tr>\n",
       "    <tr>\n",
       "      <th>1</th>\n",
       "      <td>44</td>\n",
       "      <td>1989</td>\n",
       "      <td>FIN</td>\n",
       "      <td>﻿\\nMay I begin by congratulating you. Sir, on ...</td>\n",
       "      <td>2727</td>\n",
       "    </tr>\n",
       "    <tr>\n",
       "      <th>2</th>\n",
       "      <td>44</td>\n",
       "      <td>1989</td>\n",
       "      <td>NER</td>\n",
       "      <td>﻿\\nMr. President, it is a particular pleasure ...</td>\n",
       "      <td>4860</td>\n",
       "    </tr>\n",
       "    <tr>\n",
       "      <th>3</th>\n",
       "      <td>44</td>\n",
       "      <td>1989</td>\n",
       "      <td>URY</td>\n",
       "      <td>﻿\\nDuring the debate at the fortieth session o...</td>\n",
       "      <td>2711</td>\n",
       "    </tr>\n",
       "    <tr>\n",
       "      <th>4</th>\n",
       "      <td>44</td>\n",
       "      <td>1989</td>\n",
       "      <td>ZWE</td>\n",
       "      <td>﻿I should like at the outset to express my del...</td>\n",
       "      <td>4551</td>\n",
       "    </tr>\n",
       "  </tbody>\n",
       "</table>\n",
       "</div>"
      ],
      "text/plain": [
       "   session  year code_3                                               text  \\\n",
       "0       44  1989    MDV  ﻿It is indeed a pleasure for me and the member...   \n",
       "1       44  1989    FIN  ﻿\\nMay I begin by congratulating you. Sir, on ...   \n",
       "2       44  1989    NER  ﻿\\nMr. President, it is a particular pleasure ...   \n",
       "3       44  1989    URY  ﻿\\nDuring the debate at the fortieth session o...   \n",
       "4       44  1989    ZWE  ﻿I should like at the outset to express my del...   \n",
       "\n",
       "   text_len  \n",
       "0      3011  \n",
       "1      2727  \n",
       "2      4860  \n",
       "3      2711  \n",
       "4      4551  "
      ]
     },
     "execution_count": 57,
     "metadata": {},
     "output_type": "execute_result"
    }
   ],
   "source": [
    "undf.head()"
   ]
  },
  {
   "cell_type": "code",
   "execution_count": 62,
   "metadata": {},
   "outputs": [
    {
     "data": {
      "text/html": [
       "<div>\n",
       "<style scoped>\n",
       "    .dataframe tbody tr th:only-of-type {\n",
       "        vertical-align: middle;\n",
       "    }\n",
       "\n",
       "    .dataframe tbody tr th {\n",
       "        vertical-align: top;\n",
       "    }\n",
       "\n",
       "    .dataframe thead th {\n",
       "        text-align: right;\n",
       "    }\n",
       "</style>\n",
       "<table border=\"1\" class=\"dataframe\">\n",
       "  <thead>\n",
       "    <tr style=\"text-align: right;\">\n",
       "      <th></th>\n",
       "      <th>code_3</th>\n",
       "      <th>text_len</th>\n",
       "    </tr>\n",
       "  </thead>\n",
       "  <tbody>\n",
       "    <tr>\n",
       "      <th>0</th>\n",
       "      <td>AFG</td>\n",
       "      <td>3014.444444</td>\n",
       "    </tr>\n",
       "    <tr>\n",
       "      <th>1</th>\n",
       "      <td>AGO</td>\n",
       "      <td>2645.315789</td>\n",
       "    </tr>\n",
       "    <tr>\n",
       "      <th>2</th>\n",
       "      <td>ALB</td>\n",
       "      <td>3482.369565</td>\n",
       "    </tr>\n",
       "    <tr>\n",
       "      <th>3</th>\n",
       "      <td>AND</td>\n",
       "      <td>2153.045455</td>\n",
       "    </tr>\n",
       "    <tr>\n",
       "      <th>4</th>\n",
       "      <td>ARE</td>\n",
       "      <td>2313.500000</td>\n",
       "    </tr>\n",
       "  </tbody>\n",
       "</table>\n",
       "</div>"
      ],
      "text/plain": [
       "  code_3     text_len\n",
       "0    AFG  3014.444444\n",
       "1    AGO  2645.315789\n",
       "2    ALB  3482.369565\n",
       "3    AND  2153.045455\n",
       "4    ARE  2313.500000"
      ]
     },
     "execution_count": 62,
     "metadata": {},
     "output_type": "execute_result"
    }
   ],
   "source": [
    "undf.groupby('code_3', as_index=False)['text_len'].mean().head()"
   ]
  },
  {
   "cell_type": "code",
   "execution_count": 63,
   "metadata": {},
   "outputs": [
    {
     "data": {
      "application/vnd.vegalite.v2+json": {
       "$schema": "https://vega.github.io/schema/vega-lite/v2.6.0.json",
       "config": {
        "view": {
         "height": 300,
         "width": 400
        }
       },
       "data": {
        "name": "data-39751ee8e4db5b77d6cd73daccc86957"
       },
       "datasets": {
        "data-39751ee8e4db5b77d6cd73daccc86957": [
         {
          "code_3": "AFG",
          "text_len": 3014.4444444444443
         },
         {
          "code_3": "AGO",
          "text_len": 2645.315789473684
         },
         {
          "code_3": "ALB",
          "text_len": 3482.3695652173915
         },
         {
          "code_3": "AND",
          "text_len": 2153.0454545454545
         },
         {
          "code_3": "ARE",
          "text_len": 2313.5
         },
         {
          "code_3": "ARG",
          "text_len": 3412.0434782608695
         },
         {
          "code_3": "ARM",
          "text_len": 1712.0833333333333
         },
         {
          "code_3": "ATG",
          "text_len": 2791.71875
         },
         {
          "code_3": "AUS",
          "text_len": 3462.8478260869565
         },
         {
          "code_3": "AUT",
          "text_len": 2805.2608695652175
         },
         {
          "code_3": "AZE",
          "text_len": 2145.5
         },
         {
          "code_3": "BDI",
          "text_len": 3449.5777777777776
         },
         {
          "code_3": "BEL",
          "text_len": 3016.8260869565215
         },
         {
          "code_3": "BEN",
          "text_len": 3348.1363636363635
         },
         {
          "code_3": "BFA",
          "text_len": 2794.311111111111
         },
         {
          "code_3": "BGD",
          "text_len": 2903.0476190476193
         },
         {
          "code_3": "BGR",
          "text_len": 2674.8444444444444
         },
         {
          "code_3": "BHR",
          "text_len": 3072.409090909091
         },
         {
          "code_3": "BHS",
          "text_len": 2582.5675675675675
         },
         {
          "code_3": "BIH",
          "text_len": 1992.8333333333333
         },
         {
          "code_3": "BLR",
          "text_len": 3279.586956521739
         },
         {
          "code_3": "BLZ",
          "text_len": 2298.323529411765
         },
         {
          "code_3": "BOL",
          "text_len": 3175.7391304347825
         },
         {
          "code_3": "BRA",
          "text_len": 3082.891304347826
         },
         {
          "code_3": "BRB",
          "text_len": 2855.3255813953488
         },
         {
          "code_3": "BRN",
          "text_len": 1146.8709677419354
         },
         {
          "code_3": "BTN",
          "text_len": 1872.0731707317073
         },
         {
          "code_3": "BWA",
          "text_len": 2895.525
         },
         {
          "code_3": "CAF",
          "text_len": 2671.3809523809523
         },
         {
          "code_3": "CAN",
          "text_len": 3012.913043478261
         },
         {
          "code_3": "CHE",
          "text_len": 1543.642857142857
         },
         {
          "code_3": "CHL",
          "text_len": 3236.911111111111
         },
         {
          "code_3": "CHN",
          "text_len": 3428.8444444444444
         },
         {
          "code_3": "CIV",
          "text_len": 2856.4545454545455
         },
         {
          "code_3": "CMR",
          "text_len": 2816.1463414634145
         },
         {
          "code_3": "COD",
          "text_len": 3338.2045454545455
         },
         {
          "code_3": "COG",
          "text_len": 2781.4565217391305
         },
         {
          "code_3": "COL",
          "text_len": 2824.7608695652175
         },
         {
          "code_3": "COM",
          "text_len": 2345.846153846154
         },
         {
          "code_3": "CPV",
          "text_len": 2808.4736842105262
         },
         {
          "code_3": "CRI",
          "text_len": 3270.866666666667
         },
         {
          "code_3": "CSK",
          "text_len": 3763
         },
         {
          "code_3": "CUB",
          "text_len": 4100.217391304348
         },
         {
          "code_3": "CYP",
          "text_len": 3114.8444444444444
         },
         {
          "code_3": "CZE",
          "text_len": 1906
         },
         {
          "code_3": "DDR",
          "text_len": 3353.4444444444443
         },
         {
          "code_3": "DEU",
          "text_len": 3750.1162790697676
         },
         {
          "code_3": "DJI",
          "text_len": 3046.4137931034484
         },
         {
          "code_3": "DMA",
          "text_len": 2332.0344827586205
         },
         {
          "code_3": "DNK",
          "text_len": 2620.3720930232557
         },
         {
          "code_3": "DOM",
          "text_len": 2735.5227272727275
         },
         {
          "code_3": "DZA",
          "text_len": 3304.108695652174
         },
         {
          "code_3": "ECU",
          "text_len": 2988.7391304347825
         },
         {
          "code_3": "EGY",
          "text_len": 3981.590909090909
         },
         {
          "code_3": "ERI",
          "text_len": 1702.1739130434783
         },
         {
          "code_3": "ESP",
          "text_len": 3358.8
         },
         {
          "code_3": "EST",
          "text_len": 1618.56
         },
         {
          "code_3": "ETH",
          "text_len": 3130.0222222222224
         },
         {
          "code_3": "EU",
          "text_len": 1698
         },
         {
          "code_3": "FIN",
          "text_len": 2033.2666666666667
         },
         {
          "code_3": "FJI",
          "text_len": 2954.1162790697676
         },
         {
          "code_3": "FRA",
          "text_len": 3600.4347826086955
         },
         {
          "code_3": "FSM",
          "text_len": 2282.8333333333335
         },
         {
          "code_3": "GAB",
          "text_len": 2478.5
         },
         {
          "code_3": "GBR",
          "text_len": 2950.086956521739
         },
         {
          "code_3": "GEO",
          "text_len": 3021.217391304348
         },
         {
          "code_3": "GHA",
          "text_len": 3002.3695652173915
         },
         {
          "code_3": "GIN",
          "text_len": 2837.511111111111
         },
         {
          "code_3": "GMB",
          "text_len": 3470.657894736842
         },
         {
          "code_3": "GNB",
          "text_len": 2424.7105263157896
         },
         {
          "code_3": "GNQ",
          "text_len": 2419.948717948718
         },
         {
          "code_3": "GRC",
          "text_len": 2931.5333333333333
         },
         {
          "code_3": "GRD",
          "text_len": 2750.45
         },
         {
          "code_3": "GTM",
          "text_len": 3063.7391304347825
         },
         {
          "code_3": "GUY",
          "text_len": 2995.4523809523807
         },
         {
          "code_3": "HND",
          "text_len": 2750.7272727272725
         },
         {
          "code_3": "HRV",
          "text_len": 2575.7916666666665
         },
         {
          "code_3": "HTI",
          "text_len": 2680.8636363636365
         },
         {
          "code_3": "HUN",
          "text_len": 2603.4
         },
         {
          "code_3": "IDN",
          "text_len": 3286.9347826086955
         },
         {
          "code_3": "IND",
          "text_len": 3437.1304347826085
         },
         {
          "code_3": "IRL",
          "text_len": 4284.466666666666
         },
         {
          "code_3": "IRN",
          "text_len": 3814.2391304347825
         },
         {
          "code_3": "IRQ",
          "text_len": 3518.891304347826
         },
         {
          "code_3": "ISL",
          "text_len": 2134.3478260869565
         },
         {
          "code_3": "ISR",
          "text_len": 3214.304347826087
         },
         {
          "code_3": "ITA",
          "text_len": 2875.521739130435
         },
         {
          "code_3": "JAM",
          "text_len": 3221.9333333333334
         },
         {
          "code_3": "JOR",
          "text_len": 2867.3333333333335
         },
         {
          "code_3": "JPN",
          "text_len": 3398.217391304348
         },
         {
          "code_3": "KAZ",
          "text_len": 2154.8333333333335
         },
         {
          "code_3": "KEN",
          "text_len": 3424.9333333333334
         },
         {
          "code_3": "KGZ",
          "text_len": 1797
         },
         {
          "code_3": "KHM",
          "text_len": 3328.8809523809523
         },
         {
          "code_3": "KIR",
          "text_len": 1844.5384615384614
         },
         {
          "code_3": "KNA",
          "text_len": 2480.8333333333335
         },
         {
          "code_3": "KOR",
          "text_len": 2424.12
         },
         {
          "code_3": "KWT",
          "text_len": 2982.866666666667
         },
         {
          "code_3": "LAO",
          "text_len": 2239.4444444444443
         },
         {
          "code_3": "LBN",
          "text_len": 2692.8333333333335
         },
         {
          "code_3": "LBR",
          "text_len": 2956
         },
         {
          "code_3": "LBY",
          "text_len": 4074.4772727272725
         },
         {
          "code_3": "LCA",
          "text_len": 2859.46875
         },
         {
          "code_3": "LIE",
          "text_len": 1538.1153846153845
         },
         {
          "code_3": "LKA",
          "text_len": 3250.3260869565215
         },
         {
          "code_3": "LSO",
          "text_len": 2672.0243902439024
         },
         {
          "code_3": "LTU",
          "text_len": 1542.12
         },
         {
          "code_3": "LUX",
          "text_len": 3101.4883720930234
         },
         {
          "code_3": "LVA",
          "text_len": 1750.64
         },
         {
          "code_3": "MAR",
          "text_len": 3320.108695652174
         },
         {
          "code_3": "MCO",
          "text_len": 1817.5652173913043
         },
         {
          "code_3": "MDA",
          "text_len": 2023.0416666666667
         },
         {
          "code_3": "MDG",
          "text_len": 2885.5714285714284
         },
         {
          "code_3": "MDV",
          "text_len": 2246.769230769231
         },
         {
          "code_3": "MEX",
          "text_len": 3228.4565217391305
         },
         {
          "code_3": "MHL",
          "text_len": 1902.5833333333333
         },
         {
          "code_3": "MKD",
          "text_len": 2024.8695652173913
         },
         {
          "code_3": "MLI",
          "text_len": 3335.4418604651164
         },
         {
          "code_3": "MLT",
          "text_len": 3315.190476190476
         },
         {
          "code_3": "MMR",
          "text_len": 2653.488888888889
         },
         {
          "code_3": "MNE",
          "text_len": 1562.4
         },
         {
          "code_3": "MNG",
          "text_len": 2788.822222222222
         },
         {
          "code_3": "MOZ",
          "text_len": 3379.05
         },
         {
          "code_3": "MRT",
          "text_len": 2688.822222222222
         },
         {
          "code_3": "MUS",
          "text_len": 2961.177777777778
         },
         {
          "code_3": "MWI",
          "text_len": 2494.4166666666665
         },
         {
          "code_3": "MYS",
          "text_len": 3025.866666666667
         },
         {
          "code_3": "NAM",
          "text_len": 2296.730769230769
         },
         {
          "code_3": "NER",
          "text_len": 2842.068181818182
         },
         {
          "code_3": "NGA",
          "text_len": 2992.177777777778
         },
         {
          "code_3": "NIC",
          "text_len": 2815.1363636363635
         },
         {
          "code_3": "NLD",
          "text_len": 2947.7391304347825
         },
         {
          "code_3": "NOR",
          "text_len": 2200.3636363636365
         },
         {
          "code_3": "NPL",
          "text_len": 2950.8444444444444
         },
         {
          "code_3": "NRU",
          "text_len": 1946.25
         },
         {
          "code_3": "NZL",
          "text_len": 2953.282608695652
         },
         {
          "code_3": "OMN",
          "text_len": 2411.093023255814
         },
         {
          "code_3": "PAK",
          "text_len": 3359.8478260869565
         },
         {
          "code_3": "PAN",
          "text_len": 3235.214285714286
         },
         {
          "code_3": "PER",
          "text_len": 2787.0652173913045
         },
         {
          "code_3": "PHL",
          "text_len": 2608.695652173913
         },
         {
          "code_3": "PLW",
          "text_len": 1517.9444444444443
         },
         {
          "code_3": "PNG",
          "text_len": 2704.675
         },
         {
          "code_3": "POL",
          "text_len": 3012.1111111111113
         },
         {
          "code_3": "PRK",
          "text_len": 2439.64
         },
         {
          "code_3": "PRT",
          "text_len": 3157.0227272727275
         },
         {
          "code_3": "PRY",
          "text_len": 2713.8888888888887
         },
         {
          "code_3": "PSE",
          "text_len": 2608.8888888888887
         },
         {
          "code_3": "QAT",
          "text_len": 2155.9333333333334
         },
         {
          "code_3": "ROU",
          "text_len": 3208.0444444444443
         },
         {
          "code_3": "RUS",
          "text_len": 4400.666666666667
         },
         {
          "code_3": "RWA",
          "text_len": 2940.4347826086955
         },
         {
          "code_3": "SAU",
          "text_len": 3139.6176470588234
         },
         {
          "code_3": "SDN",
          "text_len": 3472.1304347826085
         },
         {
          "code_3": "SEN",
          "text_len": 3379.409090909091
         },
         {
          "code_3": "SGP",
          "text_len": 2409.866666666667
         },
         {
          "code_3": "SLB",
          "text_len": 2445.5454545454545
         },
         {
          "code_3": "SLE",
          "text_len": 3087.266666666667
         },
         {
          "code_3": "SLV",
          "text_len": 3185.7608695652175
         },
         {
          "code_3": "SMR",
          "text_len": 1650.375
         },
         {
          "code_3": "SOM",
          "text_len": 3137.1944444444443
         },
         {
          "code_3": "SSD",
          "text_len": 1835
         },
         {
          "code_3": "STP",
          "text_len": 2205.9032258064517
         },
         {
          "code_3": "SUR",
          "text_len": 2445.5
         },
         {
          "code_3": "SVK",
          "text_len": 2002.5217391304348
         },
         {
          "code_3": "SVN",
          "text_len": 1624.5
         },
         {
          "code_3": "SWE",
          "text_len": 2584.681818181818
         },
         {
          "code_3": "SWZ",
          "text_len": 2247.7837837837837
         },
         {
          "code_3": "SYC",
          "text_len": 1944.3333333333333
         },
         {
          "code_3": "SYR",
          "text_len": 2943
         },
         {
          "code_3": "TCD",
          "text_len": 2824.340909090909
         },
         {
          "code_3": "TGO",
          "text_len": 3014.9555555555557
         },
         {
          "code_3": "THA",
          "text_len": 2852.068181818182
         },
         {
          "code_3": "TJK",
          "text_len": 2224.125
         },
         {
          "code_3": "TKM",
          "text_len": 1894.8
         },
         {
          "code_3": "TLS",
          "text_len": 2354.846153846154
         },
         {
          "code_3": "TON",
          "text_len": 1496.4666666666667
         },
         {
          "code_3": "TTO",
          "text_len": 3044.025641025641
         },
         {
          "code_3": "TUN",
          "text_len": 3282.282608695652
         },
         {
          "code_3": "TUR",
          "text_len": 3177.478260869565
         },
         {
          "code_3": "TUV",
          "text_len": 1932.9333333333334
         },
         {
          "code_3": "TZA",
          "text_len": 3395.4222222222224
         },
         {
          "code_3": "UGA",
          "text_len": 2954.8333333333335
         },
         {
          "code_3": "UKR",
          "text_len": 3167.4347826086955
         },
         {
          "code_3": "URY",
          "text_len": 3281.695652173913
         },
         {
          "code_3": "USA",
          "text_len": 3831.5652173913045
         },
         {
          "code_3": "UZB",
          "text_len": 1484.7
         },
         {
          "code_3": "VAT",
          "text_len": 2264.153846153846
         },
         {
          "code_3": "VCT",
          "text_len": 2565.0588235294117
         },
         {
          "code_3": "VEN",
          "text_len": 3245.9565217391305
         },
         {
          "code_3": "VNM",
          "text_len": 2691.0263157894738
         },
         {
          "code_3": "VUT",
          "text_len": 2746.733333333333
         },
         {
          "code_3": "WSM",
          "text_len": 2263.3548387096776
         },
         {
          "code_3": "YDYE",
          "text_len": 2734
         },
         {
          "code_3": "YEM",
          "text_len": 2843.9555555555557
         },
         {
          "code_3": "YUG",
          "text_len": 2926.2162162162163
         },
         {
          "code_3": "ZAF",
          "text_len": 2287.222222222222
         },
         {
          "code_3": "ZMB",
          "text_len": 3056.048780487805
         },
         {
          "code_3": "ZWE",
          "text_len": 2760.3142857142857
         }
        ]
       },
       "encoding": {
        "x": {
         "bin": true,
         "field": "text_len",
         "type": "quantitative"
        },
        "y": {
         "aggregate": "count",
         "type": "quantitative"
        }
       },
       "mark": "bar"
      },
      "image/png": "[encoded data removed]",
      "text/plain": [
       "<VegaLite 2 object>\n",
       "\n",
       "If you see this message, it means the renderer has not been properly enabled\n",
       "for the frontend that you are using. For more information, see\n",
       "https://altair-viz.github.io/user_guide/troubleshooting.html\n"
      ]
     },
     "execution_count": 63,
     "metadata": {},
     "output_type": "execute_result"
    }
   ],
   "source": [
    "alt.Chart(undf.groupby('code_3', as_index=False)['text_len'].mean()).mark_bar().encode(\n",
    "alt.X('text_len', bin=True), y='count()')"
   ]
  },
  {
   "cell_type": "code",
   "execution_count": 64,
   "metadata": {},
   "outputs": [
    {
     "data": {
      "text/html": [
       "<div>\n",
       "<style scoped>\n",
       "    .dataframe tbody tr th:only-of-type {\n",
       "        vertical-align: middle;\n",
       "    }\n",
       "\n",
       "    .dataframe tbody tr th {\n",
       "        vertical-align: top;\n",
       "    }\n",
       "\n",
       "    .dataframe thead th {\n",
       "        text-align: right;\n",
       "    }\n",
       "</style>\n",
       "<table border=\"1\" class=\"dataframe\">\n",
       "  <thead>\n",
       "    <tr style=\"text-align: right;\">\n",
       "      <th></th>\n",
       "      <th>code_3</th>\n",
       "      <th>text_len</th>\n",
       "    </tr>\n",
       "  </thead>\n",
       "  <tbody>\n",
       "    <tr>\n",
       "      <th>25</th>\n",
       "      <td>BRN</td>\n",
       "      <td>1146.870968</td>\n",
       "    </tr>\n",
       "    <tr>\n",
       "      <th>186</th>\n",
       "      <td>UZB</td>\n",
       "      <td>1484.700000</td>\n",
       "    </tr>\n",
       "    <tr>\n",
       "      <th>176</th>\n",
       "      <td>TON</td>\n",
       "      <td>1496.466667</td>\n",
       "    </tr>\n",
       "    <tr>\n",
       "      <th>141</th>\n",
       "      <td>PLW</td>\n",
       "      <td>1517.944444</td>\n",
       "    </tr>\n",
       "    <tr>\n",
       "      <th>103</th>\n",
       "      <td>LIE</td>\n",
       "      <td>1538.115385</td>\n",
       "    </tr>\n",
       "  </tbody>\n",
       "</table>\n",
       "</div>"
      ],
      "text/plain": [
       "    code_3     text_len\n",
       "25     BRN  1146.870968\n",
       "186    UZB  1484.700000\n",
       "176    TON  1496.466667\n",
       "141    PLW  1517.944444\n",
       "103    LIE  1538.115385"
      ]
     },
     "execution_count": 64,
     "metadata": {},
     "output_type": "execute_result"
    }
   ],
   "source": [
    "undf.groupby('code_3', as_index=False)['text_len'].mean().sort_values('text_len').head()"
   ]
  },
  {
   "cell_type": "code",
   "execution_count": 65,
   "metadata": {},
   "outputs": [
    {
     "data": {
      "text/html": [
       "<div>\n",
       "<style scoped>\n",
       "    .dataframe tbody tr th:only-of-type {\n",
       "        vertical-align: middle;\n",
       "    }\n",
       "\n",
       "    .dataframe tbody tr th {\n",
       "        vertical-align: top;\n",
       "    }\n",
       "\n",
       "    .dataframe thead th {\n",
       "        text-align: right;\n",
       "    }\n",
       "</style>\n",
       "<table border=\"1\" class=\"dataframe\">\n",
       "  <thead>\n",
       "    <tr style=\"text-align: right;\">\n",
       "      <th></th>\n",
       "      <th>code_3</th>\n",
       "      <th>text_len</th>\n",
       "    </tr>\n",
       "  </thead>\n",
       "  <tbody>\n",
       "    <tr>\n",
       "      <th>53</th>\n",
       "      <td>EGY</td>\n",
       "      <td>3981.590909</td>\n",
       "    </tr>\n",
       "    <tr>\n",
       "      <th>101</th>\n",
       "      <td>LBY</td>\n",
       "      <td>4074.477273</td>\n",
       "    </tr>\n",
       "    <tr>\n",
       "      <th>42</th>\n",
       "      <td>CUB</td>\n",
       "      <td>4100.217391</td>\n",
       "    </tr>\n",
       "    <tr>\n",
       "      <th>81</th>\n",
       "      <td>IRL</td>\n",
       "      <td>4284.466667</td>\n",
       "    </tr>\n",
       "    <tr>\n",
       "      <th>150</th>\n",
       "      <td>RUS</td>\n",
       "      <td>4400.666667</td>\n",
       "    </tr>\n",
       "  </tbody>\n",
       "</table>\n",
       "</div>"
      ],
      "text/plain": [
       "    code_3     text_len\n",
       "53     EGY  3981.590909\n",
       "101    LBY  4074.477273\n",
       "42     CUB  4100.217391\n",
       "81     IRL  4284.466667\n",
       "150    RUS  4400.666667"
      ]
     },
     "execution_count": 65,
     "metadata": {},
     "output_type": "execute_result"
    }
   ],
   "source": [
    "undf.groupby('code_3', as_index=False)['text_len'].mean().sort_values('text_len').tail()"
   ]
  }
 ],
 "metadata": {
  "kernelspec": {
   "display_name": "Python 3",
   "language": "python",
   "name": "python3"
  },
  "language_info": {
   "codemirror_mode": {
    "name": "ipython",
    "version": 3
   },
   "file_extension": ".py",
   "mimetype": "text/x-python",
   "name": "python",
   "nbconvert_exporter": "python",
   "pygments_lexer": "ipython3",
   "version": "3.7.4"
  }
 },
 "nbformat": 4,
 "nbformat_minor": 4
}
