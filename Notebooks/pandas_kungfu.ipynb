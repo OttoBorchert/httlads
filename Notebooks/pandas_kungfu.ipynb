{
 "cells": [
  {
   "cell_type": "markdown",
   "metadata": {},
   "source": [
    "# Pandas exercises\n",
    "\n",
    "Before attempting this exercise, make sure you've read through the first four pages of [Chapter 3](https://jakevdp.github.io/PythonDataScienceHandbook/03.00-introduction-to-pandas.html) of the Python Data Science Handbook.\n",
    "\n",
    "We're going to be using a dataset about movies to try out processing some data with Pandas.\n",
    "\n",
    "We start with some standard imports:"
   ]
  },
  {
   "cell_type": "code",
   "execution_count": 1,
   "metadata": {},
   "outputs": [],
   "source": [
    "import ast\n",
    "import pandas as pd\n",
    "import numpy as np"
   ]
  },
  {
   "cell_type": "markdown",
   "metadata": {},
   "source": [
    "Then we load the data from a local file and checkout the data:"
   ]
  },
  {
   "cell_type": "code",
   "execution_count": 2,
   "metadata": {},
   "outputs": [
    {
     "data": {
      "text/plain": [
       "0        30000000\n",
       "1        65000000\n",
       "2               0\n",
       "3        16000000\n",
       "4               0\n",
       "           ...   \n",
       "45448           0\n",
       "45449           0\n",
       "45450           0\n",
       "45451           0\n",
       "45452           0\n",
       "Name: budget, Length: 45453, dtype: int64"
      ]
     },
     "execution_count": 2,
     "metadata": {},
     "output_type": "execute_result"
    }
   ],
   "source": [
    "df = pd.read_csv('../Data/movies_metadata.csv').dropna(axis=1, how='all')\n",
    "df.budget"
   ]
  },
  {
   "cell_type": "markdown",
   "metadata": {},
   "source": [
    "## Exploring the data\n",
    "\n",
    "This dataset was obtained from [Kaggle](https://www.kaggle.com/rounakbanik/the-movies-dataset/home) who downloaded it\n",
    "through the TMDB API. \n",
    "\n",
    "The movies available in this dataset are in correspondence with the movies that are listed in the MovieLens \n",
    "Latest Full Dataset.\n",
    "\n",
    "Let's see what data we have:"
   ]
  },
  {
   "cell_type": "code",
   "execution_count": 6,
   "metadata": {},
   "outputs": [
    {
     "data": {
      "text/plain": [
       "(45453, 23)"
      ]
     },
     "execution_count": 6,
     "metadata": {},
     "output_type": "execute_result"
    }
   ],
   "source": [
    "df.shape"
   ]
  },
  {
   "cell_type": "markdown",
   "metadata": {},
   "source": [
    "Twenty-three columns of data for over 45,000 movies is going be a lot to look at but let's start by looking at what the columns represent:"
   ]
  },
  {
   "cell_type": "code",
   "execution_count": 7,
   "metadata": {},
   "outputs": [
    {
     "data": {
      "text/plain": [
       "Index(['belongs_to_collection', 'budget', 'genres', 'homepage', 'id',\n",
       "       'imdb_id', 'original_language', 'original_title', 'overview',\n",
       "       'popularity', 'poster_path', 'production_companies',\n",
       "       'production_countries', 'release_date', 'revenue', 'runtime',\n",
       "       'spoken_languages', 'status', 'tagline', 'title', 'video',\n",
       "       'vote_average', 'vote_count'],\n",
       "      dtype='object')"
      ]
     },
     "execution_count": 7,
     "metadata": {},
     "output_type": "execute_result"
    }
   ],
   "source": [
    "df.columns"
   ]
  },
  {
   "cell_type": "markdown",
   "metadata": {},
   "source": [
    "Here's an explanation of each column:\n",
    "- __belongs_to_collection__: A stringified dictionary that identifies the collection that a movie belongs to (if any).\n",
    "- __budget__: The budget of the movie in dollars.\n",
    "- __genres__: A stringified list of dictionaries that list out all the genres associated with the movie.\n",
    "- __homepage__: The Official Homepage of the movie.\n",
    "- __id__: An arbitrary ID for the movie.\n",
    "- __imdb_id__: The IMDB ID of the movie.\n",
    "- __original_language__: The language in which the movie was filmed.\n",
    "- __original_title__: The title of the movie in its original language.\n",
    "- __overview__: A blurb of the movie.\n",
    "- __popularity__: The Popularity Score assigned by TMDB.\n",
    "- __poster_path__: The URL of the poster image (relative to http://image.tmdb.org/t/p/w185/).\n",
    "- __production_companies__: A stringified list of production companies involved with the making of the movie.\n",
    "- __production_countries__: A stringified list of countries where the movie was filmed or produced.\n",
    "- __release_date__: Theatrical release date of the movie.\n",
    "- __revenue__: World-wide revenue of the movie in dollars.\n",
    "- __runtime__: Duration of the movie in minutes.\n",
    "- __spoken_languages__: A stringified list of spoken languages in the film.\n",
    "- __status__: Released, To Be Released, Announced, etc.\n",
    "- __tagline__: The tagline of the movie.\n",
    "- __title__: The official title of the movie.\n",
    "- __video__: Indicates if there is a video present of the movie with TMDB.\n",
    "- __vote_average__: The average rating of the movie on TMDB.\n",
    "- __vote_count__: The number of votes by users, as counted by TMDB.\n",
    "\n",
    "## Filtering the data \n",
    "\n",
    "Let's start by only looking at films that cost over a million dollars to make. \n",
    "\n",
    "Create a variable called `budget_df` that contains all columns for the movies whose budget was over a million dollars."
   ]
  },
  {
   "cell_type": "code",
   "execution_count": null,
   "metadata": {},
   "outputs": [],
   "source": [
    "budget_df =  []\n",
    "budget_df.shape"
   ]
  },
  {
   "cell_type": "markdown",
   "metadata": {},
   "source": [
    "With this more manageable list of 7000+ movies, I'd like to have a way to look up the budget of a particular movie.\n",
    "\n",
    "Create a Series object called `budget_lookup` such that you are able to use a call to `budget_lookup['Dead Presidents']` to find the budget of that movie."
   ]
  },
  {
   "cell_type": "code",
   "execution_count": null,
   "metadata": {},
   "outputs": [],
   "source": [
    "budget_lookup = []\n",
    "budget_lookup['Dead Presidents']"
   ]
  },
  {
   "cell_type": "markdown",
   "metadata": {},
   "source": [
    "I have figured out that the first (alphabetically) movie whose title starts with an 'A' is 'A Bag of Hammers' and the last movie that starts with a 'B' is 'Byzantium'."
   ]
  },
  {
   "cell_type": "code",
   "execution_count": null,
   "metadata": {},
   "outputs": [],
   "source": [
    "budget_lookup[budget_lookup.index.str.startswith('A')].sort_index()[[0]]"
   ]
  },
  {
   "cell_type": "code",
   "execution_count": null,
   "metadata": {},
   "outputs": [],
   "source": [
    "budget_lookup[budget_lookup.index.str.startswith('B')].sort_index()[[-1]]"
   ]
  },
  {
   "cell_type": "markdown",
   "metadata": {},
   "source": [
    "Use that knowledge to create a series that contains budget informations for all the movies that start with an 'A' or a 'B'. \n",
    "\n",
    "HINT: No need to use startswith like I did above, just use the movie titles to do a slice."
   ]
  },
  {
   "cell_type": "code",
   "execution_count": null,
   "metadata": {},
   "outputs": [],
   "source": [
    "budget_lookup_as_and_bs = []\n",
    "budget_lookup_as_and_bs.shape"
   ]
  },
  {
   "cell_type": "markdown",
   "metadata": {},
   "source": [
    "## Numbers as indices\n",
    "\n",
    "Enough about movie budgets, it's time to budget my time instead. Because I schedule my day to the minute, I like to be able to look up movies by their runtime. So that when I have a spare two hours and 34 minutes, I can find all the movies that would fit precisely in that time slot (popcorn-making time is budgeted separately).\n",
    "\n",
    "Create a Series called `time_scheduler` that is indexed by runtime and has the movie's title as its values. Note that you will need to use `sort_index()` in order to be able to look up movies by their duration.\n",
    "\n",
    "While you're at it, remove any movie that is less than 10 minutes (can't get into it if it's too short) or longer than 3 hours (who's got time for that).\n",
    "\n",
    "HINT: You'll have to use `pd.to_numeric` to force the runtimes to be numbers (instead of numbers in a string)"
   ]
  },
  {
   "cell_type": "code",
   "execution_count": null,
   "metadata": {},
   "outputs": [],
   "source": [
    "time_scheduler = []\n",
    "time_scheduler"
   ]
  },
  {
   "cell_type": "markdown",
   "metadata": {},
   "source": [
    "Now let's find all those two-hour-and-34-minute movies:"
   ]
  },
  {
   "cell_type": "code",
   "execution_count": null,
   "metadata": {},
   "outputs": [],
   "source": [
    "time_scheduler[154]"
   ]
  },
  {
   "cell_type": "markdown",
   "metadata": {},
   "source": [
    "But what is the 154th shortest movie in this collection?"
   ]
  },
  {
   "cell_type": "code",
   "execution_count": null,
   "metadata": {},
   "outputs": [],
   "source": [
    "movie_number_154 = time_scheduler.iloc[154]\n",
    "movie_number_154"
   ]
  },
  {
   "cell_type": "markdown",
   "metadata": {},
   "source": [
    "## Dealing with multiple DataFrames\n",
    "\n",
    "Forget about budget or runtimes as criteria for selecting a movie, let's take a look at popular opinion. Our dataset has two relevant columns: vote_average and vote_count.\n",
    "\n",
    "Let's create a variable called `df_high_rated` that only contains movies that have received more than 20 votes and whose average score is greater than 8."
   ]
  },
  {
   "cell_type": "code",
   "execution_count": null,
   "metadata": {},
   "outputs": [],
   "source": [
    "df_highly_voted = []\n",
    "df_high_rated = []\n",
    "df_high_rated[['title', 'vote_average', 'vote_count']]\n"
   ]
  },
  {
   "cell_type": "markdown",
   "metadata": {},
   "source": [
    "Here we have 178 high-quality movies, at least according to some people. But what about **my** opinion? \n",
    "\n",
    "Here are my favorite movies and their relative scores, create a DataFrame called `compare_votes` that contains the title as an index and both the vote_average and my_vote as its columns. Also only keep the movies that are both my favorites and popular favorites.\n",
    "\n",
    "HINT: You'll need to create two Series, one for my ratings and one that maps titles to vote_average."
   ]
  },
  {
   "cell_type": "code",
   "execution_count": null,
   "metadata": {},
   "outputs": [],
   "source": [
    "{\n",
    "    \"Star Wars\": 9,\n",
    "    \"Paris is Burning\": 8,\n",
    "    \"Dead Poets Society\": 7,\n",
    "    \"The Empire Strikes Back\": 9.5,\n",
    "    \"The Shining\": 8,\n",
    "    \"Return of the Jedi\": 8,\n",
    "    \"1941\": 8,\n",
    "    \"Forrest Gump\": 7.5,\n",
    "}\n",
    "compare_votes"
   ]
  },
  {
   "cell_type": "markdown",
   "metadata": {},
   "source": [
    "There should be only 6 movies remaining.\n",
    "\n",
    "Now add a column to `compare_votes` that measures the percentage difference between my rating and the popular rating for each movie. You'll need to take the different between the vote_average and my_vote and divide it by my_vote.\n"
   ]
  },
  {
   "cell_type": "code",
   "execution_count": null,
   "metadata": {},
   "outputs": [],
   "source": [
    "compare_votes"
   ]
  }
 ],
 "metadata": {
  "kernelspec": {
   "display_name": "Python 3",
   "language": "python",
   "name": "python3"
  },
  "language_info": {
   "codemirror_mode": {
    "name": "ipython",
    "version": 3
   },
   "file_extension": ".py",
   "mimetype": "text/x-python",
   "name": "python",
   "nbconvert_exporter": "python",
   "pygments_lexer": "ipython3",
   "version": "3.7.5"
  }
 },
 "nbformat": 4,
 "nbformat_minor": 4
}
